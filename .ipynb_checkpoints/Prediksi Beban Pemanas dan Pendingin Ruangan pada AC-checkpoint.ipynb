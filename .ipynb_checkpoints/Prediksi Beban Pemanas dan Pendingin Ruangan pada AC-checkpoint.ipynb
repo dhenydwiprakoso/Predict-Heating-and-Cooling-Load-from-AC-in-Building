{
 "cells": [
  {
   "cell_type": "code",
   "execution_count": 71,
   "metadata": {},
   "outputs": [],
   "source": [
    "import numpy as np\n",
    "import pandas as pd\n",
    "import seaborn as sns\n",
    "import matplotlib.pyplot as plt\n",
    "\n",
    "from math import sqrt\n",
    "from sklearn.preprocessing import StandardScaler\n",
    "from sklearn.model_selection import train_test_split\n",
    "\n",
    "from sklearn.neighbors import KNeighborsRegressor\n",
    "from sklearn.ensemble import RandomForestRegressor\n",
    "import tensorflow as tf\n",
    "from tensorflow.keras.layers import Input, Dense, Activation\n",
    "from tensorflow.keras import layers, Sequential\n",
    "\n",
    "\n",
    "from sklearn.metrics import r2_score"
   ]
  },
  {
   "cell_type": "code",
   "execution_count": 72,
   "metadata": {},
   "outputs": [],
   "source": [
    "data = pd.read_excel(\"data/ENB2012_data.xlsx\")"
   ]
  },
  {
   "cell_type": "code",
   "execution_count": 73,
   "metadata": {},
   "outputs": [],
   "source": [
    "data.columns = [\"Relative Compactness\", \"Surface Area\", \"Wall Area\", \"Roof Area\",\n",
    "               \"Overall Height\", \"Orientation\", \"Glazing Area\", \"Glazing Area Distribution\", \"Heating Load\", \"Cooling Load\"]"
   ]
  },
  {
   "cell_type": "markdown",
   "metadata": {},
   "source": [
    "<h1> Eksplorasi Data Analisis"
   ]
  },
  {
   "cell_type": "code",
   "execution_count": 74,
   "metadata": {},
   "outputs": [
    {
     "data": {
      "text/html": [
       "<div>\n",
       "<style scoped>\n",
       "    .dataframe tbody tr th:only-of-type {\n",
       "        vertical-align: middle;\n",
       "    }\n",
       "\n",
       "    .dataframe tbody tr th {\n",
       "        vertical-align: top;\n",
       "    }\n",
       "\n",
       "    .dataframe thead th {\n",
       "        text-align: right;\n",
       "    }\n",
       "</style>\n",
       "<table border=\"1\" class=\"dataframe\">\n",
       "  <thead>\n",
       "    <tr style=\"text-align: right;\">\n",
       "      <th></th>\n",
       "      <th>Relative Compactness</th>\n",
       "      <th>Surface Area</th>\n",
       "      <th>Wall Area</th>\n",
       "      <th>Roof Area</th>\n",
       "      <th>Overall Height</th>\n",
       "      <th>Orientation</th>\n",
       "      <th>Glazing Area</th>\n",
       "      <th>Glazing Area Distribution</th>\n",
       "      <th>Heating Load</th>\n",
       "      <th>Cooling Load</th>\n",
       "    </tr>\n",
       "  </thead>\n",
       "  <tbody>\n",
       "    <tr>\n",
       "      <th>758</th>\n",
       "      <td>0.66</td>\n",
       "      <td>759.5</td>\n",
       "      <td>318.5</td>\n",
       "      <td>220.5</td>\n",
       "      <td>3.5</td>\n",
       "      <td>4</td>\n",
       "      <td>0.4</td>\n",
       "      <td>5</td>\n",
       "      <td>14.92</td>\n",
       "      <td>17.55</td>\n",
       "    </tr>\n",
       "    <tr>\n",
       "      <th>759</th>\n",
       "      <td>0.66</td>\n",
       "      <td>759.5</td>\n",
       "      <td>318.5</td>\n",
       "      <td>220.5</td>\n",
       "      <td>3.5</td>\n",
       "      <td>5</td>\n",
       "      <td>0.4</td>\n",
       "      <td>5</td>\n",
       "      <td>15.16</td>\n",
       "      <td>18.06</td>\n",
       "    </tr>\n",
       "    <tr>\n",
       "      <th>760</th>\n",
       "      <td>0.64</td>\n",
       "      <td>784.0</td>\n",
       "      <td>343.0</td>\n",
       "      <td>220.5</td>\n",
       "      <td>3.5</td>\n",
       "      <td>2</td>\n",
       "      <td>0.4</td>\n",
       "      <td>5</td>\n",
       "      <td>17.69</td>\n",
       "      <td>20.82</td>\n",
       "    </tr>\n",
       "    <tr>\n",
       "      <th>761</th>\n",
       "      <td>0.64</td>\n",
       "      <td>784.0</td>\n",
       "      <td>343.0</td>\n",
       "      <td>220.5</td>\n",
       "      <td>3.5</td>\n",
       "      <td>3</td>\n",
       "      <td>0.4</td>\n",
       "      <td>5</td>\n",
       "      <td>18.19</td>\n",
       "      <td>20.21</td>\n",
       "    </tr>\n",
       "    <tr>\n",
       "      <th>762</th>\n",
       "      <td>0.64</td>\n",
       "      <td>784.0</td>\n",
       "      <td>343.0</td>\n",
       "      <td>220.5</td>\n",
       "      <td>3.5</td>\n",
       "      <td>4</td>\n",
       "      <td>0.4</td>\n",
       "      <td>5</td>\n",
       "      <td>18.16</td>\n",
       "      <td>20.71</td>\n",
       "    </tr>\n",
       "    <tr>\n",
       "      <th>763</th>\n",
       "      <td>0.64</td>\n",
       "      <td>784.0</td>\n",
       "      <td>343.0</td>\n",
       "      <td>220.5</td>\n",
       "      <td>3.5</td>\n",
       "      <td>5</td>\n",
       "      <td>0.4</td>\n",
       "      <td>5</td>\n",
       "      <td>17.88</td>\n",
       "      <td>21.40</td>\n",
       "    </tr>\n",
       "    <tr>\n",
       "      <th>764</th>\n",
       "      <td>0.62</td>\n",
       "      <td>808.5</td>\n",
       "      <td>367.5</td>\n",
       "      <td>220.5</td>\n",
       "      <td>3.5</td>\n",
       "      <td>2</td>\n",
       "      <td>0.4</td>\n",
       "      <td>5</td>\n",
       "      <td>16.54</td>\n",
       "      <td>16.88</td>\n",
       "    </tr>\n",
       "    <tr>\n",
       "      <th>765</th>\n",
       "      <td>0.62</td>\n",
       "      <td>808.5</td>\n",
       "      <td>367.5</td>\n",
       "      <td>220.5</td>\n",
       "      <td>3.5</td>\n",
       "      <td>3</td>\n",
       "      <td>0.4</td>\n",
       "      <td>5</td>\n",
       "      <td>16.44</td>\n",
       "      <td>17.11</td>\n",
       "    </tr>\n",
       "    <tr>\n",
       "      <th>766</th>\n",
       "      <td>0.62</td>\n",
       "      <td>808.5</td>\n",
       "      <td>367.5</td>\n",
       "      <td>220.5</td>\n",
       "      <td>3.5</td>\n",
       "      <td>4</td>\n",
       "      <td>0.4</td>\n",
       "      <td>5</td>\n",
       "      <td>16.48</td>\n",
       "      <td>16.61</td>\n",
       "    </tr>\n",
       "    <tr>\n",
       "      <th>767</th>\n",
       "      <td>0.62</td>\n",
       "      <td>808.5</td>\n",
       "      <td>367.5</td>\n",
       "      <td>220.5</td>\n",
       "      <td>3.5</td>\n",
       "      <td>5</td>\n",
       "      <td>0.4</td>\n",
       "      <td>5</td>\n",
       "      <td>16.64</td>\n",
       "      <td>16.03</td>\n",
       "    </tr>\n",
       "  </tbody>\n",
       "</table>\n",
       "</div>"
      ],
      "text/plain": [
       "     Relative Compactness  Surface Area  Wall Area  Roof Area  Overall Height  \\\n",
       "758                  0.66         759.5      318.5      220.5             3.5   \n",
       "759                  0.66         759.5      318.5      220.5             3.5   \n",
       "760                  0.64         784.0      343.0      220.5             3.5   \n",
       "761                  0.64         784.0      343.0      220.5             3.5   \n",
       "762                  0.64         784.0      343.0      220.5             3.5   \n",
       "763                  0.64         784.0      343.0      220.5             3.5   \n",
       "764                  0.62         808.5      367.5      220.5             3.5   \n",
       "765                  0.62         808.5      367.5      220.5             3.5   \n",
       "766                  0.62         808.5      367.5      220.5             3.5   \n",
       "767                  0.62         808.5      367.5      220.5             3.5   \n",
       "\n",
       "     Orientation  Glazing Area  Glazing Area Distribution  Heating Load  \\\n",
       "758            4           0.4                          5         14.92   \n",
       "759            5           0.4                          5         15.16   \n",
       "760            2           0.4                          5         17.69   \n",
       "761            3           0.4                          5         18.19   \n",
       "762            4           0.4                          5         18.16   \n",
       "763            5           0.4                          5         17.88   \n",
       "764            2           0.4                          5         16.54   \n",
       "765            3           0.4                          5         16.44   \n",
       "766            4           0.4                          5         16.48   \n",
       "767            5           0.4                          5         16.64   \n",
       "\n",
       "     Cooling Load  \n",
       "758         17.55  \n",
       "759         18.06  \n",
       "760         20.82  \n",
       "761         20.21  \n",
       "762         20.71  \n",
       "763         21.40  \n",
       "764         16.88  \n",
       "765         17.11  \n",
       "766         16.61  \n",
       "767         16.03  "
      ]
     },
     "execution_count": 74,
     "metadata": {},
     "output_type": "execute_result"
    }
   ],
   "source": [
    "data.tail(10)\n",
    "#sepertinya akan lebih menggunakan regresi"
   ]
  },
  {
   "cell_type": "code",
   "execution_count": 75,
   "metadata": {},
   "outputs": [
    {
     "name": "stdout",
     "output_type": "stream",
     "text": [
      "<class 'pandas.core.frame.DataFrame'>\n",
      "RangeIndex: 768 entries, 0 to 767\n",
      "Data columns (total 10 columns):\n",
      " #   Column                     Non-Null Count  Dtype  \n",
      "---  ------                     --------------  -----  \n",
      " 0   Relative Compactness       768 non-null    float64\n",
      " 1   Surface Area               768 non-null    float64\n",
      " 2   Wall Area                  768 non-null    float64\n",
      " 3   Roof Area                  768 non-null    float64\n",
      " 4   Overall Height             768 non-null    float64\n",
      " 5   Orientation                768 non-null    int64  \n",
      " 6   Glazing Area               768 non-null    float64\n",
      " 7   Glazing Area Distribution  768 non-null    int64  \n",
      " 8   Heating Load               768 non-null    float64\n",
      " 9   Cooling Load               768 non-null    float64\n",
      "dtypes: float64(8), int64(2)\n",
      "memory usage: 60.1 KB\n"
     ]
    }
   ],
   "source": [
    "data.info()"
   ]
  },
  {
   "cell_type": "code",
   "execution_count": 76,
   "metadata": {},
   "outputs": [
    {
     "data": {
      "text/html": [
       "<div>\n",
       "<style scoped>\n",
       "    .dataframe tbody tr th:only-of-type {\n",
       "        vertical-align: middle;\n",
       "    }\n",
       "\n",
       "    .dataframe tbody tr th {\n",
       "        vertical-align: top;\n",
       "    }\n",
       "\n",
       "    .dataframe thead th {\n",
       "        text-align: right;\n",
       "    }\n",
       "</style>\n",
       "<table border=\"1\" class=\"dataframe\">\n",
       "  <thead>\n",
       "    <tr style=\"text-align: right;\">\n",
       "      <th></th>\n",
       "      <th>Relative Compactness</th>\n",
       "      <th>Surface Area</th>\n",
       "      <th>Wall Area</th>\n",
       "      <th>Roof Area</th>\n",
       "      <th>Overall Height</th>\n",
       "      <th>Orientation</th>\n",
       "      <th>Glazing Area</th>\n",
       "      <th>Glazing Area Distribution</th>\n",
       "      <th>Heating Load</th>\n",
       "      <th>Cooling Load</th>\n",
       "    </tr>\n",
       "  </thead>\n",
       "  <tbody>\n",
       "    <tr>\n",
       "      <th>count</th>\n",
       "      <td>768.000000</td>\n",
       "      <td>768.000000</td>\n",
       "      <td>768.000000</td>\n",
       "      <td>768.000000</td>\n",
       "      <td>768.00000</td>\n",
       "      <td>768.000000</td>\n",
       "      <td>768.000000</td>\n",
       "      <td>768.00000</td>\n",
       "      <td>768.000000</td>\n",
       "      <td>768.000000</td>\n",
       "    </tr>\n",
       "    <tr>\n",
       "      <th>mean</th>\n",
       "      <td>0.764167</td>\n",
       "      <td>671.708333</td>\n",
       "      <td>318.500000</td>\n",
       "      <td>176.604167</td>\n",
       "      <td>5.25000</td>\n",
       "      <td>3.500000</td>\n",
       "      <td>0.234375</td>\n",
       "      <td>2.81250</td>\n",
       "      <td>22.307195</td>\n",
       "      <td>24.587760</td>\n",
       "    </tr>\n",
       "    <tr>\n",
       "      <th>std</th>\n",
       "      <td>0.105777</td>\n",
       "      <td>88.086116</td>\n",
       "      <td>43.626481</td>\n",
       "      <td>45.165950</td>\n",
       "      <td>1.75114</td>\n",
       "      <td>1.118763</td>\n",
       "      <td>0.133221</td>\n",
       "      <td>1.55096</td>\n",
       "      <td>10.090204</td>\n",
       "      <td>9.513306</td>\n",
       "    </tr>\n",
       "    <tr>\n",
       "      <th>min</th>\n",
       "      <td>0.620000</td>\n",
       "      <td>514.500000</td>\n",
       "      <td>245.000000</td>\n",
       "      <td>110.250000</td>\n",
       "      <td>3.50000</td>\n",
       "      <td>2.000000</td>\n",
       "      <td>0.000000</td>\n",
       "      <td>0.00000</td>\n",
       "      <td>6.010000</td>\n",
       "      <td>10.900000</td>\n",
       "    </tr>\n",
       "    <tr>\n",
       "      <th>25%</th>\n",
       "      <td>0.682500</td>\n",
       "      <td>606.375000</td>\n",
       "      <td>294.000000</td>\n",
       "      <td>140.875000</td>\n",
       "      <td>3.50000</td>\n",
       "      <td>2.750000</td>\n",
       "      <td>0.100000</td>\n",
       "      <td>1.75000</td>\n",
       "      <td>12.992500</td>\n",
       "      <td>15.620000</td>\n",
       "    </tr>\n",
       "    <tr>\n",
       "      <th>50%</th>\n",
       "      <td>0.750000</td>\n",
       "      <td>673.750000</td>\n",
       "      <td>318.500000</td>\n",
       "      <td>183.750000</td>\n",
       "      <td>5.25000</td>\n",
       "      <td>3.500000</td>\n",
       "      <td>0.250000</td>\n",
       "      <td>3.00000</td>\n",
       "      <td>18.950000</td>\n",
       "      <td>22.080000</td>\n",
       "    </tr>\n",
       "    <tr>\n",
       "      <th>75%</th>\n",
       "      <td>0.830000</td>\n",
       "      <td>741.125000</td>\n",
       "      <td>343.000000</td>\n",
       "      <td>220.500000</td>\n",
       "      <td>7.00000</td>\n",
       "      <td>4.250000</td>\n",
       "      <td>0.400000</td>\n",
       "      <td>4.00000</td>\n",
       "      <td>31.667500</td>\n",
       "      <td>33.132500</td>\n",
       "    </tr>\n",
       "    <tr>\n",
       "      <th>max</th>\n",
       "      <td>0.980000</td>\n",
       "      <td>808.500000</td>\n",
       "      <td>416.500000</td>\n",
       "      <td>220.500000</td>\n",
       "      <td>7.00000</td>\n",
       "      <td>5.000000</td>\n",
       "      <td>0.400000</td>\n",
       "      <td>5.00000</td>\n",
       "      <td>43.100000</td>\n",
       "      <td>48.030000</td>\n",
       "    </tr>\n",
       "  </tbody>\n",
       "</table>\n",
       "</div>"
      ],
      "text/plain": [
       "       Relative Compactness  Surface Area   Wall Area   Roof Area  \\\n",
       "count            768.000000    768.000000  768.000000  768.000000   \n",
       "mean               0.764167    671.708333  318.500000  176.604167   \n",
       "std                0.105777     88.086116   43.626481   45.165950   \n",
       "min                0.620000    514.500000  245.000000  110.250000   \n",
       "25%                0.682500    606.375000  294.000000  140.875000   \n",
       "50%                0.750000    673.750000  318.500000  183.750000   \n",
       "75%                0.830000    741.125000  343.000000  220.500000   \n",
       "max                0.980000    808.500000  416.500000  220.500000   \n",
       "\n",
       "       Overall Height  Orientation  Glazing Area  Glazing Area Distribution  \\\n",
       "count       768.00000   768.000000    768.000000                  768.00000   \n",
       "mean          5.25000     3.500000      0.234375                    2.81250   \n",
       "std           1.75114     1.118763      0.133221                    1.55096   \n",
       "min           3.50000     2.000000      0.000000                    0.00000   \n",
       "25%           3.50000     2.750000      0.100000                    1.75000   \n",
       "50%           5.25000     3.500000      0.250000                    3.00000   \n",
       "75%           7.00000     4.250000      0.400000                    4.00000   \n",
       "max           7.00000     5.000000      0.400000                    5.00000   \n",
       "\n",
       "       Heating Load  Cooling Load  \n",
       "count    768.000000    768.000000  \n",
       "mean      22.307195     24.587760  \n",
       "std       10.090204      9.513306  \n",
       "min        6.010000     10.900000  \n",
       "25%       12.992500     15.620000  \n",
       "50%       18.950000     22.080000  \n",
       "75%       31.667500     33.132500  \n",
       "max       43.100000     48.030000  "
      ]
     },
     "execution_count": 76,
     "metadata": {},
     "output_type": "execute_result"
    }
   ],
   "source": [
    "data.describe()"
   ]
  },
  {
   "cell_type": "code",
   "execution_count": 77,
   "metadata": {},
   "outputs": [
    {
     "data": {
      "text/plain": [
       "Relative Compactness         0\n",
       "Surface Area                 0\n",
       "Wall Area                    0\n",
       "Roof Area                    0\n",
       "Overall Height               0\n",
       "Orientation                  0\n",
       "Glazing Area                 0\n",
       "Glazing Area Distribution    0\n",
       "Heating Load                 0\n",
       "Cooling Load                 0\n",
       "dtype: int64"
      ]
     },
     "execution_count": 77,
     "metadata": {},
     "output_type": "execute_result"
    }
   ],
   "source": [
    "data.isnull().sum()\n",
    "#tidak ada data yang kosong pada dataset"
   ]
  },
  {
   "cell_type": "code",
   "execution_count": 78,
   "metadata": {},
   "outputs": [
    {
     "data": {
      "text/plain": [
       "587"
      ]
     },
     "execution_count": 78,
     "metadata": {},
     "output_type": "execute_result"
    }
   ],
   "source": [
    "data['Heating Load'].unique().size"
   ]
  },
  {
   "cell_type": "code",
   "execution_count": 79,
   "metadata": {},
   "outputs": [
    {
     "data": {
      "text/plain": [
       "636"
      ]
     },
     "execution_count": 79,
     "metadata": {},
     "output_type": "execute_result"
    }
   ],
   "source": [
    "data['Cooling Load'].unique().size"
   ]
  },
  {
   "cell_type": "code",
   "execution_count": 80,
   "metadata": {},
   "outputs": [
    {
     "data": {
      "image/png": "[encoded data removed]",
      "text/plain": [
       "<Figure size 432x288 with 1 Axes>"
      ]
     },
     "metadata": {
      "needs_background": "light"
     },
     "output_type": "display_data"
    }
   ],
   "source": [
    "plt.hist((data['Heating Load']), facecolor='red', edgecolor='black', bins=20)\n",
    "plt.hist((data['Cooling Load']), facecolor='lightblue', edgecolor='darkblue', bins=30, alpha=0.8)\n",
    "plt.ylabel('frequency')\n",
    "plt.xlabel('load')\n",
    "plt.show()\n",
    "#persebaran tertinggi pada data berada di antara 10 dan 20"
   ]
  },
  {
   "cell_type": "markdown",
   "metadata": {},
   "source": [
    "<h2> Relative Compactness"
   ]
  },
  {
   "cell_type": "code",
   "execution_count": 81,
   "metadata": {},
   "outputs": [
    {
     "data": {
      "text/plain": [
       "12"
      ]
     },
     "execution_count": 81,
     "metadata": {},
     "output_type": "execute_result"
    }
   ],
   "source": [
    "data['Relative Compactness'].unique().size"
   ]
  },
  {
   "cell_type": "code",
   "execution_count": 82,
   "metadata": {},
   "outputs": [
    {
     "data": {
      "text/plain": [
       "array([0.98, 0.9 , 0.86, 0.82, 0.79, 0.76, 0.74, 0.71, 0.69, 0.66, 0.64,\n",
       "       0.62])"
      ]
     },
     "execution_count": 82,
     "metadata": {},
     "output_type": "execute_result"
    }
   ],
   "source": [
    "data['Relative Compactness'].unique()\n",
    "#setelah ditelusuri data ini merupakan rasio dari ukuran seberapa compact bangunan"
   ]
  },
  {
   "cell_type": "code",
   "execution_count": 83,
   "metadata": {},
   "outputs": [
    {
     "data": {
      "image/png": "[encoded data removed]",
      "text/plain": [
       "<Figure size 1080x360 with 2 Axes>"
      ]
     },
     "metadata": {
      "needs_background": "light"
     },
     "output_type": "display_data"
    }
   ],
   "source": [
    "fig, (ax1, ax2) = plt.subplots(1,2, figsize=(15, 5))\n",
    "ax1.scatter(data['Relative Compactness'], data['Heating Load'], color='red')\n",
    "ax1.set_xlabel('Relative Compactness')\n",
    "ax1.set_ylabel('Heating Load')\n",
    "ax2.scatter(data['Relative Compactness'], data['Cooling Load'], color='lightblue')\n",
    "ax2.set_xlabel('Relative Compactness')\n",
    "ax2.set_ylabel('Cooling Load')\n",
    "plt.show()\n",
    "#dapat dilihat bahwa semakin tinggi relative compactness maka beban AC untuk pemanas dan pendingin ruangan akan meningkat\n",
    "#terutama setelah relative compactness lebih dari 0.75"
   ]
  },
  {
   "cell_type": "code",
   "execution_count": 84,
   "metadata": {},
   "outputs": [
    {
     "data": {
      "text/plain": [
       "<matplotlib.axes._subplots.AxesSubplot at 0x72980fb1c8>"
      ]
     },
     "execution_count": 84,
     "metadata": {},
     "output_type": "execute_result"
    },
    {
     "data": {
      "image/png": "[encoded data removed]",
      "text/plain": [
       "<Figure size 432x288 with 1 Axes>"
      ]
     },
     "metadata": {
      "needs_background": "light"
     },
     "output_type": "display_data"
    }
   ],
   "source": [
    "sns.boxplot(data['Relative Compactness'], color=\"lightgreen\",  notch=True)\n",
    "#tidak ada outliers dari data"
   ]
  },
  {
   "cell_type": "markdown",
   "metadata": {},
   "source": [
    "<h2> Surface Area"
   ]
  },
  {
   "cell_type": "code",
   "execution_count": 85,
   "metadata": {},
   "outputs": [
    {
     "data": {
      "text/plain": [
       "12"
      ]
     },
     "execution_count": 85,
     "metadata": {},
     "output_type": "execute_result"
    }
   ],
   "source": [
    "data['Surface Area'].unique().size"
   ]
  },
  {
   "cell_type": "code",
   "execution_count": 86,
   "metadata": {},
   "outputs": [
    {
     "data": {
      "text/plain": [
       "array([514.5, 563.5, 588. , 612.5, 637. , 661.5, 686. , 710.5, 735. ,\n",
       "       759.5, 784. , 808.5])"
      ]
     },
     "execution_count": 86,
     "metadata": {},
     "output_type": "execute_result"
    }
   ],
   "source": [
    "data['Surface Area'].unique()\n",
    "#sedikit juga jenis macam  ukuran area surface yang terdata"
   ]
  },
  {
   "cell_type": "code",
   "execution_count": 87,
   "metadata": {},
   "outputs": [
    {
     "data": {
      "image/png": "[encoded data removed]",
      "text/plain": [
       "<Figure size 1080x360 with 2 Axes>"
      ]
     },
     "metadata": {
      "needs_background": "light"
     },
     "output_type": "display_data"
    }
   ],
   "source": [
    "fig, (ax1, ax2) = plt.subplots(1,2, figsize=(15, 5))\n",
    "ax1.scatter(data['Surface Area'], data['Heating Load'], color='red')\n",
    "ax1.set_xlabel('Surface Area')\n",
    "ax1.set_ylabel('Heating Load')\n",
    "ax2.scatter(data['Surface Area'], data['Cooling Load'], color='lightblue')\n",
    "ax2.set_xlabel('Surface Area')\n",
    "ax2.set_ylabel('Cooling Load')\n",
    "plt.show()\n",
    "#heating load dan cooling load semakin besar jika surface area 661.5 ke bawah"
   ]
  },
  {
   "cell_type": "code",
   "execution_count": 88,
   "metadata": {},
   "outputs": [
    {
     "data": {
      "text/plain": [
       "<matplotlib.axes._subplots.AxesSubplot at 0x7298212ec8>"
      ]
     },
     "execution_count": 88,
     "metadata": {},
     "output_type": "execute_result"
    },
    {
     "data": {
      "image/png": "[encoded data removed]",
      "text/plain": [
       "<Figure size 432x288 with 1 Axes>"
      ]
     },
     "metadata": {
      "needs_background": "light"
     },
     "output_type": "display_data"
    }
   ],
   "source": [
    "sns.boxplot(data['Surface Area'], color=\"lightyellow\",  notch=True)\n",
    "#tidak ada outliers pada data surface area "
   ]
  },
  {
   "cell_type": "markdown",
   "metadata": {},
   "source": [
    "<h2> Wall Area"
   ]
  },
  {
   "cell_type": "code",
   "execution_count": 89,
   "metadata": {},
   "outputs": [
    {
     "data": {
      "text/plain": [
       "7"
      ]
     },
     "execution_count": 89,
     "metadata": {},
     "output_type": "execute_result"
    }
   ],
   "source": [
    "data['Wall Area'].unique().size"
   ]
  },
  {
   "cell_type": "code",
   "execution_count": 90,
   "metadata": {},
   "outputs": [
    {
     "data": {
      "text/plain": [
       "array([294. , 318.5, 343. , 416.5, 245. , 269.5, 367.5])"
      ]
     },
     "execution_count": 90,
     "metadata": {},
     "output_type": "execute_result"
    }
   ],
   "source": [
    "data['Wall Area'].unique()"
   ]
  },
  {
   "cell_type": "code",
   "execution_count": 91,
   "metadata": {},
   "outputs": [
    {
     "data": {
      "image/png": "[encoded data removed]",
      "text/plain": [
       "<Figure size 1080x360 with 2 Axes>"
      ]
     },
     "metadata": {
      "needs_background": "light"
     },
     "output_type": "display_data"
    }
   ],
   "source": [
    "fig, (ax1, ax2) = plt.subplots(1,2, figsize=(15, 5))\n",
    "ax1.scatter(data['Wall Area'], data['Heating Load'], color='red')\n",
    "ax1.set_xlabel('Wall Area')\n",
    "ax1.set_ylabel('Heating Load')\n",
    "ax2.scatter(data['Wall Area'], data['Cooling Load'], color='lightblue')\n",
    "ax2.set_xlabel('Wall Area')\n",
    "ax2.set_ylabel('Cooling Load')\n",
    "plt.show()\n",
    "#load relatif rendah saat wall area kurang dari 275 serta diantara 350 dan 375"
   ]
  },
  {
   "cell_type": "code",
   "execution_count": 92,
   "metadata": {},
   "outputs": [
    {
     "data": {
      "text/plain": [
       "<matplotlib.axes._subplots.AxesSubplot at 0x7298fff6c8>"
      ]
     },
     "execution_count": 92,
     "metadata": {},
     "output_type": "execute_result"
    },
    {
     "data": {
      "image/png": "[encoded data removed]",
      "text/plain": [
       "<Figure size 432x288 with 1 Axes>"
      ]
     },
     "metadata": {
      "needs_background": "light"
     },
     "output_type": "display_data"
    }
   ],
   "source": [
    "sns.boxplot(data['Wall Area'], color=\"purple\",  notch=True)\n",
    "#tidak ada outliers pada wall area"
   ]
  },
  {
   "cell_type": "markdown",
   "metadata": {},
   "source": [
    "<h2> Roof Area"
   ]
  },
  {
   "cell_type": "code",
   "execution_count": 93,
   "metadata": {},
   "outputs": [
    {
     "data": {
      "text/plain": [
       "4"
      ]
     },
     "execution_count": 93,
     "metadata": {},
     "output_type": "execute_result"
    }
   ],
   "source": [
    "data['Roof Area'].unique().size"
   ]
  },
  {
   "cell_type": "code",
   "execution_count": 94,
   "metadata": {},
   "outputs": [
    {
     "data": {
      "text/plain": [
       "array([110.25, 122.5 , 147.  , 220.5 ])"
      ]
     },
     "execution_count": 94,
     "metadata": {},
     "output_type": "execute_result"
    }
   ],
   "source": [
    "data['Roof Area'].unique()"
   ]
  },
  {
   "cell_type": "code",
   "execution_count": 95,
   "metadata": {},
   "outputs": [
    {
     "data": {
      "image/png": "[encoded data removed]",
      "text/plain": [
       "<Figure size 1080x360 with 2 Axes>"
      ]
     },
     "metadata": {
      "needs_background": "light"
     },
     "output_type": "display_data"
    }
   ],
   "source": [
    "fig, (ax1, ax2) = plt.subplots(1,2, figsize=(15, 5))\n",
    "ax1.scatter(data['Roof Area'], data['Heating Load'], color='red')\n",
    "ax1.set_xlabel('Roof Area')\n",
    "ax1.set_ylabel('Heating Load')\n",
    "ax2.scatter(data['Roof Area'], data['Cooling Load'], color='lightblue')\n",
    "ax2.set_xlabel('Roof Area')\n",
    "ax2.set_ylabel('Cooling Load')\n",
    "plt.show()\n",
    "#load bisa tinggi saat roof area dibawah 160"
   ]
  },
  {
   "cell_type": "code",
   "execution_count": 96,
   "metadata": {},
   "outputs": [
    {
     "data": {
      "text/plain": [
       "<matplotlib.axes._subplots.AxesSubplot at 0x72a1affd48>"
      ]
     },
     "execution_count": 96,
     "metadata": {},
     "output_type": "execute_result"
    },
    {
     "data": {
      "image/png": "[encoded data removed]",
      "text/plain": [
       "<Figure size 432x288 with 1 Axes>"
      ]
     },
     "metadata": {
      "needs_background": "light"
     },
     "output_type": "display_data"
    }
   ],
   "source": [
    "sns.boxplot(data['Roof Area'], color=\"Gray\",  notch=True)\n",
    "#tidak ada outliers"
   ]
  },
  {
   "cell_type": "markdown",
   "metadata": {},
   "source": [
    "<h2> Overall Height"
   ]
  },
  {
   "cell_type": "code",
   "execution_count": 97,
   "metadata": {},
   "outputs": [
    {
     "data": {
      "text/plain": [
       "2"
      ]
     },
     "execution_count": 97,
     "metadata": {},
     "output_type": "execute_result"
    }
   ],
   "source": [
    "data['Overall Height'].unique().size"
   ]
  },
  {
   "cell_type": "code",
   "execution_count": 98,
   "metadata": {},
   "outputs": [
    {
     "data": {
      "text/plain": [
       "array([7. , 3.5])"
      ]
     },
     "execution_count": 98,
     "metadata": {},
     "output_type": "execute_result"
    }
   ],
   "source": [
    "data['Overall Height'].unique()"
   ]
  },
  {
   "cell_type": "code",
   "execution_count": 99,
   "metadata": {},
   "outputs": [
    {
     "data": {
      "image/png": "[encoded data removed]",
      "text/plain": [
       "<Figure size 1080x360 with 2 Axes>"
      ]
     },
     "metadata": {
      "needs_background": "light"
     },
     "output_type": "display_data"
    }
   ],
   "source": [
    "fig, (ax1, ax2) = plt.subplots(1,2, figsize=(15, 5))\n",
    "ax1.scatter(data['Overall Height'], data['Heating Load'], color='red')\n",
    "ax1.set_xlabel('Overall Height')\n",
    "ax1.set_ylabel('Heating Load')\n",
    "ax2.scatter(data['Overall Height'], data['Cooling Load'], color='lightblue')\n",
    "ax2.set_xlabel('Overall Height')\n",
    "ax2.set_ylabel('Cooling Load')\n",
    "plt.show()\n",
    "#semakin besar height maka semakin besar load"
   ]
  },
  {
   "cell_type": "code",
   "execution_count": 100,
   "metadata": {},
   "outputs": [
    {
     "data": {
      "text/plain": [
       "<matplotlib.axes._subplots.AxesSubplot at 0x72ac328188>"
      ]
     },
     "execution_count": 100,
     "metadata": {},
     "output_type": "execute_result"
    },
    {
     "data": {
      "image/png": "[encoded data removed]",
      "text/plain": [
       "<Figure size 432x288 with 1 Axes>"
      ]
     },
     "metadata": {
      "needs_background": "light"
     },
     "output_type": "display_data"
    }
   ],
   "source": [
    "sns.boxplot(data['Overall Height'], color=\"Orange\",  notch=True)\n",
    "#tidak ada outliers"
   ]
  },
  {
   "cell_type": "markdown",
   "metadata": {},
   "source": [
    "<h2>Orientation"
   ]
  },
  {
   "cell_type": "code",
   "execution_count": 101,
   "metadata": {},
   "outputs": [
    {
     "data": {
      "text/plain": [
       "4"
      ]
     },
     "execution_count": 101,
     "metadata": {},
     "output_type": "execute_result"
    }
   ],
   "source": [
    "data['Orientation'].unique().size\n",
    "#terdapat 4 jenis orientation pada ruangan"
   ]
  },
  {
   "cell_type": "code",
   "execution_count": 102,
   "metadata": {},
   "outputs": [
    {
     "data": {
      "text/plain": [
       "array([2, 3, 4, 5], dtype=int64)"
      ]
     },
     "execution_count": 102,
     "metadata": {},
     "output_type": "execute_result"
    }
   ],
   "source": [
    "data['Orientation'].unique()"
   ]
  },
  {
   "cell_type": "code",
   "execution_count": 103,
   "metadata": {},
   "outputs": [
    {
     "data": {
      "image/png": "[encoded data removed]",
      "text/plain": [
       "<Figure size 1080x360 with 2 Axes>"
      ]
     },
     "metadata": {
      "needs_background": "light"
     },
     "output_type": "display_data"
    }
   ],
   "source": [
    "fig, (ax1, ax2) = plt.subplots(1,2, figsize=(15, 5))\n",
    "ax1.scatter(data['Orientation'], data['Heating Load'], color='red')\n",
    "ax1.set_xlabel('Orientation')\n",
    "ax1.set_ylabel('Heating Load')\n",
    "ax2.scatter(data['Orientation'], data['Cooling Load'], color='lightblue')\n",
    "ax2.set_xlabel('Orientation')\n",
    "ax2.set_ylabel('Cooling Load')\n",
    "plt.show()\n",
    "#distribusi nya rata, kami yakin tidak berpengaruh besar\n",
    "#data categorical"
   ]
  },
  {
   "cell_type": "code",
   "execution_count": 104,
   "metadata": {},
   "outputs": [
    {
     "data": {
      "text/plain": [
       "<matplotlib.axes._subplots.AxesSubplot at 0x7298157d88>"
      ]
     },
     "execution_count": 104,
     "metadata": {},
     "output_type": "execute_result"
    },
    {
     "data": {
      "image/png": "[encoded data removed]",
      "text/plain": [
       "<Figure size 432x288 with 1 Axes>"
      ]
     },
     "metadata": {
      "needs_background": "light"
     },
     "output_type": "display_data"
    }
   ],
   "source": [
    "sns.boxplot(data['Orientation'], color=\"Brown\",  notch=True)\n",
    "#tidak ada outliers"
   ]
  },
  {
   "cell_type": "markdown",
   "metadata": {},
   "source": [
    "<h2>Glazing Area"
   ]
  },
  {
   "cell_type": "code",
   "execution_count": 105,
   "metadata": {},
   "outputs": [
    {
     "data": {
      "text/plain": [
       "4"
      ]
     },
     "execution_count": 105,
     "metadata": {},
     "output_type": "execute_result"
    }
   ],
   "source": [
    "data['Glazing Area'].unique().size"
   ]
  },
  {
   "cell_type": "code",
   "execution_count": 106,
   "metadata": {},
   "outputs": [
    {
     "data": {
      "text/plain": [
       "array([0.  , 0.1 , 0.25, 0.4 ])"
      ]
     },
     "execution_count": 106,
     "metadata": {},
     "output_type": "execute_result"
    }
   ],
   "source": [
    "data['Glazing Area'].unique()"
   ]
  },
  {
   "cell_type": "code",
   "execution_count": 107,
   "metadata": {},
   "outputs": [
    {
     "data": {
      "image/png": "[encoded data removed]",
      "text/plain": [
       "<Figure size 1080x360 with 2 Axes>"
      ]
     },
     "metadata": {
      "needs_background": "light"
     },
     "output_type": "display_data"
    }
   ],
   "source": [
    "fig, (ax1, ax2) = plt.subplots(1,2, figsize=(15, 5))\n",
    "ax1.scatter(data['Glazing Area'], data['Heating Load'], color='red')\n",
    "ax1.set_xlabel('Glazing Area')\n",
    "ax1.set_ylabel('Heating Load')\n",
    "ax2.scatter(data['Glazing Area'], data['Cooling Load'], color='lightblue')\n",
    "ax2.set_xlabel('Glazing Area')\n",
    "ax2.set_ylabel('Cooling Load')\n",
    "plt.show()\n",
    "#data ini kurang berpengaruh juga sepertinya, karena range load pada tiap data glazing area besar semua\n",
    "#selain itu semakin meningkat glazing area maka semakin meningkat load nya"
   ]
  },
  {
   "cell_type": "code",
   "execution_count": 108,
   "metadata": {},
   "outputs": [
    {
     "data": {
      "text/plain": [
       "<matplotlib.axes._subplots.AxesSubplot at 0x7298162f08>"
      ]
     },
     "execution_count": 108,
     "metadata": {},
     "output_type": "execute_result"
    },
    {
     "data": {
      "image/png": "[encoded data removed]",
      "text/plain": [
       "<Figure size 432x288 with 1 Axes>"
      ]
     },
     "metadata": {
      "needs_background": "light"
     },
     "output_type": "display_data"
    }
   ],
   "source": [
    "sns.boxplot(data['Glazing Area'], color=\"Indigo\",  notch=True)\n",
    "#tidak ada outliers"
   ]
  },
  {
   "cell_type": "markdown",
   "metadata": {},
   "source": [
    "<h2> Glazing Area Datribution"
   ]
  },
  {
   "cell_type": "code",
   "execution_count": 109,
   "metadata": {},
   "outputs": [
    {
     "data": {
      "text/plain": [
       "6"
      ]
     },
     "execution_count": 109,
     "metadata": {},
     "output_type": "execute_result"
    }
   ],
   "source": [
    "data['Glazing Area Distribution'].unique().size"
   ]
  },
  {
   "cell_type": "code",
   "execution_count": 110,
   "metadata": {},
   "outputs": [
    {
     "data": {
      "text/plain": [
       "array([0, 1, 2, 3, 4, 5], dtype=int64)"
      ]
     },
     "execution_count": 110,
     "metadata": {},
     "output_type": "execute_result"
    }
   ],
   "source": [
    "data['Glazing Area Distribution'].unique()"
   ]
  },
  {
   "cell_type": "code",
   "execution_count": 111,
   "metadata": {},
   "outputs": [
    {
     "data": {
      "image/png": "[encoded data removed]",
      "text/plain": [
       "<Figure size 1080x360 with 2 Axes>"
      ]
     },
     "metadata": {
      "needs_background": "light"
     },
     "output_type": "display_data"
    }
   ],
   "source": [
    "fig, (ax1, ax2) = plt.subplots(1,2, figsize=(15, 5))\n",
    "ax1.scatter(data['Glazing Area Distribution'], data['Heating Load'], color='red')\n",
    "ax1.set_xlabel('Glazing Area Distribution')\n",
    "ax1.set_ylabel('Heating Load')\n",
    "ax2.scatter(data['Glazing Area Distribution'], data['Cooling Load'], color='lightblue')\n",
    "ax2.set_xlabel('Glazing Area Distribution')\n",
    "ax2.set_ylabel('Cooling Load')\n",
    "plt.show()\n",
    "#range lebih kecil saat istribusinya nol, tapi sisanya tidak terlalu berpengaruh\n",
    "#data categorical"
   ]
  },
  {
   "cell_type": "code",
   "execution_count": 112,
   "metadata": {},
   "outputs": [
    {
     "data": {
      "text/plain": [
       "<matplotlib.axes._subplots.AxesSubplot at 0x72ac91a708>"
      ]
     },
     "execution_count": 112,
     "metadata": {},
     "output_type": "execute_result"
    },
    {
     "data": {
      "image/png": "[encoded data removed]",
      "text/plain": [
       "<Figure size 432x288 with 1 Axes>"
      ]
     },
     "metadata": {
      "needs_background": "light"
     },
     "output_type": "display_data"
    }
   ],
   "source": [
    "sns.boxplot(data['Glazing Area Distribution'], color=\"darkgreen\",  notch=True)"
   ]
  },
  {
   "cell_type": "markdown",
   "metadata": {},
   "source": [
    "<h2>Melihat korelasi antar variabel"
   ]
  },
  {
   "cell_type": "code",
   "execution_count": 113,
   "metadata": {},
   "outputs": [
    {
     "data": {
      "text/plain": [
       "<matplotlib.axes._subplots.AxesSubplot at 0x72990b58c8>"
      ]
     },
     "execution_count": 113,
     "metadata": {},
     "output_type": "execute_result"
    },
    {
     "data": {
      "image/png": "[encoded data removed]",
      "text/plain": [
       "<Figure size 1080x720 with 2 Axes>"
      ]
     },
     "metadata": {
      "needs_background": "light"
     },
     "output_type": "display_data"
    }
   ],
   "source": [
    "corrmat=data.corr()\n",
    "plt.figure(figsize=(15, 10))\n",
    "sns.heatmap(data.corr(), annot=True)\n",
    "#sepertinya orientation dan glazing area distribution tidak terlalu berpengaruh bagi heating load dan cooling load\n",
    "#menggunakan correlasi pearson (linear)"
   ]
  },
  {
   "cell_type": "markdown",
   "metadata": {},
   "source": [
    "Kesimpulan sementara yang didapat :\n",
    "- Tidak ada data yang bernilai null\n",
    "- Tidak ada outliers pada data\n",
    "- Data orientation dan glazing area distribution kurang berpengaruh terhadap heating load dan cooling load\n",
    "- Data yang digunakan kurang beragam dan terlalu normal, kami memperkiakan bangunan yang disurvey merupakan bangunan sejenis"
   ]
  },
  {
   "cell_type": "markdown",
   "metadata": {},
   "source": [
    "<h1>Data Preprocessing"
   ]
  },
  {
   "cell_type": "markdown",
   "metadata": {},
   "source": [
    "<h2>Variabel Input (x) dan output (y)"
   ]
  },
  {
   "cell_type": "markdown",
   "metadata": {},
   "source": [
    "<h3> untuk data yang belum distandarisasi"
   ]
  },
  {
   "cell_type": "code",
   "execution_count": 114,
   "metadata": {},
   "outputs": [],
   "source": [
    "X = data.drop([ \"Orientation\", \"Glazing Area Distribution\", \"Heating Load\", \"Cooling Load\"], axis=1)\n",
    "Y = data.drop([\"Relative Compactness\", \"Surface Area\", \"Wall Area\", \"Roof Area\",\n",
    "               \"Overall Height\", \"Orientation\", \"Glazing Area\", \"Glazing Area Distribution\"], axis=1)"
   ]
  },
  {
   "cell_type": "code",
   "execution_count": 115,
   "metadata": {},
   "outputs": [],
   "source": [
    "X_train, X_test , Y_train, Y_test = train_test_split(X,Y, test_size= 0.3, random_state = None)"
   ]
  },
  {
   "cell_type": "markdown",
   "metadata": {},
   "source": [
    "<h3> untuk data yang distandarisasi"
   ]
  },
  {
   "cell_type": "code",
   "execution_count": 116,
   "metadata": {},
   "outputs": [],
   "source": [
    "scaler = StandardScaler()"
   ]
  },
  {
   "cell_type": "code",
   "execution_count": 117,
   "metadata": {},
   "outputs": [],
   "source": [
    "x_train = scaler.fit_transform(X_train)\n",
    "y_train = scaler.fit_transform(Y_train)\n",
    "x_test = scaler.fit_transform(X_test)\n",
    "y_test = scaler.fit_transform(Y_test)"
   ]
  },
  {
   "cell_type": "markdown",
   "metadata": {},
   "source": [
    "<h1> Model"
   ]
  },
  {
   "cell_type": "markdown",
   "metadata": {},
   "source": [
    "<h2> Menggunakan K-Neirest Neighbors - Regression"
   ]
  },
  {
   "cell_type": "code",
   "execution_count": 118,
   "metadata": {},
   "outputs": [
    {
     "data": {
      "text/plain": [
       "RangeIndex(start=0, stop=768, step=1)"
      ]
     },
     "execution_count": 118,
     "metadata": {},
     "output_type": "execute_result"
    }
   ],
   "source": [
    "X.index"
   ]
  },
  {
   "cell_type": "code",
   "execution_count": 119,
   "metadata": {},
   "outputs": [],
   "source": [
    "k= round(sqrt(len(X_train.index)/2))"
   ]
  },
  {
   "cell_type": "code",
   "execution_count": 120,
   "metadata": {},
   "outputs": [
    {
     "data": {
      "text/plain": [
       "16"
      ]
     },
     "execution_count": 120,
     "metadata": {},
     "output_type": "execute_result"
    }
   ],
   "source": [
    "k"
   ]
  },
  {
   "cell_type": "code",
   "execution_count": 121,
   "metadata": {},
   "outputs": [],
   "source": [
    "neigh = KNeighborsRegressor(k)"
   ]
  },
  {
   "cell_type": "code",
   "execution_count": 122,
   "metadata": {},
   "outputs": [
    {
     "data": {
      "text/plain": [
       "KNeighborsRegressor(algorithm='auto', leaf_size=30, metric='minkowski',\n",
       "                    metric_params=None, n_jobs=None, n_neighbors=16, p=2,\n",
       "                    weights='uniform')"
      ]
     },
     "execution_count": 122,
     "metadata": {},
     "output_type": "execute_result"
    }
   ],
   "source": [
    "neigh.fit(x_train, y_train)"
   ]
  },
  {
   "cell_type": "code",
   "execution_count": 123,
   "metadata": {},
   "outputs": [],
   "source": [
    "y_pred_knn = neigh.predict(x_test)"
   ]
  },
  {
   "cell_type": "code",
   "execution_count": 124,
   "metadata": {},
   "outputs": [
    {
     "data": {
      "text/plain": [
       "array([[-0.71607611, -0.71422392],\n",
       "       [-0.98794436, -0.99059733],\n",
       "       [-1.12297247, -1.1116562 ],\n",
       "       [ 0.65913612,  0.60405396],\n",
       "       [ 1.1063972 ,  1.17303065],\n",
       "       [-0.7082656 , -0.5766026 ],\n",
       "       [ 0.34502862,  0.40976113],\n",
       "       [ 1.45780769,  1.51631902],\n",
       "       [ 0.96974451,  0.93836269],\n",
       "       [-0.95745213, -0.96046565],\n",
       "       [-0.97457277, -0.97682855],\n",
       "       [ 1.45780769,  1.51631902],\n",
       "       [ 1.33965029,  1.20994695],\n",
       "       [ 1.11402026,  1.01306   ],\n",
       "       [-0.7082656 , -0.5766026 ],\n",
       "       [ 0.58559235,  0.6721662 ],\n",
       "       [-1.3128616 , -1.22553136],\n",
       "       [-0.71607611, -0.71422392],\n",
       "       [-1.17802095, -1.12868426],\n",
       "       [ 1.33965029,  1.20994695],\n",
       "       [-0.92171123, -0.89940409],\n",
       "       [ 0.92781768,  0.98040071],\n",
       "       [-0.98794436, -0.99059733],\n",
       "       [ 1.0400391 ,  1.08270211],\n",
       "       [-1.16983553, -1.15269649],\n",
       "       [-1.16983553, -1.15269649],\n",
       "       [ 1.33965029,  1.20994695],\n",
       "       [ 1.46268145,  1.35874294],\n",
       "       [-0.48832162, -0.66952526],\n",
       "       [-0.58992074, -0.51773607],\n",
       "       [-0.89490556, -1.0143435 ],\n",
       "       [-1.12297247, -1.1116562 ],\n",
       "       [ 1.45780769,  1.51631902],\n",
       "       [-0.58992074, -0.51773607],\n",
       "       [ 1.0400391 ,  1.08270211],\n",
       "       [-0.70607865, -0.83621402],\n",
       "       [-0.48832162, -0.66952526],\n",
       "       [-0.95745213, -0.96046565],\n",
       "       [-0.7082656 , -0.5766026 ],\n",
       "       [ 0.34502862,  0.40976113],\n",
       "       [-1.16983553, -1.15269649],\n",
       "       [ 0.65913612,  0.60405396],\n",
       "       [-1.16983553, -1.15269649],\n",
       "       [ 0.62551968,  0.63824311],\n",
       "       [-0.98794436, -0.99059733],\n",
       "       [ 1.1063972 ,  1.17303065],\n",
       "       [ 0.58559235,  0.6721662 ],\n",
       "       [-1.16983553, -1.15269649],\n",
       "       [-0.95745213, -0.96046565],\n",
       "       [ 0.65913612,  0.60405396],\n",
       "       [ 0.62551968,  0.63824311],\n",
       "       [-0.89490556, -1.0143435 ],\n",
       "       [ 1.11402026,  1.01306   ],\n",
       "       [ 0.65913612,  0.60405396],\n",
       "       [ 1.46268145,  1.35874294],\n",
       "       [ 0.92781768,  0.98040071],\n",
       "       [-0.76587592, -0.81200224],\n",
       "       [ 0.11321267,  0.11097187],\n",
       "       [ 1.45780769,  1.51631902],\n",
       "       [-0.76587592, -0.81200224],\n",
       "       [ 1.45780769,  1.51631902],\n",
       "       [-1.16983553, -1.15269649],\n",
       "       [ 1.83439927,  1.76628563],\n",
       "       [ 1.01954432,  1.02157403],\n",
       "       [-0.33917211, -0.29830023],\n",
       "       [-0.58992074, -0.51773607],\n",
       "       [-0.95745213, -0.96046565],\n",
       "       [-1.09716654, -1.08258877],\n",
       "       [ 0.96974451,  0.93836269],\n",
       "       [-1.06767405, -1.0688865 ],\n",
       "       [-0.98794436, -0.99059733],\n",
       "       [ 1.01954432,  1.02157403],\n",
       "       [-0.70607865, -0.83621402],\n",
       "       [ 0.58559235,  0.6721662 ],\n",
       "       [-1.3128616 , -1.22553136],\n",
       "       [-0.81942479, -0.848719  ],\n",
       "       [ 0.34502862,  0.40976113],\n",
       "       [ 1.83439927,  1.76628563],\n",
       "       [ 0.11321267,  0.11097187],\n",
       "       [-1.06767405, -1.0688865 ],\n",
       "       [-0.7082656 , -0.5766026 ],\n",
       "       [ 1.01954432,  1.02157403],\n",
       "       [ 1.68962365,  1.54092989],\n",
       "       [-1.12297247, -1.1116562 ],\n",
       "       [-0.33917211, -0.29830023],\n",
       "       [ 0.38576825,  0.45771906],\n",
       "       [ 1.11402026,  1.01306   ],\n",
       "       [ 0.62551968,  0.63824311],\n",
       "       [-0.70607865, -0.83621402],\n",
       "       [-0.77943497, -0.82297736],\n",
       "       [ 1.68962365,  1.54092989],\n",
       "       [-0.48832162, -0.66952526],\n",
       "       [ 1.11402026,  1.01306   ],\n",
       "       [ 0.65913612,  0.60405396],\n",
       "       [-0.95745213, -0.96046565],\n",
       "       [-0.89490556, -1.0143435 ],\n",
       "       [-1.06767405, -1.0688865 ],\n",
       "       [ 1.45780769,  1.51631902],\n",
       "       [ 0.96974451,  0.93836269],\n",
       "       [-1.09716654, -1.08258877],\n",
       "       [ 0.34502862,  0.40976113],\n",
       "       [ 1.1063972 ,  1.17303065],\n",
       "       [ 0.38576825,  0.45771906],\n",
       "       [-1.23388172, -1.17291731],\n",
       "       [ 0.62551968,  0.63824311],\n",
       "       [ 0.38576825,  0.45771906],\n",
       "       [ 1.11402026,  1.01306   ],\n",
       "       [-0.05199525,  0.14203478],\n",
       "       [-0.70607865, -0.83621402],\n",
       "       [-1.09716654, -1.08258877],\n",
       "       [-0.76587592, -0.81200224],\n",
       "       [ 0.14570439,  0.23788414],\n",
       "       [ 1.68962365,  1.54092989],\n",
       "       [ 1.1063972 ,  1.17303065],\n",
       "       [ 0.69425217,  0.68061372],\n",
       "       [ 1.1063972 ,  1.17303065],\n",
       "       [ 1.83439927,  1.76628563],\n",
       "       [-0.48832162, -0.66952526],\n",
       "       [-0.71607611, -0.71422392],\n",
       "       [-0.71607611, -0.71422392],\n",
       "       [ 1.11402026,  1.01306   ],\n",
       "       [ 1.11402026,  1.01306   ],\n",
       "       [-0.70607865, -0.83621402],\n",
       "       [-1.17802095, -1.12868426],\n",
       "       [ 1.33965029,  1.20994695],\n",
       "       [-0.33917211, -0.29830023],\n",
       "       [-0.89490556, -1.0143435 ],\n",
       "       [ 1.68962365,  1.54092989],\n",
       "       [ 0.96974451,  0.93836269],\n",
       "       [-0.7082656 , -0.5766026 ],\n",
       "       [-0.92171123, -0.89940409],\n",
       "       [ 1.1063972 ,  1.17303065],\n",
       "       [ 0.58559235,  0.6721662 ],\n",
       "       [ 0.11321267,  0.11097187],\n",
       "       [-1.09716654, -1.08258877],\n",
       "       [ 1.1063972 ,  1.17303065],\n",
       "       [-0.98794436, -0.99059733],\n",
       "       [-0.95745213, -0.96046565],\n",
       "       [-0.58992074, -0.51773607],\n",
       "       [-0.70607865, -0.83621402],\n",
       "       [ 0.69425217,  0.68061372],\n",
       "       [ 0.58559235,  0.6721662 ],\n",
       "       [-0.92171123, -0.89940409],\n",
       "       [-0.71607611, -0.71422392],\n",
       "       [-1.16983553, -1.15269649],\n",
       "       [ 0.58559235,  0.6721662 ],\n",
       "       [-0.48832162, -0.66952526],\n",
       "       [-0.98794436, -0.99059733],\n",
       "       [-1.09716654, -1.08258877],\n",
       "       [-0.97457277, -0.97682855],\n",
       "       [ 0.11321267,  0.11097187],\n",
       "       [ 1.68962365,  1.54092989],\n",
       "       [-0.76587592, -0.81200224],\n",
       "       [ 0.62551968,  0.63824311],\n",
       "       [ 0.58559235,  0.6721662 ],\n",
       "       [-0.76587592, -0.81200224],\n",
       "       [ 0.14570439,  0.23788414],\n",
       "       [-1.06767405, -1.0688865 ],\n",
       "       [ 1.45780769,  1.51631902],\n",
       "       [-0.05199525,  0.14203478],\n",
       "       [-1.16983553, -1.15269649],\n",
       "       [ 0.62551968,  0.63824311],\n",
       "       [ 1.68962365,  1.54092989],\n",
       "       [-1.16983553, -1.15269649],\n",
       "       [-0.76587592, -0.81200224],\n",
       "       [-0.71607611, -0.71422392],\n",
       "       [ 0.96974451,  0.93836269],\n",
       "       [ 0.62551968,  0.63824311],\n",
       "       [-0.98794436, -0.99059733],\n",
       "       [ 1.46268145,  1.35874294],\n",
       "       [-0.33917211, -0.29830023],\n",
       "       [ 1.83439927,  1.76628563],\n",
       "       [-0.58992074, -0.51773607],\n",
       "       [ 0.34502862,  0.40976113],\n",
       "       [-0.70607865, -0.83621402],\n",
       "       [-0.92171123, -0.89940409],\n",
       "       [ 0.62551968,  0.63824311],\n",
       "       [-0.76587592, -0.81200224],\n",
       "       [-0.98794436, -0.99059733],\n",
       "       [ 0.11321267,  0.11097187],\n",
       "       [-0.81942479, -0.848719  ],\n",
       "       [ 1.68962365,  1.54092989],\n",
       "       [ 0.58559235,  0.6721662 ],\n",
       "       [ 1.08665223,  1.24347095],\n",
       "       [-0.58992074, -0.51773607],\n",
       "       [ 1.83439927,  1.76628563],\n",
       "       [ 0.58559235,  0.6721662 ],\n",
       "       [-0.81942479, -0.848719  ],\n",
       "       [ 1.01954432,  1.02157403],\n",
       "       [-0.71607611, -0.71422392],\n",
       "       [ 1.33965029,  1.20994695],\n",
       "       [ 1.01954432,  1.02157403],\n",
       "       [ 0.34502862,  0.40976113],\n",
       "       [ 0.38576825,  0.45771906],\n",
       "       [-0.58992074, -0.51773607],\n",
       "       [ 1.01954432,  1.02157403],\n",
       "       [ 1.46268145,  1.35874294],\n",
       "       [ 1.01954432,  1.02157403],\n",
       "       [-0.98794436, -0.99059733],\n",
       "       [-0.98794436, -0.99059733],\n",
       "       [-0.48832162, -0.66952526],\n",
       "       [-0.48832162, -0.66952526],\n",
       "       [ 0.11321267,  0.11097187],\n",
       "       [ 1.0400391 ,  1.08270211],\n",
       "       [-1.06767405, -1.0688865 ],\n",
       "       [-1.06767405, -1.0688865 ],\n",
       "       [-1.09716654, -1.08258877],\n",
       "       [-0.48832162, -0.66952526],\n",
       "       [-0.89490556, -1.0143435 ],\n",
       "       [-0.95745213, -0.96046565],\n",
       "       [ 1.08665223,  1.24347095],\n",
       "       [ 0.11321267,  0.11097187],\n",
       "       [-0.92171123, -0.89940409],\n",
       "       [ 0.34502862,  0.40976113],\n",
       "       [ 1.83439927,  1.76628563],\n",
       "       [ 0.38576825,  0.45771906],\n",
       "       [-0.89490556, -1.0143435 ],\n",
       "       [ 0.69425217,  0.68061372],\n",
       "       [ 1.01954432,  1.02157403],\n",
       "       [ 1.46268145,  1.35874294],\n",
       "       [ 0.11321267,  0.11097187],\n",
       "       [ 0.34502862,  0.40976113],\n",
       "       [ 1.1063972 ,  1.17303065],\n",
       "       [ 1.01954432,  1.02157403],\n",
       "       [-0.70607865, -0.83621402],\n",
       "       [ 0.58559235,  0.6721662 ],\n",
       "       [-0.71607611, -0.71422392],\n",
       "       [-0.81942479, -0.848719  ],\n",
       "       [ 1.68962365,  1.54092989],\n",
       "       [ 0.38576825,  0.45771906],\n",
       "       [-1.17802095, -1.12868426]])"
      ]
     },
     "execution_count": 124,
     "metadata": {},
     "output_type": "execute_result"
    }
   ],
   "source": [
    "y_pred_knn"
   ]
  },
  {
   "cell_type": "code",
   "execution_count": 125,
   "metadata": {},
   "outputs": [],
   "source": [
    "Y_pred_knn = scaler.inverse_transform(y_pred_knn)"
   ]
  },
  {
   "cell_type": "code",
   "execution_count": 126,
   "metadata": {},
   "outputs": [
    {
     "name": "stderr",
     "output_type": "stream",
     "text": [
      "c:\\users\\dheny dwi prakoso\\appdata\\local\\programs\\python\\python37\\lib\\site-packages\\sklearn\\base.py:434: FutureWarning: The default value of multioutput (not exposed in score method) will change from 'variance_weighted' to 'uniform_average' in 0.23 to keep consistent with 'metrics.r2_score'. To specify the default value manually and avoid the warning, please either call 'metrics.r2_score' directly or make a custom scorer with 'metrics.make_scorer' (the built-in scorer 'r2' uses multioutput='uniform_average').\n",
      "  \"multioutput='uniform_average').\", FutureWarning)\n"
     ]
    },
    {
     "data": {
      "text/plain": [
       "0.9672379280717057"
      ]
     },
     "execution_count": 126,
     "metadata": {},
     "output_type": "execute_result"
    }
   ],
   "source": [
    "neigh.score(x_test, y_test)"
   ]
  },
  {
   "cell_type": "code",
   "execution_count": 127,
   "metadata": {},
   "outputs": [
    {
     "data": {
      "text/plain": [
       "0.9672379280717058"
      ]
     },
     "execution_count": 127,
     "metadata": {},
     "output_type": "execute_result"
    }
   ],
   "source": [
    "r2_score(y_test, y_pred_knn)"
   ]
  },
  {
   "cell_type": "code",
   "execution_count": 128,
   "metadata": {},
   "outputs": [
    {
     "data": {
      "text/plain": [
       "0.9672379280717058"
      ]
     },
     "execution_count": 128,
     "metadata": {},
     "output_type": "execute_result"
    }
   ],
   "source": [
    "r2_score(Y_test, Y_pred_knn)"
   ]
  },
  {
   "cell_type": "markdown",
   "metadata": {},
   "source": [
    "<h2> Menggunakan Random Forest Regressor"
   ]
  },
  {
   "cell_type": "code",
   "execution_count": 129,
   "metadata": {},
   "outputs": [],
   "source": [
    "regressor = RandomForestRegressor(n_estimators=16, random_state=0)"
   ]
  },
  {
   "cell_type": "code",
   "execution_count": 130,
   "metadata": {},
   "outputs": [
    {
     "data": {
      "text/plain": [
       "RandomForestRegressor(bootstrap=True, ccp_alpha=0.0, criterion='mse',\n",
       "                      max_depth=None, max_features='auto', max_leaf_nodes=None,\n",
       "                      max_samples=None, min_impurity_decrease=0.0,\n",
       "                      min_impurity_split=None, min_samples_leaf=1,\n",
       "                      min_samples_split=2, min_weight_fraction_leaf=0.0,\n",
       "                      n_estimators=16, n_jobs=None, oob_score=False,\n",
       "                      random_state=0, verbose=0, warm_start=False)"
      ]
     },
     "execution_count": 130,
     "metadata": {},
     "output_type": "execute_result"
    }
   ],
   "source": [
    "regressor.fit(X_train, Y_train)"
   ]
  },
  {
   "cell_type": "code",
   "execution_count": 131,
   "metadata": {},
   "outputs": [],
   "source": [
    "Y_pred_rf = regressor.predict(X_test)"
   ]
  },
  {
   "cell_type": "code",
   "execution_count": 132,
   "metadata": {},
   "outputs": [
    {
     "name": "stderr",
     "output_type": "stream",
     "text": [
      "c:\\users\\dheny dwi prakoso\\appdata\\local\\programs\\python\\python37\\lib\\site-packages\\sklearn\\base.py:434: FutureWarning: The default value of multioutput (not exposed in score method) will change from 'variance_weighted' to 'uniform_average' in 0.23 to keep consistent with 'metrics.r2_score'. To specify the default value manually and avoid the warning, please either call 'metrics.r2_score' directly or make a custom scorer with 'metrics.make_scorer' (the built-in scorer 'r2' uses multioutput='uniform_average').\n",
      "  \"multioutput='uniform_average').\", FutureWarning)\n"
     ]
    },
    {
     "data": {
      "text/plain": [
       "0.9857131364117484"
      ]
     },
     "execution_count": 132,
     "metadata": {},
     "output_type": "execute_result"
    }
   ],
   "source": [
    "regressor.score(X_test, Y_test)"
   ]
  },
  {
   "cell_type": "code",
   "execution_count": 133,
   "metadata": {},
   "outputs": [
    {
     "data": {
      "text/plain": [
       "0.9850607260420137"
      ]
     },
     "execution_count": 133,
     "metadata": {},
     "output_type": "execute_result"
    }
   ],
   "source": [
    "r2_score(Y_test, Y_pred_rf)"
   ]
  },
  {
   "cell_type": "code",
   "execution_count": 134,
   "metadata": {},
   "outputs": [
    {
     "data": {
      "text/plain": [
       "array([[15.16123732, 17.95936986],\n",
       "       [12.12649401, 15.03043085],\n",
       "       [10.83874921, 13.99892784],\n",
       "       [28.45079716, 29.8104397 ],\n",
       "       [36.4180714 , 38.07254327],\n",
       "       [15.28737554, 19.29902958],\n",
       "       [26.31491985, 28.82699573],\n",
       "       [39.33546217, 41.40731535],\n",
       "       [31.99601465, 33.28132043],\n",
       "       [12.61407488, 15.49010324],\n",
       "       [12.34201372, 15.22992342],\n",
       "       [39.33546217, 41.40731535],\n",
       "       [35.74163999, 35.80119429],\n",
       "       [32.58201081, 33.41906791],\n",
       "       [15.28737554, 19.29902958],\n",
       "       [28.8999544 , 31.79292415],\n",
       "       [ 6.36995833, 11.4715    ],\n",
       "       [15.16123732, 17.95936986],\n",
       "       [ 7.29220833, 12.59929167],\n",
       "       [35.74163999, 35.80119429],\n",
       "       [12.96876211, 16.03914691],\n",
       "       [24.81636538, 30.11829487],\n",
       "       [12.12649401, 15.03043085],\n",
       "       [32.55393978, 34.43832124],\n",
       "       [10.30258108, 13.50328623],\n",
       "       [10.30258108, 13.50328623],\n",
       "       [35.74163999, 35.80119429],\n",
       "       [36.45885366, 36.92107726],\n",
       "       [16.82352449, 16.86989792],\n",
       "       [16.96203064, 20.3945501 ],\n",
       "       [12.86732409, 14.25129499],\n",
       "       [10.83874921, 13.99892784],\n",
       "       [39.33546217, 41.40731535],\n",
       "       [16.96203064, 20.3945501 ],\n",
       "       [32.55393978, 34.43832124],\n",
       "       [14.43192352, 15.30728444],\n",
       "       [16.82352449, 16.86989792],\n",
       "       [12.61407488, 15.49010324],\n",
       "       [15.28737554, 19.29902958],\n",
       "       [26.31491985, 28.82699573],\n",
       "       [10.30258108, 13.50328623],\n",
       "       [28.45079716, 29.8104397 ],\n",
       "       [10.30258108, 13.50328623],\n",
       "       [29.31811616, 31.42061028],\n",
       "       [12.12649401, 15.03043085],\n",
       "       [36.4180714 , 38.07254327],\n",
       "       [28.8999544 , 31.79292415],\n",
       "       [10.30258108, 13.50328623],\n",
       "       [12.61407488, 15.49010324],\n",
       "       [28.45079716, 29.8104397 ],\n",
       "       [29.31811616, 31.42061028],\n",
       "       [12.86732409, 14.25129499],\n",
       "       [32.58201081, 33.41906791],\n",
       "       [28.45079716, 29.8104397 ],\n",
       "       [36.45885366, 36.92107726],\n",
       "       [24.81636538, 30.11829487],\n",
       "       [14.47835907, 16.75365672],\n",
       "       [24.33534998, 26.03417309],\n",
       "       [39.33546217, 41.40731535],\n",
       "       [14.47835907, 16.75365672],\n",
       "       [39.33546217, 41.40731535],\n",
       "       [10.30258108, 13.50328623],\n",
       "       [41.97234049, 42.297834  ],\n",
       "       [32.65460697, 34.05784739],\n",
       "       [18.72227627, 21.59903298],\n",
       "       [16.96203064, 20.3945501 ],\n",
       "       [12.61407488, 15.49010324],\n",
       "       [11.18183681, 14.26514496],\n",
       "       [31.99601465, 33.28132043],\n",
       "       [11.4552881 , 14.39983541],\n",
       "       [12.12649401, 15.03043085],\n",
       "       [32.65460697, 34.05784739],\n",
       "       [14.43192352, 15.30728444],\n",
       "       [28.8999544 , 31.79292415],\n",
       "       [ 6.36995833, 11.4715    ],\n",
       "       [13.90168732, 16.4666873 ],\n",
       "       [26.31491985, 28.82699573],\n",
       "       [41.97234049, 42.297834  ],\n",
       "       [15.85645833, 21.791875  ],\n",
       "       [11.4552881 , 14.39983541],\n",
       "       [15.28737554, 19.29902958],\n",
       "       [32.65460697, 34.05784739],\n",
       "       [39.98623815, 39.52214115],\n",
       "       [10.83874921, 13.99892784],\n",
       "       [18.72227627, 21.59903298],\n",
       "       [25.58196148, 28.26157841],\n",
       "       [32.58201081, 33.41906791],\n",
       "       [29.31811616, 31.42061028],\n",
       "       [14.43192352, 15.30728444],\n",
       "       [14.3324839 , 16.72179719],\n",
       "       [39.98623815, 39.52214115],\n",
       "       [16.82352449, 16.86989792],\n",
       "       [32.58201081, 33.41906791],\n",
       "       [28.45079716, 29.8104397 ],\n",
       "       [12.61407488, 15.49010324],\n",
       "       [12.86732409, 14.25129499],\n",
       "       [11.4552881 , 14.39983541],\n",
       "       [39.33546217, 41.40731535],\n",
       "       [31.99601465, 33.28132043],\n",
       "       [11.18183681, 14.26514496],\n",
       "       [26.31491985, 28.82699573],\n",
       "       [36.4180714 , 38.07254327],\n",
       "       [25.58196148, 28.26157841],\n",
       "       [ 6.78304167, 11.79130208],\n",
       "       [29.31811616, 31.42061028],\n",
       "       [25.58196148, 28.26157841],\n",
       "       [32.58201081, 33.41906791],\n",
       "       [16.94364583, 23.49447917],\n",
       "       [14.43192352, 15.30728444],\n",
       "       [11.18183681, 14.26514496],\n",
       "       [14.47835907, 16.75365672],\n",
       "       [23.63305754, 26.51465195],\n",
       "       [39.98623815, 39.52214115],\n",
       "       [36.4180714 , 38.07254327],\n",
       "       [29.10559302, 30.77506119],\n",
       "       [36.4180714 , 38.07254327],\n",
       "       [41.97234049, 42.297834  ],\n",
       "       [16.82352449, 16.86989792],\n",
       "       [15.16123732, 17.95936986],\n",
       "       [15.16123732, 17.95936986],\n",
       "       [32.58201081, 33.41906791],\n",
       "       [32.58201081, 33.41906791],\n",
       "       [14.43192352, 15.30728444],\n",
       "       [ 7.29220833, 12.59929167],\n",
       "       [35.74163999, 35.80119429],\n",
       "       [18.72227627, 21.59903298],\n",
       "       [12.86732409, 14.25129499],\n",
       "       [39.98623815, 39.52214115],\n",
       "       [31.99601465, 33.28132043],\n",
       "       [15.28737554, 19.29902958],\n",
       "       [12.96876211, 16.03914691],\n",
       "       [36.4180714 , 38.07254327],\n",
       "       [28.8999544 , 31.79292415],\n",
       "       [24.33534998, 26.03417309],\n",
       "       [11.18183681, 14.26514496],\n",
       "       [36.4180714 , 38.07254327],\n",
       "       [12.12649401, 15.03043085],\n",
       "       [12.61407488, 15.49010324],\n",
       "       [16.96203064, 20.3945501 ],\n",
       "       [14.43192352, 15.30728444],\n",
       "       [29.10559302, 30.77506119],\n",
       "       [28.8999544 , 31.79292415],\n",
       "       [12.96876211, 16.03914691],\n",
       "       [15.16123732, 17.95936986],\n",
       "       [10.30258108, 13.50328623],\n",
       "       [28.8999544 , 31.79292415],\n",
       "       [16.82352449, 16.86989792],\n",
       "       [12.12649401, 15.03043085],\n",
       "       [11.18183681, 14.26514496],\n",
       "       [12.34201372, 15.22992342],\n",
       "       [15.85645833, 21.791875  ],\n",
       "       [39.98623815, 39.52214115],\n",
       "       [14.47835907, 16.75365672],\n",
       "       [29.31811616, 31.42061028],\n",
       "       [28.8999544 , 31.79292415],\n",
       "       [14.47835907, 16.75365672],\n",
       "       [23.63305754, 26.51465195],\n",
       "       [11.4552881 , 14.39983541],\n",
       "       [39.33546217, 41.40731535],\n",
       "       [16.94364583, 23.49447917],\n",
       "       [10.30258108, 13.50328623],\n",
       "       [29.31811616, 31.42061028],\n",
       "       [39.98623815, 39.52214115],\n",
       "       [10.30258108, 13.50328623],\n",
       "       [14.47835907, 16.75365672],\n",
       "       [15.16123732, 17.95936986],\n",
       "       [31.99601465, 33.28132043],\n",
       "       [29.31811616, 31.42061028],\n",
       "       [12.12649401, 15.03043085],\n",
       "       [36.45885366, 36.92107726],\n",
       "       [18.72227627, 21.59903298],\n",
       "       [41.97234049, 42.297834  ],\n",
       "       [16.96203064, 20.3945501 ],\n",
       "       [26.31491985, 28.82699573],\n",
       "       [14.43192352, 15.30728444],\n",
       "       [12.96876211, 16.03914691],\n",
       "       [29.31811616, 31.42061028],\n",
       "       [14.47835907, 16.75365672],\n",
       "       [12.12649401, 15.03043085],\n",
       "       [24.33534998, 26.03417309],\n",
       "       [13.90168732, 16.4666873 ],\n",
       "       [39.98623815, 39.52214115],\n",
       "       [28.8999544 , 31.79292415],\n",
       "       [28.57283333, 34.101     ],\n",
       "       [16.96203064, 20.3945501 ],\n",
       "       [41.97234049, 42.297834  ],\n",
       "       [28.8999544 , 31.79292415],\n",
       "       [13.90168732, 16.4666873 ],\n",
       "       [32.65460697, 34.05784739],\n",
       "       [15.16123732, 17.95936986],\n",
       "       [35.74163999, 35.80119429],\n",
       "       [32.65460697, 34.05784739],\n",
       "       [26.31491985, 28.82699573],\n",
       "       [25.58196148, 28.26157841],\n",
       "       [16.96203064, 20.3945501 ],\n",
       "       [32.65460697, 34.05784739],\n",
       "       [36.45885366, 36.92107726],\n",
       "       [32.65460697, 34.05784739],\n",
       "       [12.12649401, 15.03043085],\n",
       "       [12.12649401, 15.03043085],\n",
       "       [16.82352449, 16.86989792],\n",
       "       [16.82352449, 16.86989792],\n",
       "       [24.33534998, 26.03417309],\n",
       "       [32.55393978, 34.43832124],\n",
       "       [11.4552881 , 14.39983541],\n",
       "       [11.4552881 , 14.39983541],\n",
       "       [11.18183681, 14.26514496],\n",
       "       [16.82352449, 16.86989792],\n",
       "       [12.86732409, 14.25129499],\n",
       "       [12.61407488, 15.49010324],\n",
       "       [28.57283333, 34.101     ],\n",
       "       [24.33534998, 26.03417309],\n",
       "       [12.96876211, 16.03914691],\n",
       "       [26.31491985, 28.82699573],\n",
       "       [41.97234049, 42.297834  ],\n",
       "       [25.58196148, 28.26157841],\n",
       "       [12.86732409, 14.25129499],\n",
       "       [29.10559302, 30.77506119],\n",
       "       [32.65460697, 34.05784739],\n",
       "       [36.45885366, 36.92107726],\n",
       "       [24.33534998, 26.03417309],\n",
       "       [26.31491985, 28.82699573],\n",
       "       [36.4180714 , 38.07254327],\n",
       "       [32.65460697, 34.05784739],\n",
       "       [14.43192352, 15.30728444],\n",
       "       [28.8999544 , 31.79292415],\n",
       "       [15.16123732, 17.95936986],\n",
       "       [13.90168732, 16.4666873 ],\n",
       "       [39.98623815, 39.52214115],\n",
       "       [25.58196148, 28.26157841],\n",
       "       [ 7.29220833, 12.59929167]])"
      ]
     },
     "execution_count": 134,
     "metadata": {},
     "output_type": "execute_result"
    }
   ],
   "source": [
    "Y_pred_rf"
   ]
  },
  {
   "cell_type": "markdown",
   "metadata": {},
   "source": [
    "<h2> Menggunakan ANN"
   ]
  },
  {
   "cell_type": "code",
   "execution_count": 135,
   "metadata": {},
   "outputs": [
    {
     "name": "stdout",
     "output_type": "stream",
     "text": [
      "Model: \"sequential_1\"\n",
      "_________________________________________________________________\n",
      "Layer (type)                 Output Shape              Param #   \n",
      "=================================================================\n",
      "input (Dense)                (None, 256)               1792      \n",
      "_________________________________________________________________\n",
      "hidden2 (Dense)              (None, 128)               32896     \n",
      "_________________________________________________________________\n",
      "hidden3 (Dense)              (None, 64)                8256      \n",
      "_________________________________________________________________\n",
      "hidden4 (Dense)              (None, 32)                2080      \n",
      "_________________________________________________________________\n",
      "output (Dense)               (None, 2)                 66        \n",
      "=================================================================\n",
      "Total params: 45,090\n",
      "Trainable params: 45,090\n",
      "Non-trainable params: 0\n",
      "_________________________________________________________________\n"
     ]
    }
   ],
   "source": [
    "model = Sequential([\n",
    "    Dense(256, activation='relu', input_shape=(6,), name='input'),\n",
    "    Dense(128, activation='relu', name='hidden2'),\n",
    "    Dense(64, activation='relu', name='hidden3'),\n",
    "    Dense(32, activation='relu', name='hidden4'),\n",
    "    Dense(2, activation='linear', name='output')\n",
    "])\n",
    "\n",
    "model.compile(loss='mae', optimizer='adam', metrics=['mae'])\n",
    "model.summary()"
   ]
  },
  {
   "cell_type": "code",
   "execution_count": 136,
   "metadata": {},
   "outputs": [
    {
     "name": "stdout",
     "output_type": "stream",
     "text": [
      "Train on 537 samples\n",
      "Epoch 1/100\n",
      "537/537 [==============================] - 0s 886us/sample - loss: 0.4940 - mae: 0.4940\n",
      "Epoch 2/100\n",
      "537/537 [==============================] - 0s 85us/sample - loss: 0.2446 - mae: 0.2446\n",
      "Epoch 3/100\n",
      "537/537 [==============================] - 0s 89us/sample - loss: 0.2167 - mae: 0.2167\n",
      "Epoch 4/100\n",
      "537/537 [==============================] - 0s 80us/sample - loss: 0.2017 - mae: 0.2017\n",
      "Epoch 5/100\n",
      "537/537 [==============================] - 0s 91us/sample - loss: 0.1927 - mae: 0.1927\n",
      "Epoch 6/100\n",
      "537/537 [==============================] - 0s 81us/sample - loss: 0.1795 - mae: 0.1795\n",
      "Epoch 7/100\n",
      "537/537 [==============================] - 0s 94us/sample - loss: 0.1817 - mae: 0.1817\n",
      "Epoch 8/100\n",
      "537/537 [==============================] - 0s 95us/sample - loss: 0.1755 - mae: 0.1755\n",
      "Epoch 9/100\n",
      "537/537 [==============================] - 0s 79us/sample - loss: 0.1772 - mae: 0.1772\n",
      "Epoch 10/100\n",
      "537/537 [==============================] - 0s 92us/sample - loss: 0.1605 - mae: 0.1605\n",
      "Epoch 11/100\n",
      "537/537 [==============================] - 0s 85us/sample - loss: 0.1501 - mae: 0.1501\n",
      "Epoch 12/100\n",
      "537/537 [==============================] - 0s 94us/sample - loss: 0.1456 - mae: 0.1456\n",
      "Epoch 13/100\n",
      "537/537 [==============================] - 0s 81us/sample - loss: 0.1372 - mae: 0.1372\n",
      "Epoch 14/100\n",
      "537/537 [==============================] - 0s 81us/sample - loss: 0.1326 - mae: 0.1326\n",
      "Epoch 15/100\n",
      "537/537 [==============================] - 0s 94us/sample - loss: 0.1271 - mae: 0.1271\n",
      "Epoch 16/100\n",
      "537/537 [==============================] - 0s 78us/sample - loss: 0.1269 - mae: 0.1269\n",
      "Epoch 17/100\n",
      "537/537 [==============================] - 0s 82us/sample - loss: 0.1148 - mae: 0.1148\n",
      "Epoch 18/100\n",
      "537/537 [==============================] - 0s 83us/sample - loss: 0.1039 - mae: 0.1039\n",
      "Epoch 19/100\n",
      "537/537 [==============================] - 0s 79us/sample - loss: 0.1050 - mae: 0.1050\n",
      "Epoch 20/100\n",
      "537/537 [==============================] - 0s 81us/sample - loss: 0.0980 - mae: 0.0980\n",
      "Epoch 21/100\n",
      "537/537 [==============================] - 0s 96us/sample - loss: 0.0979 - mae: 0.0979\n",
      "Epoch 22/100\n",
      "537/537 [==============================] - 0s 88us/sample - loss: 0.1004 - mae: 0.1004\n",
      "Epoch 23/100\n",
      "537/537 [==============================] - 0s 79us/sample - loss: 0.0931 - mae: 0.0931\n",
      "Epoch 24/100\n",
      "537/537 [==============================] - 0s 80us/sample - loss: 0.0875 - mae: 0.0875\n",
      "Epoch 25/100\n",
      "537/537 [==============================] - 0s 80us/sample - loss: 0.0881 - mae: 0.0881\n",
      "Epoch 26/100\n",
      "537/537 [==============================] - 0s 79us/sample - loss: 0.0869 - mae: 0.0869\n",
      "Epoch 27/100\n",
      "537/537 [==============================] - 0s 104us/sample - loss: 0.0901 - mae: 0.0901\n",
      "Epoch 28/100\n",
      "537/537 [==============================] - 0s 81us/sample - loss: 0.0907 - mae: 0.0907\n",
      "Epoch 29/100\n",
      "537/537 [==============================] - 0s 78us/sample - loss: 0.0909 - mae: 0.0909\n",
      "Epoch 30/100\n",
      "537/537 [==============================] - 0s 79us/sample - loss: 0.0918 - mae: 0.0918\n",
      "Epoch 31/100\n",
      "537/537 [==============================] - 0s 101us/sample - loss: 0.0881 - mae: 0.0881\n",
      "Epoch 32/100\n",
      "537/537 [==============================] - 0s 82us/sample - loss: 0.0876 - mae: 0.0876\n",
      "Epoch 33/100\n",
      "537/537 [==============================] - 0s 97us/sample - loss: 0.0816 - mae: 0.0816\n",
      "Epoch 34/100\n",
      "537/537 [==============================] - 0s 82us/sample - loss: 0.0793 - mae: 0.0793\n",
      "Epoch 35/100\n",
      "537/537 [==============================] - 0s 91us/sample - loss: 0.0779 - mae: 0.0779\n",
      "Epoch 36/100\n",
      "537/537 [==============================] - 0s 82us/sample - loss: 0.0788 - mae: 0.0788\n",
      "Epoch 37/100\n",
      "537/537 [==============================] - 0s 87us/sample - loss: 0.0815 - mae: 0.0815\n",
      "Epoch 38/100\n",
      "537/537 [==============================] - 0s 93us/sample - loss: 0.0768 - mae: 0.0768\n",
      "Epoch 39/100\n",
      "537/537 [==============================] - 0s 85us/sample - loss: 0.0770 - mae: 0.0770\n",
      "Epoch 40/100\n",
      "537/537 [==============================] - 0s 89us/sample - loss: 0.0855 - mae: 0.0855\n",
      "Epoch 41/100\n",
      "537/537 [==============================] - 0s 87us/sample - loss: 0.0802 - mae: 0.0802\n",
      "Epoch 42/100\n",
      "537/537 [==============================] - 0s 85us/sample - loss: 0.0794 - mae: 0.0794\n",
      "Epoch 43/100\n",
      "537/537 [==============================] - 0s 81us/sample - loss: 0.0755 - mae: 0.0755\n",
      "Epoch 44/100\n",
      "537/537 [==============================] - 0s 91us/sample - loss: 0.0781 - mae: 0.0781\n",
      "Epoch 45/100\n",
      "537/537 [==============================] - 0s 88us/sample - loss: 0.0794 - mae: 0.0794\n",
      "Epoch 46/100\n",
      "537/537 [==============================] - 0s 91us/sample - loss: 0.0783 - mae: 0.0783\n",
      "Epoch 47/100\n",
      "537/537 [==============================] - 0s 86us/sample - loss: 0.0793 - mae: 0.0793\n",
      "Epoch 48/100\n",
      "537/537 [==============================] - 0s 94us/sample - loss: 0.0827 - mae: 0.0827\n",
      "Epoch 49/100\n",
      "537/537 [==============================] - 0s 78us/sample - loss: 0.0833 - mae: 0.0833\n",
      "Epoch 50/100\n",
      "537/537 [==============================] - 0s 105us/sample - loss: 0.0780 - mae: 0.0780\n",
      "Epoch 51/100\n",
      "537/537 [==============================] - 0s 80us/sample - loss: 0.0808 - mae: 0.0808\n",
      "Epoch 52/100\n",
      "537/537 [==============================] - 0s 101us/sample - loss: 0.0802 - mae: 0.0802\n",
      "Epoch 53/100\n",
      "537/537 [==============================] - 0s 81us/sample - loss: 0.0780 - mae: 0.0780\n",
      "Epoch 54/100\n",
      "537/537 [==============================] - 0s 105us/sample - loss: 0.0757 - mae: 0.0757\n",
      "Epoch 55/100\n",
      "537/537 [==============================] - 0s 96us/sample - loss: 0.0780 - mae: 0.0780\n",
      "Epoch 56/100\n",
      "537/537 [==============================] - 0s 77us/sample - loss: 0.0806 - mae: 0.0806\n",
      "Epoch 57/100\n",
      "537/537 [==============================] - 0s 91us/sample - loss: 0.0786 - mae: 0.0786\n",
      "Epoch 58/100\n",
      "537/537 [==============================] - 0s 77us/sample - loss: 0.0807 - mae: 0.0807\n",
      "Epoch 59/100\n",
      "537/537 [==============================] - 0s 98us/sample - loss: 0.0775 - mae: 0.0775\n",
      "Epoch 60/100\n",
      "537/537 [==============================] - 0s 78us/sample - loss: 0.0790 - mae: 0.0790\n",
      "Epoch 61/100\n",
      "537/537 [==============================] - 0s 96us/sample - loss: 0.0818 - mae: 0.0818\n",
      "Epoch 62/100\n",
      "537/537 [==============================] - 0s 83us/sample - loss: 0.0894 - mae: 0.0894\n",
      "Epoch 63/100\n",
      "537/537 [==============================] - 0s 100us/sample - loss: 0.0810 - mae: 0.0810\n",
      "Epoch 64/100\n",
      "537/537 [==============================] - 0s 81us/sample - loss: 0.0766 - mae: 0.0766\n",
      "Epoch 65/100\n",
      "537/537 [==============================] - 0s 94us/sample - loss: 0.0759 - mae: 0.0759\n",
      "Epoch 66/100\n",
      "537/537 [==============================] - 0s 81us/sample - loss: 0.0812 - mae: 0.0812\n",
      "Epoch 67/100\n",
      "537/537 [==============================] - 0s 96us/sample - loss: 0.0819 - mae: 0.0819\n",
      "Epoch 68/100\n",
      "537/537 [==============================] - 0s 80us/sample - loss: 0.0766 - mae: 0.0766\n",
      "Epoch 69/100\n",
      "537/537 [==============================] - 0s 79us/sample - loss: 0.0754 - mae: 0.0754\n",
      "Epoch 70/100\n",
      "537/537 [==============================] - 0s 91us/sample - loss: 0.0776 - mae: 0.0776\n",
      "Epoch 71/100\n",
      "537/537 [==============================] - 0s 78us/sample - loss: 0.0784 - mae: 0.0784\n",
      "Epoch 72/100\n",
      "537/537 [==============================] - 0s 98us/sample - loss: 0.0761 - mae: 0.0761\n",
      "Epoch 73/100\n",
      "537/537 [==============================] - 0s 78us/sample - loss: 0.0770 - mae: 0.0770\n",
      "Epoch 74/100\n",
      "537/537 [==============================] - 0s 92us/sample - loss: 0.0848 - mae: 0.0848\n",
      "Epoch 75/100\n",
      "537/537 [==============================] - 0s 126us/sample - loss: 0.0853 - mae: 0.0853\n",
      "Epoch 76/100\n",
      "537/537 [==============================] - 0s 117us/sample - loss: 0.0837 - mae: 0.0837\n",
      "Epoch 77/100\n",
      "537/537 [==============================] - 0s 102us/sample - loss: 0.0761 - mae: 0.0761\n",
      "Epoch 78/100\n",
      "537/537 [==============================] - 0s 79us/sample - loss: 0.0785 - mae: 0.0785\n",
      "Epoch 79/100\n",
      "537/537 [==============================] - 0s 99us/sample - loss: 0.0789 - mae: 0.0789\n",
      "Epoch 80/100\n",
      "537/537 [==============================] - 0s 80us/sample - loss: 0.0799 - mae: 0.0799\n",
      "Epoch 81/100\n",
      "537/537 [==============================] - 0s 91us/sample - loss: 0.0762 - mae: 0.0762\n",
      "Epoch 82/100\n",
      "537/537 [==============================] - 0s 85us/sample - loss: 0.0754 - mae: 0.0754\n",
      "Epoch 83/100\n",
      "537/537 [==============================] - 0s 86us/sample - loss: 0.0798 - mae: 0.0798\n",
      "Epoch 84/100\n",
      "537/537 [==============================] - 0s 124us/sample - loss: 0.0826 - mae: 0.0826\n",
      "Epoch 85/100\n",
      "537/537 [==============================] - 0s 116us/sample - loss: 0.0797 - mae: 0.0797\n",
      "Epoch 86/100\n",
      "537/537 [==============================] - 0s 84us/sample - loss: 0.0813 - mae: 0.0813\n",
      "Epoch 87/100\n",
      "537/537 [==============================] - 0s 87us/sample - loss: 0.0765 - mae: 0.0765\n",
      "Epoch 88/100\n",
      "537/537 [==============================] - 0s 85us/sample - loss: 0.0769 - mae: 0.0769\n",
      "Epoch 89/100\n",
      "537/537 [==============================] - 0s 78us/sample - loss: 0.0763 - mae: 0.0763\n",
      "Epoch 90/100\n",
      "537/537 [==============================] - 0s 118us/sample - loss: 0.0805 - mae: 0.0805\n",
      "Epoch 91/100\n",
      "537/537 [==============================] - 0s 118us/sample - loss: 0.0793 - mae: 0.0793\n",
      "Epoch 92/100\n",
      "537/537 [==============================] - 0s 94us/sample - loss: 0.0767 - mae: 0.0767\n",
      "Epoch 93/100\n",
      "537/537 [==============================] - 0s 82us/sample - loss: 0.0793 - mae: 0.0793\n",
      "Epoch 94/100\n",
      "537/537 [==============================] - 0s 90us/sample - loss: 0.0803 - mae: 0.0803\n",
      "Epoch 95/100\n",
      "537/537 [==============================] - 0s 87us/sample - loss: 0.0768 - mae: 0.0768\n",
      "Epoch 96/100\n",
      "537/537 [==============================] - 0s 79us/sample - loss: 0.0814 - mae: 0.0814\n",
      "Epoch 97/100\n",
      "537/537 [==============================] - 0s 97us/sample - loss: 0.0785 - mae: 0.0785\n",
      "Epoch 98/100\n",
      "537/537 [==============================] - 0s 77us/sample - loss: 0.0779 - mae: 0.0779\n",
      "Epoch 99/100\n",
      "537/537 [==============================] - 0s 94us/sample - loss: 0.0787 - mae: 0.0787\n",
      "Epoch 100/100\n",
      "537/537 [==============================] - 0s 79us/sample - loss: 0.0788 - mae: 0.0788\n"
     ]
    },
    {
     "data": {
      "text/plain": [
       "<tensorflow.python.keras.callbacks.History at 0x72a1bf1248>"
      ]
     },
     "execution_count": 136,
     "metadata": {},
     "output_type": "execute_result"
    }
   ],
   "source": [
    "model.fit(x_train, y_train, epochs=100)"
   ]
  },
  {
   "cell_type": "code",
   "execution_count": 137,
   "metadata": {},
   "outputs": [],
   "source": [
    "y_ann = model.predict(x_test)"
   ]
  },
  {
   "cell_type": "code",
   "execution_count": 138,
   "metadata": {},
   "outputs": [],
   "source": [
    "Y_ann = scaler.inverse_transform(y_ann)"
   ]
  },
  {
   "cell_type": "code",
   "execution_count": 139,
   "metadata": {},
   "outputs": [
    {
     "data": {
      "text/plain": [
       "0.9781467850794999"
      ]
     },
     "execution_count": 139,
     "metadata": {},
     "output_type": "execute_result"
    }
   ],
   "source": [
    "r2_score(y_test, y_ann)"
   ]
  },
  {
   "cell_type": "code",
   "execution_count": 140,
   "metadata": {},
   "outputs": [
    {
     "data": {
      "text/plain": [
       "0.9781467868741573"
      ]
     },
     "execution_count": 140,
     "metadata": {},
     "output_type": "execute_result"
    }
   ],
   "source": [
    "r2_score(Y_test, Y_ann)"
   ]
  },
  {
   "cell_type": "markdown",
   "metadata": {},
   "source": [
    "<h1> Kesimpulan"
   ]
  },
  {
   "cell_type": "markdown",
   "metadata": {},
   "source": [
    "Score dari model KNN : 0.96 <br>\n",
    "Score dari model Random Forest : 0.98 <br>\n",
    "Score dari ANN : 0.97 <br>\n",
    "Berdasarkan score dari  model-model tersebut, Random Forest merupakan model terbaik dibanding model lain yang diuji\n",
    "untuk memprediksi load"
   ]
  },
  {
   "cell_type": "code",
   "execution_count": null,
   "metadata": {},
   "outputs": [],
   "source": []
  },
  {
   "cell_type": "code",
   "execution_count": null,
   "metadata": {},
   "outputs": [],
   "source": []
  },
  {
   "cell_type": "code",
   "execution_count": null,
   "metadata": {},
   "outputs": [],
   "source": []
  }
 ],
 "metadata": {
  "kernelspec": {
   "display_name": "Python 3",
   "language": "python",
   "name": "python3"
  },
  "language_info": {
   "codemirror_mode": {
    "name": "ipython",
    "version": 3
   },
   "file_extension": ".py",
   "mimetype": "text/x-python",
   "name": "python",
   "nbconvert_exporter": "python",
   "pygments_lexer": "ipython3",
   "version": "3.7.7"
  }
 },
 "nbformat": 4,
 "nbformat_minor": 4
}

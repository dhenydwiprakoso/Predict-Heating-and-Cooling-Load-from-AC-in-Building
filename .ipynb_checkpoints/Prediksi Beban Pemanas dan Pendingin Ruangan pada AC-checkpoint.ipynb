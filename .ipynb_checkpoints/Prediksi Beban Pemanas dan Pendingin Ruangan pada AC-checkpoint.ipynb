{
 "cells": [
  {
   "cell_type": "code",
   "execution_count": 4,
   "metadata": {},
   "outputs": [],
   "source": [
    "import pandas as pd\n",
    "import seaborn as sns\n",
    "import matplotlib.pyplot as plt\n",
    "\n",
    "from math import sqrt\n",
    "from sklearn.preprocessing import StandardScaler\n",
    "from sklearn.model_selection import train_test_split\n",
    "\n",
    "from sklearn.neighbors import KNeighborsRegressor\n",
    "from sklearn.ensemble import RandomForestRegressor\n",
    "import tensorflow as tf\n",
    "from tensorflow.keras.layers import Input, Dense, Activation\n",
    "from tensorflow.keras import layers, Sequential\n",
    "\n",
    "\n",
    "from sklearn.metrics import r2_score"
   ]
  },
  {
   "cell_type": "code",
   "execution_count": 5,
   "metadata": {},
   "outputs": [],
   "source": [
    "data = pd.read_excel(\"data/ENB2012_data.xlsx\")"
   ]
  },
  {
   "cell_type": "code",
   "execution_count": 6,
   "metadata": {},
   "outputs": [],
   "source": [
    "data.columns = [\"Relative Compactness\", \"Surface Area\", \"Wall Area\", \"Roof Area\",\n",
    "               \"Overall Height\", \"Orientation\", \"Glazing Area\", \"Glazing Area Distribution\", \"Heating Load\", \"Cooling Load\"]"
   ]
  },
  {
   "cell_type": "markdown",
   "metadata": {},
   "source": [
    "<h1> Eksplorasi Data Analisis"
   ]
  },
  {
   "cell_type": "code",
   "execution_count": 7,
   "metadata": {},
   "outputs": [
    {
     "data": {
      "text/html": [
       "<div>\n",
       "<style scoped>\n",
       "    .dataframe tbody tr th:only-of-type {\n",
       "        vertical-align: middle;\n",
       "    }\n",
       "\n",
       "    .dataframe tbody tr th {\n",
       "        vertical-align: top;\n",
       "    }\n",
       "\n",
       "    .dataframe thead th {\n",
       "        text-align: right;\n",
       "    }\n",
       "</style>\n",
       "<table border=\"1\" class=\"dataframe\">\n",
       "  <thead>\n",
       "    <tr style=\"text-align: right;\">\n",
       "      <th></th>\n",
       "      <th>Relative Compactness</th>\n",
       "      <th>Surface Area</th>\n",
       "      <th>Wall Area</th>\n",
       "      <th>Roof Area</th>\n",
       "      <th>Overall Height</th>\n",
       "      <th>Orientation</th>\n",
       "      <th>Glazing Area</th>\n",
       "      <th>Glazing Area Distribution</th>\n",
       "      <th>Heating Load</th>\n",
       "      <th>Cooling Load</th>\n",
       "    </tr>\n",
       "  </thead>\n",
       "  <tbody>\n",
       "    <tr>\n",
       "      <th>758</th>\n",
       "      <td>0.66</td>\n",
       "      <td>759.5</td>\n",
       "      <td>318.5</td>\n",
       "      <td>220.5</td>\n",
       "      <td>3.5</td>\n",
       "      <td>4</td>\n",
       "      <td>0.4</td>\n",
       "      <td>5</td>\n",
       "      <td>14.92</td>\n",
       "      <td>17.55</td>\n",
       "    </tr>\n",
       "    <tr>\n",
       "      <th>759</th>\n",
       "      <td>0.66</td>\n",
       "      <td>759.5</td>\n",
       "      <td>318.5</td>\n",
       "      <td>220.5</td>\n",
       "      <td>3.5</td>\n",
       "      <td>5</td>\n",
       "      <td>0.4</td>\n",
       "      <td>5</td>\n",
       "      <td>15.16</td>\n",
       "      <td>18.06</td>\n",
       "    </tr>\n",
       "    <tr>\n",
       "      <th>760</th>\n",
       "      <td>0.64</td>\n",
       "      <td>784.0</td>\n",
       "      <td>343.0</td>\n",
       "      <td>220.5</td>\n",
       "      <td>3.5</td>\n",
       "      <td>2</td>\n",
       "      <td>0.4</td>\n",
       "      <td>5</td>\n",
       "      <td>17.69</td>\n",
       "      <td>20.82</td>\n",
       "    </tr>\n",
       "    <tr>\n",
       "      <th>761</th>\n",
       "      <td>0.64</td>\n",
       "      <td>784.0</td>\n",
       "      <td>343.0</td>\n",
       "      <td>220.5</td>\n",
       "      <td>3.5</td>\n",
       "      <td>3</td>\n",
       "      <td>0.4</td>\n",
       "      <td>5</td>\n",
       "      <td>18.19</td>\n",
       "      <td>20.21</td>\n",
       "    </tr>\n",
       "    <tr>\n",
       "      <th>762</th>\n",
       "      <td>0.64</td>\n",
       "      <td>784.0</td>\n",
       "      <td>343.0</td>\n",
       "      <td>220.5</td>\n",
       "      <td>3.5</td>\n",
       "      <td>4</td>\n",
       "      <td>0.4</td>\n",
       "      <td>5</td>\n",
       "      <td>18.16</td>\n",
       "      <td>20.71</td>\n",
       "    </tr>\n",
       "    <tr>\n",
       "      <th>763</th>\n",
       "      <td>0.64</td>\n",
       "      <td>784.0</td>\n",
       "      <td>343.0</td>\n",
       "      <td>220.5</td>\n",
       "      <td>3.5</td>\n",
       "      <td>5</td>\n",
       "      <td>0.4</td>\n",
       "      <td>5</td>\n",
       "      <td>17.88</td>\n",
       "      <td>21.40</td>\n",
       "    </tr>\n",
       "    <tr>\n",
       "      <th>764</th>\n",
       "      <td>0.62</td>\n",
       "      <td>808.5</td>\n",
       "      <td>367.5</td>\n",
       "      <td>220.5</td>\n",
       "      <td>3.5</td>\n",
       "      <td>2</td>\n",
       "      <td>0.4</td>\n",
       "      <td>5</td>\n",
       "      <td>16.54</td>\n",
       "      <td>16.88</td>\n",
       "    </tr>\n",
       "    <tr>\n",
       "      <th>765</th>\n",
       "      <td>0.62</td>\n",
       "      <td>808.5</td>\n",
       "      <td>367.5</td>\n",
       "      <td>220.5</td>\n",
       "      <td>3.5</td>\n",
       "      <td>3</td>\n",
       "      <td>0.4</td>\n",
       "      <td>5</td>\n",
       "      <td>16.44</td>\n",
       "      <td>17.11</td>\n",
       "    </tr>\n",
       "    <tr>\n",
       "      <th>766</th>\n",
       "      <td>0.62</td>\n",
       "      <td>808.5</td>\n",
       "      <td>367.5</td>\n",
       "      <td>220.5</td>\n",
       "      <td>3.5</td>\n",
       "      <td>4</td>\n",
       "      <td>0.4</td>\n",
       "      <td>5</td>\n",
       "      <td>16.48</td>\n",
       "      <td>16.61</td>\n",
       "    </tr>\n",
       "    <tr>\n",
       "      <th>767</th>\n",
       "      <td>0.62</td>\n",
       "      <td>808.5</td>\n",
       "      <td>367.5</td>\n",
       "      <td>220.5</td>\n",
       "      <td>3.5</td>\n",
       "      <td>5</td>\n",
       "      <td>0.4</td>\n",
       "      <td>5</td>\n",
       "      <td>16.64</td>\n",
       "      <td>16.03</td>\n",
       "    </tr>\n",
       "  </tbody>\n",
       "</table>\n",
       "</div>"
      ],
      "text/plain": [
       "     Relative Compactness  Surface Area  Wall Area  Roof Area  Overall Height  \\\n",
       "758                  0.66         759.5      318.5      220.5             3.5   \n",
       "759                  0.66         759.5      318.5      220.5             3.5   \n",
       "760                  0.64         784.0      343.0      220.5             3.5   \n",
       "761                  0.64         784.0      343.0      220.5             3.5   \n",
       "762                  0.64         784.0      343.0      220.5             3.5   \n",
       "763                  0.64         784.0      343.0      220.5             3.5   \n",
       "764                  0.62         808.5      367.5      220.5             3.5   \n",
       "765                  0.62         808.5      367.5      220.5             3.5   \n",
       "766                  0.62         808.5      367.5      220.5             3.5   \n",
       "767                  0.62         808.5      367.5      220.5             3.5   \n",
       "\n",
       "     Orientation  Glazing Area  Glazing Area Distribution  Heating Load  \\\n",
       "758            4           0.4                          5         14.92   \n",
       "759            5           0.4                          5         15.16   \n",
       "760            2           0.4                          5         17.69   \n",
       "761            3           0.4                          5         18.19   \n",
       "762            4           0.4                          5         18.16   \n",
       "763            5           0.4                          5         17.88   \n",
       "764            2           0.4                          5         16.54   \n",
       "765            3           0.4                          5         16.44   \n",
       "766            4           0.4                          5         16.48   \n",
       "767            5           0.4                          5         16.64   \n",
       "\n",
       "     Cooling Load  \n",
       "758         17.55  \n",
       "759         18.06  \n",
       "760         20.82  \n",
       "761         20.21  \n",
       "762         20.71  \n",
       "763         21.40  \n",
       "764         16.88  \n",
       "765         17.11  \n",
       "766         16.61  \n",
       "767         16.03  "
      ]
     },
     "execution_count": 7,
     "metadata": {},
     "output_type": "execute_result"
    }
   ],
   "source": [
    "data.tail(10)\n",
    "#sepertinya akan lebih menggunakan regresi"
   ]
  },
  {
   "cell_type": "code",
   "execution_count": 8,
   "metadata": {},
   "outputs": [
    {
     "name": "stdout",
     "output_type": "stream",
     "text": [
      "<class 'pandas.core.frame.DataFrame'>\n",
      "RangeIndex: 768 entries, 0 to 767\n",
      "Data columns (total 10 columns):\n",
      " #   Column                     Non-Null Count  Dtype  \n",
      "---  ------                     --------------  -----  \n",
      " 0   Relative Compactness       768 non-null    float64\n",
      " 1   Surface Area               768 non-null    float64\n",
      " 2   Wall Area                  768 non-null    float64\n",
      " 3   Roof Area                  768 non-null    float64\n",
      " 4   Overall Height             768 non-null    float64\n",
      " 5   Orientation                768 non-null    int64  \n",
      " 6   Glazing Area               768 non-null    float64\n",
      " 7   Glazing Area Distribution  768 non-null    int64  \n",
      " 8   Heating Load               768 non-null    float64\n",
      " 9   Cooling Load               768 non-null    float64\n",
      "dtypes: float64(8), int64(2)\n",
      "memory usage: 60.1 KB\n"
     ]
    }
   ],
   "source": [
    "data.info()"
   ]
  },
  {
   "cell_type": "code",
   "execution_count": 9,
   "metadata": {},
   "outputs": [
    {
     "data": {
      "text/html": [
       "<div>\n",
       "<style scoped>\n",
       "    .dataframe tbody tr th:only-of-type {\n",
       "        vertical-align: middle;\n",
       "    }\n",
       "\n",
       "    .dataframe tbody tr th {\n",
       "        vertical-align: top;\n",
       "    }\n",
       "\n",
       "    .dataframe thead th {\n",
       "        text-align: right;\n",
       "    }\n",
       "</style>\n",
       "<table border=\"1\" class=\"dataframe\">\n",
       "  <thead>\n",
       "    <tr style=\"text-align: right;\">\n",
       "      <th></th>\n",
       "      <th>Relative Compactness</th>\n",
       "      <th>Surface Area</th>\n",
       "      <th>Wall Area</th>\n",
       "      <th>Roof Area</th>\n",
       "      <th>Overall Height</th>\n",
       "      <th>Orientation</th>\n",
       "      <th>Glazing Area</th>\n",
       "      <th>Glazing Area Distribution</th>\n",
       "      <th>Heating Load</th>\n",
       "      <th>Cooling Load</th>\n",
       "    </tr>\n",
       "  </thead>\n",
       "  <tbody>\n",
       "    <tr>\n",
       "      <th>count</th>\n",
       "      <td>768.000000</td>\n",
       "      <td>768.000000</td>\n",
       "      <td>768.000000</td>\n",
       "      <td>768.000000</td>\n",
       "      <td>768.00000</td>\n",
       "      <td>768.000000</td>\n",
       "      <td>768.000000</td>\n",
       "      <td>768.00000</td>\n",
       "      <td>768.000000</td>\n",
       "      <td>768.000000</td>\n",
       "    </tr>\n",
       "    <tr>\n",
       "      <th>mean</th>\n",
       "      <td>0.764167</td>\n",
       "      <td>671.708333</td>\n",
       "      <td>318.500000</td>\n",
       "      <td>176.604167</td>\n",
       "      <td>5.25000</td>\n",
       "      <td>3.500000</td>\n",
       "      <td>0.234375</td>\n",
       "      <td>2.81250</td>\n",
       "      <td>22.307195</td>\n",
       "      <td>24.587760</td>\n",
       "    </tr>\n",
       "    <tr>\n",
       "      <th>std</th>\n",
       "      <td>0.105777</td>\n",
       "      <td>88.086116</td>\n",
       "      <td>43.626481</td>\n",
       "      <td>45.165950</td>\n",
       "      <td>1.75114</td>\n",
       "      <td>1.118763</td>\n",
       "      <td>0.133221</td>\n",
       "      <td>1.55096</td>\n",
       "      <td>10.090204</td>\n",
       "      <td>9.513306</td>\n",
       "    </tr>\n",
       "    <tr>\n",
       "      <th>min</th>\n",
       "      <td>0.620000</td>\n",
       "      <td>514.500000</td>\n",
       "      <td>245.000000</td>\n",
       "      <td>110.250000</td>\n",
       "      <td>3.50000</td>\n",
       "      <td>2.000000</td>\n",
       "      <td>0.000000</td>\n",
       "      <td>0.00000</td>\n",
       "      <td>6.010000</td>\n",
       "      <td>10.900000</td>\n",
       "    </tr>\n",
       "    <tr>\n",
       "      <th>25%</th>\n",
       "      <td>0.682500</td>\n",
       "      <td>606.375000</td>\n",
       "      <td>294.000000</td>\n",
       "      <td>140.875000</td>\n",
       "      <td>3.50000</td>\n",
       "      <td>2.750000</td>\n",
       "      <td>0.100000</td>\n",
       "      <td>1.75000</td>\n",
       "      <td>12.992500</td>\n",
       "      <td>15.620000</td>\n",
       "    </tr>\n",
       "    <tr>\n",
       "      <th>50%</th>\n",
       "      <td>0.750000</td>\n",
       "      <td>673.750000</td>\n",
       "      <td>318.500000</td>\n",
       "      <td>183.750000</td>\n",
       "      <td>5.25000</td>\n",
       "      <td>3.500000</td>\n",
       "      <td>0.250000</td>\n",
       "      <td>3.00000</td>\n",
       "      <td>18.950000</td>\n",
       "      <td>22.080000</td>\n",
       "    </tr>\n",
       "    <tr>\n",
       "      <th>75%</th>\n",
       "      <td>0.830000</td>\n",
       "      <td>741.125000</td>\n",
       "      <td>343.000000</td>\n",
       "      <td>220.500000</td>\n",
       "      <td>7.00000</td>\n",
       "      <td>4.250000</td>\n",
       "      <td>0.400000</td>\n",
       "      <td>4.00000</td>\n",
       "      <td>31.667500</td>\n",
       "      <td>33.132500</td>\n",
       "    </tr>\n",
       "    <tr>\n",
       "      <th>max</th>\n",
       "      <td>0.980000</td>\n",
       "      <td>808.500000</td>\n",
       "      <td>416.500000</td>\n",
       "      <td>220.500000</td>\n",
       "      <td>7.00000</td>\n",
       "      <td>5.000000</td>\n",
       "      <td>0.400000</td>\n",
       "      <td>5.00000</td>\n",
       "      <td>43.100000</td>\n",
       "      <td>48.030000</td>\n",
       "    </tr>\n",
       "  </tbody>\n",
       "</table>\n",
       "</div>"
      ],
      "text/plain": [
       "       Relative Compactness  Surface Area   Wall Area   Roof Area  \\\n",
       "count            768.000000    768.000000  768.000000  768.000000   \n",
       "mean               0.764167    671.708333  318.500000  176.604167   \n",
       "std                0.105777     88.086116   43.626481   45.165950   \n",
       "min                0.620000    514.500000  245.000000  110.250000   \n",
       "25%                0.682500    606.375000  294.000000  140.875000   \n",
       "50%                0.750000    673.750000  318.500000  183.750000   \n",
       "75%                0.830000    741.125000  343.000000  220.500000   \n",
       "max                0.980000    808.500000  416.500000  220.500000   \n",
       "\n",
       "       Overall Height  Orientation  Glazing Area  Glazing Area Distribution  \\\n",
       "count       768.00000   768.000000    768.000000                  768.00000   \n",
       "mean          5.25000     3.500000      0.234375                    2.81250   \n",
       "std           1.75114     1.118763      0.133221                    1.55096   \n",
       "min           3.50000     2.000000      0.000000                    0.00000   \n",
       "25%           3.50000     2.750000      0.100000                    1.75000   \n",
       "50%           5.25000     3.500000      0.250000                    3.00000   \n",
       "75%           7.00000     4.250000      0.400000                    4.00000   \n",
       "max           7.00000     5.000000      0.400000                    5.00000   \n",
       "\n",
       "       Heating Load  Cooling Load  \n",
       "count    768.000000    768.000000  \n",
       "mean      22.307195     24.587760  \n",
       "std       10.090204      9.513306  \n",
       "min        6.010000     10.900000  \n",
       "25%       12.992500     15.620000  \n",
       "50%       18.950000     22.080000  \n",
       "75%       31.667500     33.132500  \n",
       "max       43.100000     48.030000  "
      ]
     },
     "execution_count": 9,
     "metadata": {},
     "output_type": "execute_result"
    }
   ],
   "source": [
    "data.describe()"
   ]
  },
  {
   "cell_type": "code",
   "execution_count": 10,
   "metadata": {},
   "outputs": [
    {
     "data": {
      "text/plain": [
       "(768, 10)"
      ]
     },
     "execution_count": 10,
     "metadata": {},
     "output_type": "execute_result"
    }
   ],
   "source": [
    "data.shape"
   ]
  },
  {
   "cell_type": "code",
   "execution_count": 11,
   "metadata": {},
   "outputs": [
    {
     "data": {
      "text/plain": [
       "Relative Compactness         0\n",
       "Surface Area                 0\n",
       "Wall Area                    0\n",
       "Roof Area                    0\n",
       "Overall Height               0\n",
       "Orientation                  0\n",
       "Glazing Area                 0\n",
       "Glazing Area Distribution    0\n",
       "Heating Load                 0\n",
       "Cooling Load                 0\n",
       "dtype: int64"
      ]
     },
     "execution_count": 11,
     "metadata": {},
     "output_type": "execute_result"
    }
   ],
   "source": [
    "data.isnull().sum()\n",
    "#tidak ada data yang kosong pada dataset"
   ]
  },
  {
   "cell_type": "code",
   "execution_count": 12,
   "metadata": {},
   "outputs": [
    {
     "data": {
      "text/plain": [
       "587"
      ]
     },
     "execution_count": 12,
     "metadata": {},
     "output_type": "execute_result"
    }
   ],
   "source": [
    "data['Heating Load'].unique().size"
   ]
  },
  {
   "cell_type": "code",
   "execution_count": 13,
   "metadata": {},
   "outputs": [
    {
     "data": {
      "text/plain": [
       "636"
      ]
     },
     "execution_count": 13,
     "metadata": {},
     "output_type": "execute_result"
    }
   ],
   "source": [
    "data['Cooling Load'].unique().size"
   ]
  },
  {
   "cell_type": "code",
   "execution_count": 14,
   "metadata": {},
   "outputs": [
    {
     "data": {
      "image/png": "[encoded data removed]",
      "text/plain": [
       "<Figure size 432x288 with 1 Axes>"
      ]
     },
     "metadata": {
      "needs_background": "light"
     },
     "output_type": "display_data"
    }
   ],
   "source": [
    "plt.hist((data['Heating Load']), facecolor='red', edgecolor='black', bins=30)\n",
    "plt.hist((data['Cooling Load']), facecolor='lightblue', edgecolor='darkblue', bins=30, alpha=0.8)\n",
    "plt.ylabel('frequency')\n",
    "plt.xlabel('load')\n",
    "plt.show()\n",
    "#persebaran tertinggi pada data berada di antara 10 dan 20"
   ]
  },
  {
   "cell_type": "markdown",
   "metadata": {},
   "source": [
    "<h2> Relative Compactness"
   ]
  },
  {
   "cell_type": "code",
   "execution_count": 15,
   "metadata": {},
   "outputs": [
    {
     "data": {
      "text/plain": [
       "12"
      ]
     },
     "execution_count": 15,
     "metadata": {},
     "output_type": "execute_result"
    }
   ],
   "source": [
    "data['Relative Compactness'].unique().size"
   ]
  },
  {
   "cell_type": "code",
   "execution_count": 16,
   "metadata": {},
   "outputs": [
    {
     "data": {
      "text/plain": [
       "array([0.98, 0.9 , 0.86, 0.82, 0.79, 0.76, 0.74, 0.71, 0.69, 0.66, 0.64,\n",
       "       0.62])"
      ]
     },
     "execution_count": 16,
     "metadata": {},
     "output_type": "execute_result"
    }
   ],
   "source": [
    "data['Relative Compactness'].unique()\n",
    "#setelah ditelusuri data ini merupakan rasio dari ukuran seberapa compact bangunan"
   ]
  },
  {
   "cell_type": "code",
   "execution_count": 17,
   "metadata": {},
   "outputs": [
    {
     "data": {
      "image/png": "[encoded data removed]",
      "text/plain": [
       "<Figure size 1080x360 with 2 Axes>"
      ]
     },
     "metadata": {
      "needs_background": "light"
     },
     "output_type": "display_data"
    }
   ],
   "source": [
    "fig, (ax1, ax2) = plt.subplots(1,2, figsize=(15, 5))\n",
    "ax1.scatter(data['Relative Compactness'], data['Heating Load'], color='red')\n",
    "ax1.set_xlabel('Relative Compactness')\n",
    "ax1.set_ylabel('Heating Load')\n",
    "ax2.scatter(data['Relative Compactness'], data['Cooling Load'], color='lightblue')\n",
    "ax2.set_xlabel('Relative Compactness')\n",
    "ax2.set_ylabel('Cooling Load')\n",
    "plt.show()\n",
    "#dapat dilihat bahwa semakin tinggi relative compactness maka beban AC untuk pemanas dan pendingin ruangan akan meningkat\n",
    "#terutama setelah relative compactness lebih dari 0.75"
   ]
  },
  {
   "cell_type": "code",
   "execution_count": 18,
   "metadata": {},
   "outputs": [
    {
     "data": {
      "text/plain": [
       "<matplotlib.axes._subplots.AxesSubplot at 0x80b2bd0ac8>"
      ]
     },
     "execution_count": 18,
     "metadata": {},
     "output_type": "execute_result"
    },
    {
     "data": {
      "image/png": "[encoded data removed]",
      "text/plain": [
       "<Figure size 432x288 with 1 Axes>"
      ]
     },
     "metadata": {
      "needs_background": "light"
     },
     "output_type": "display_data"
    }
   ],
   "source": [
    "sns.boxplot(data['Relative Compactness'], color=\"lightgreen\",  notch=True)\n",
    "#tidak ada outliers dari data"
   ]
  },
  {
   "cell_type": "markdown",
   "metadata": {},
   "source": [
    "<h2> Surface Area"
   ]
  },
  {
   "cell_type": "code",
   "execution_count": 19,
   "metadata": {},
   "outputs": [
    {
     "data": {
      "text/plain": [
       "12"
      ]
     },
     "execution_count": 19,
     "metadata": {},
     "output_type": "execute_result"
    }
   ],
   "source": [
    "data['Surface Area'].unique().size"
   ]
  },
  {
   "cell_type": "code",
   "execution_count": 20,
   "metadata": {},
   "outputs": [
    {
     "data": {
      "text/plain": [
       "array([514.5, 563.5, 588. , 612.5, 637. , 661.5, 686. , 710.5, 735. ,\n",
       "       759.5, 784. , 808.5])"
      ]
     },
     "execution_count": 20,
     "metadata": {},
     "output_type": "execute_result"
    }
   ],
   "source": [
    "data['Surface Area'].unique()\n",
    "#sedikit juga jenis macam  ukuran area surface yang terdata"
   ]
  },
  {
   "cell_type": "code",
   "execution_count": 21,
   "metadata": {},
   "outputs": [
    {
     "data": {
      "image/png": "[encoded data removed]",
      "text/plain": [
       "<Figure size 1080x360 with 2 Axes>"
      ]
     },
     "metadata": {
      "needs_background": "light"
     },
     "output_type": "display_data"
    }
   ],
   "source": [
    "fig, (ax1, ax2) = plt.subplots(1,2, figsize=(15, 5))\n",
    "ax1.scatter(data['Surface Area'], data['Heating Load'], color='red')\n",
    "ax1.set_xlabel('Surface Area')\n",
    "ax1.set_ylabel('Heating Load')\n",
    "ax2.scatter(data['Surface Area'], data['Cooling Load'], color='lightblue')\n",
    "ax2.set_xlabel('Surface Area')\n",
    "ax2.set_ylabel('Cooling Load')\n",
    "plt.show()\n",
    "#heating load dan cooling load semakin besar jika surface area 661.5 ke bawah"
   ]
  },
  {
   "cell_type": "code",
   "execution_count": 22,
   "metadata": {},
   "outputs": [
    {
     "data": {
      "text/plain": [
       "<matplotlib.axes._subplots.AxesSubplot at 0x80bc705448>"
      ]
     },
     "execution_count": 22,
     "metadata": {},
     "output_type": "execute_result"
    },
    {
     "data": {
      "image/png": "[encoded data removed]",
      "text/plain": [
       "<Figure size 432x288 with 1 Axes>"
      ]
     },
     "metadata": {
      "needs_background": "light"
     },
     "output_type": "display_data"
    }
   ],
   "source": [
    "sns.boxplot(data['Surface Area'], color=\"lightyellow\",  notch=True)\n",
    "#tidak ada outliers pada data surface area "
   ]
  },
  {
   "cell_type": "markdown",
   "metadata": {},
   "source": [
    "<h2> Wall Area"
   ]
  },
  {
   "cell_type": "code",
   "execution_count": 23,
   "metadata": {},
   "outputs": [
    {
     "data": {
      "text/plain": [
       "7"
      ]
     },
     "execution_count": 23,
     "metadata": {},
     "output_type": "execute_result"
    }
   ],
   "source": [
    "data['Wall Area'].unique().size"
   ]
  },
  {
   "cell_type": "code",
   "execution_count": 24,
   "metadata": {},
   "outputs": [
    {
     "data": {
      "text/plain": [
       "array([294. , 318.5, 343. , 416.5, 245. , 269.5, 367.5])"
      ]
     },
     "execution_count": 24,
     "metadata": {},
     "output_type": "execute_result"
    }
   ],
   "source": [
    "data['Wall Area'].unique()"
   ]
  },
  {
   "cell_type": "code",
   "execution_count": 25,
   "metadata": {},
   "outputs": [
    {
     "data": {
      "image/png": "[encoded data removed]",
      "text/plain": [
       "<Figure size 1080x360 with 2 Axes>"
      ]
     },
     "metadata": {
      "needs_background": "light"
     },
     "output_type": "display_data"
    }
   ],
   "source": [
    "fig, (ax1, ax2) = plt.subplots(1,2, figsize=(15, 5))\n",
    "ax1.scatter(data['Wall Area'], data['Heating Load'], color='red')\n",
    "ax1.set_xlabel('Wall Area')\n",
    "ax1.set_ylabel('Heating Load')\n",
    "ax2.scatter(data['Wall Area'], data['Cooling Load'], color='lightblue')\n",
    "ax2.set_xlabel('Wall Area')\n",
    "ax2.set_ylabel('Cooling Load')\n",
    "plt.show()\n",
    "#load relatif rendah saat wall area kurang dari 275 serta diantara 350 dan 375"
   ]
  },
  {
   "cell_type": "code",
   "execution_count": 26,
   "metadata": {},
   "outputs": [
    {
     "data": {
      "text/plain": [
       "<matplotlib.axes._subplots.AxesSubplot at 0x80b2b7fdc8>"
      ]
     },
     "execution_count": 26,
     "metadata": {},
     "output_type": "execute_result"
    },
    {
     "data": {
      "image/png": "[encoded data removed]",
      "text/plain": [
       "<Figure size 432x288 with 1 Axes>"
      ]
     },
     "metadata": {
      "needs_background": "light"
     },
     "output_type": "display_data"
    }
   ],
   "source": [
    "sns.boxplot(data['Wall Area'], color=\"purple\",  notch=True)\n",
    "#tidak ada outliers pada wall area"
   ]
  },
  {
   "cell_type": "markdown",
   "metadata": {},
   "source": [
    "<h2> Roof Area"
   ]
  },
  {
   "cell_type": "code",
   "execution_count": 27,
   "metadata": {},
   "outputs": [
    {
     "data": {
      "text/plain": [
       "4"
      ]
     },
     "execution_count": 27,
     "metadata": {},
     "output_type": "execute_result"
    }
   ],
   "source": [
    "data['Roof Area'].unique().size"
   ]
  },
  {
   "cell_type": "code",
   "execution_count": 28,
   "metadata": {},
   "outputs": [
    {
     "data": {
      "text/plain": [
       "array([110.25, 122.5 , 147.  , 220.5 ])"
      ]
     },
     "execution_count": 28,
     "metadata": {},
     "output_type": "execute_result"
    }
   ],
   "source": [
    "data['Roof Area'].unique()"
   ]
  },
  {
   "cell_type": "code",
   "execution_count": 29,
   "metadata": {},
   "outputs": [
    {
     "data": {
      "image/png": "[encoded data removed]",
      "text/plain": [
       "<Figure size 1080x360 with 2 Axes>"
      ]
     },
     "metadata": {
      "needs_background": "light"
     },
     "output_type": "display_data"
    }
   ],
   "source": [
    "fig, (ax1, ax2) = plt.subplots(1,2, figsize=(15, 5))\n",
    "ax1.scatter(data['Roof Area'], data['Heating Load'], color='red')\n",
    "ax1.set_xlabel('Roof Area')\n",
    "ax1.set_ylabel('Heating Load')\n",
    "ax2.scatter(data['Roof Area'], data['Cooling Load'], color='lightblue')\n",
    "ax2.set_xlabel('Roof Area')\n",
    "ax2.set_ylabel('Cooling Load')\n",
    "plt.show()\n",
    "#load bisa tinggi saat roof area dibawah 160"
   ]
  },
  {
   "cell_type": "code",
   "execution_count": 30,
   "metadata": {},
   "outputs": [
    {
     "data": {
      "text/plain": [
       "<matplotlib.axes._subplots.AxesSubplot at 0x80bc969e48>"
      ]
     },
     "execution_count": 30,
     "metadata": {},
     "output_type": "execute_result"
    },
    {
     "data": {
      "image/png": "[encoded data removed]",
      "text/plain": [
       "<Figure size 432x288 with 1 Axes>"
      ]
     },
     "metadata": {
      "needs_background": "light"
     },
     "output_type": "display_data"
    }
   ],
   "source": [
    "sns.boxplot(data['Roof Area'], color=\"Gray\",  notch=True)\n",
    "#tidak ada outliers"
   ]
  },
  {
   "cell_type": "markdown",
   "metadata": {},
   "source": [
    "<h2> Overall Height"
   ]
  },
  {
   "cell_type": "code",
   "execution_count": 31,
   "metadata": {},
   "outputs": [
    {
     "data": {
      "text/plain": [
       "2"
      ]
     },
     "execution_count": 31,
     "metadata": {},
     "output_type": "execute_result"
    }
   ],
   "source": [
    "data['Overall Height'].unique().size"
   ]
  },
  {
   "cell_type": "code",
   "execution_count": 32,
   "metadata": {},
   "outputs": [
    {
     "data": {
      "text/plain": [
       "array([7. , 3.5])"
      ]
     },
     "execution_count": 32,
     "metadata": {},
     "output_type": "execute_result"
    }
   ],
   "source": [
    "data['Overall Height'].unique()"
   ]
  },
  {
   "cell_type": "code",
   "execution_count": 33,
   "metadata": {},
   "outputs": [
    {
     "data": {
      "image/png": "[encoded data removed]",
      "text/plain": [
       "<Figure size 1080x360 with 2 Axes>"
      ]
     },
     "metadata": {
      "needs_background": "light"
     },
     "output_type": "display_data"
    }
   ],
   "source": [
    "fig, (ax1, ax2) = plt.subplots(1,2, figsize=(15, 5))\n",
    "ax1.scatter(data['Overall Height'], data['Heating Load'], color='red')\n",
    "ax1.set_xlabel('Overall Height')\n",
    "ax1.set_ylabel('Heating Load')\n",
    "ax2.scatter(data['Overall Height'], data['Cooling Load'], color='lightblue')\n",
    "ax2.set_xlabel('Overall Height')\n",
    "ax2.set_ylabel('Cooling Load')\n",
    "plt.show()\n",
    "#semakin besar height maka semakin besar load"
   ]
  },
  {
   "cell_type": "code",
   "execution_count": 34,
   "metadata": {},
   "outputs": [
    {
     "data": {
      "text/plain": [
       "<matplotlib.axes._subplots.AxesSubplot at 0x80bc969bc8>"
      ]
     },
     "execution_count": 34,
     "metadata": {},
     "output_type": "execute_result"
    },
    {
     "data": {
      "image/png": "[encoded data removed]",
      "text/plain": [
       "<Figure size 432x288 with 1 Axes>"
      ]
     },
     "metadata": {
      "needs_background": "light"
     },
     "output_type": "display_data"
    }
   ],
   "source": [
    "sns.boxplot(data['Overall Height'], color=\"Orange\",  notch=True)\n",
    "#tidak ada outliers"
   ]
  },
  {
   "cell_type": "markdown",
   "metadata": {},
   "source": [
    "<h2>Orientation"
   ]
  },
  {
   "cell_type": "code",
   "execution_count": 35,
   "metadata": {},
   "outputs": [
    {
     "data": {
      "text/plain": [
       "4"
      ]
     },
     "execution_count": 35,
     "metadata": {},
     "output_type": "execute_result"
    }
   ],
   "source": [
    "data['Orientation'].unique().size\n",
    "#terdapat 4 jenis orientation pada ruangan"
   ]
  },
  {
   "cell_type": "code",
   "execution_count": 36,
   "metadata": {},
   "outputs": [
    {
     "data": {
      "text/plain": [
       "array([2, 3, 4, 5], dtype=int64)"
      ]
     },
     "execution_count": 36,
     "metadata": {},
     "output_type": "execute_result"
    }
   ],
   "source": [
    "data['Orientation'].unique()"
   ]
  },
  {
   "cell_type": "code",
   "execution_count": 37,
   "metadata": {},
   "outputs": [
    {
     "data": {
      "image/png": "[encoded data removed]",
      "text/plain": [
       "<Figure size 1080x360 with 2 Axes>"
      ]
     },
     "metadata": {
      "needs_background": "light"
     },
     "output_type": "display_data"
    }
   ],
   "source": [
    "fig, (ax1, ax2) = plt.subplots(1,2, figsize=(15, 5))\n",
    "ax1.scatter(data['Orientation'], data['Heating Load'], color='red')\n",
    "ax1.set_xlabel('Orientation')\n",
    "ax1.set_ylabel('Heating Load')\n",
    "ax2.scatter(data['Orientation'], data['Cooling Load'], color='lightblue')\n",
    "ax2.set_xlabel('Orientation')\n",
    "ax2.set_ylabel('Cooling Load')\n",
    "plt.show()\n",
    "#distribusi nya rata, kami yakin tidak berpengaruh besar\n",
    "#data categorical"
   ]
  },
  {
   "cell_type": "code",
   "execution_count": 38,
   "metadata": {},
   "outputs": [
    {
     "data": {
      "text/plain": [
       "<matplotlib.axes._subplots.AxesSubplot at 0x80c7b00a08>"
      ]
     },
     "execution_count": 38,
     "metadata": {},
     "output_type": "execute_result"
    },
    {
     "data": {
      "image/png": "[encoded data removed]",
      "text/plain": [
       "<Figure size 432x288 with 1 Axes>"
      ]
     },
     "metadata": {
      "needs_background": "light"
     },
     "output_type": "display_data"
    }
   ],
   "source": [
    "sns.boxplot(data['Orientation'], color=\"Brown\",  notch=True)\n",
    "#tidak ada outliers"
   ]
  },
  {
   "cell_type": "markdown",
   "metadata": {},
   "source": [
    "<h2>Glazing Area"
   ]
  },
  {
   "cell_type": "code",
   "execution_count": 39,
   "metadata": {},
   "outputs": [
    {
     "data": {
      "text/plain": [
       "4"
      ]
     },
     "execution_count": 39,
     "metadata": {},
     "output_type": "execute_result"
    }
   ],
   "source": [
    "data['Glazing Area'].unique().size"
   ]
  },
  {
   "cell_type": "code",
   "execution_count": 40,
   "metadata": {},
   "outputs": [
    {
     "data": {
      "text/plain": [
       "array([0.  , 0.1 , 0.25, 0.4 ])"
      ]
     },
     "execution_count": 40,
     "metadata": {},
     "output_type": "execute_result"
    }
   ],
   "source": [
    "data['Glazing Area'].unique()"
   ]
  },
  {
   "cell_type": "code",
   "execution_count": 41,
   "metadata": {},
   "outputs": [
    {
     "data": {
      "image/png": "[encoded data removed]",
      "text/plain": [
       "<Figure size 1080x360 with 2 Axes>"
      ]
     },
     "metadata": {
      "needs_background": "light"
     },
     "output_type": "display_data"
    }
   ],
   "source": [
    "fig, (ax1, ax2) = plt.subplots(1,2, figsize=(15, 5))\n",
    "ax1.scatter(data['Glazing Area'], data['Heating Load'], color='red')\n",
    "ax1.set_xlabel('Glazing Area')\n",
    "ax1.set_ylabel('Heating Load')\n",
    "ax2.scatter(data['Glazing Area'], data['Cooling Load'], color='lightblue')\n",
    "ax2.set_xlabel('Glazing Area')\n",
    "ax2.set_ylabel('Cooling Load')\n",
    "plt.show()\n",
    "#data ini kurang berpengaruh juga sepertinya, karena range load pada tiap data glazing area besar semua\n",
    "#selain itu semakin meningkat glazing area maka semakin meningkat load nya"
   ]
  },
  {
   "cell_type": "code",
   "execution_count": 42,
   "metadata": {},
   "outputs": [
    {
     "data": {
      "text/plain": [
       "<matplotlib.axes._subplots.AxesSubplot at 0x80c7b00088>"
      ]
     },
     "execution_count": 42,
     "metadata": {},
     "output_type": "execute_result"
    },
    {
     "data": {
      "image/png": "[encoded data removed]",
      "text/plain": [
       "<Figure size 432x288 with 1 Axes>"
      ]
     },
     "metadata": {
      "needs_background": "light"
     },
     "output_type": "display_data"
    }
   ],
   "source": [
    "sns.boxplot(data['Glazing Area'], color=\"Indigo\",  notch=True)\n",
    "#tidak ada outliers"
   ]
  },
  {
   "cell_type": "markdown",
   "metadata": {},
   "source": [
    "<h2> Glazing Area Datribution"
   ]
  },
  {
   "cell_type": "code",
   "execution_count": 43,
   "metadata": {},
   "outputs": [
    {
     "data": {
      "text/plain": [
       "6"
      ]
     },
     "execution_count": 43,
     "metadata": {},
     "output_type": "execute_result"
    }
   ],
   "source": [
    "data['Glazing Area Distribution'].unique().size"
   ]
  },
  {
   "cell_type": "code",
   "execution_count": 44,
   "metadata": {},
   "outputs": [
    {
     "data": {
      "text/plain": [
       "array([0, 1, 2, 3, 4, 5], dtype=int64)"
      ]
     },
     "execution_count": 44,
     "metadata": {},
     "output_type": "execute_result"
    }
   ],
   "source": [
    "data['Glazing Area Distribution'].unique()"
   ]
  },
  {
   "cell_type": "code",
   "execution_count": 45,
   "metadata": {},
   "outputs": [
    {
     "data": {
      "image/png": "[encoded data removed]",
      "text/plain": [
       "<Figure size 1080x360 with 2 Axes>"
      ]
     },
     "metadata": {
      "needs_background": "light"
     },
     "output_type": "display_data"
    }
   ],
   "source": [
    "fig, (ax1, ax2) = plt.subplots(1,2, figsize=(15, 5))\n",
    "ax1.scatter(data['Glazing Area Distribution'], data['Heating Load'], color='red')\n",
    "ax1.set_xlabel('Glazing Area Distribution')\n",
    "ax1.set_ylabel('Heating Load')\n",
    "ax2.scatter(data['Glazing Area Distribution'], data['Cooling Load'], color='lightblue')\n",
    "ax2.set_xlabel('Glazing Area Distribution')\n",
    "ax2.set_ylabel('Cooling Load')\n",
    "plt.show()\n",
    "#range lebih kecil saat istribusinya nol, tapi sisanya tidak terlalu berpengaruh\n",
    "#data categorical"
   ]
  },
  {
   "cell_type": "code",
   "execution_count": 46,
   "metadata": {},
   "outputs": [
    {
     "data": {
      "text/plain": [
       "<matplotlib.axes._subplots.AxesSubplot at 0x80c7e0fbc8>"
      ]
     },
     "execution_count": 46,
     "metadata": {},
     "output_type": "execute_result"
    },
    {
     "data": {
      "image/png": "[encoded data removed]",
      "text/plain": [
       "<Figure size 432x288 with 1 Axes>"
      ]
     },
     "metadata": {
      "needs_background": "light"
     },
     "output_type": "display_data"
    }
   ],
   "source": [
    "sns.boxplot(data['Glazing Area Distribution'], color=\"darkgreen\",  notch=True)"
   ]
  },
  {
   "cell_type": "code",
   "execution_count": 47,
   "metadata": {},
   "outputs": [],
   "source": [
    "data_encode = pd.concat([data,\n",
    "                       pd.get_dummies(data['Orientation'], drop_first = True),\n",
    "                       pd.get_dummies(data['Glazing Area Distribution'], drop_first = True)\n",
    "                        ], axis=1)"
   ]
  },
  {
   "cell_type": "code",
   "execution_count": 48,
   "metadata": {},
   "outputs": [
    {
     "data": {
      "text/html": [
       "<div>\n",
       "<style scoped>\n",
       "    .dataframe tbody tr th:only-of-type {\n",
       "        vertical-align: middle;\n",
       "    }\n",
       "\n",
       "    .dataframe tbody tr th {\n",
       "        vertical-align: top;\n",
       "    }\n",
       "\n",
       "    .dataframe thead th {\n",
       "        text-align: right;\n",
       "    }\n",
       "</style>\n",
       "<table border=\"1\" class=\"dataframe\">\n",
       "  <thead>\n",
       "    <tr style=\"text-align: right;\">\n",
       "      <th></th>\n",
       "      <th>Relative Compactness</th>\n",
       "      <th>Surface Area</th>\n",
       "      <th>Wall Area</th>\n",
       "      <th>Roof Area</th>\n",
       "      <th>Overall Height</th>\n",
       "      <th>Orientation</th>\n",
       "      <th>Glazing Area</th>\n",
       "      <th>Glazing Area Distribution</th>\n",
       "      <th>Heating Load</th>\n",
       "      <th>Cooling Load</th>\n",
       "      <th>3</th>\n",
       "      <th>4</th>\n",
       "      <th>5</th>\n",
       "      <th>1</th>\n",
       "      <th>2</th>\n",
       "      <th>3</th>\n",
       "      <th>4</th>\n",
       "      <th>5</th>\n",
       "    </tr>\n",
       "  </thead>\n",
       "  <tbody>\n",
       "    <tr>\n",
       "      <th>0</th>\n",
       "      <td>0.98</td>\n",
       "      <td>514.5</td>\n",
       "      <td>294.0</td>\n",
       "      <td>110.25</td>\n",
       "      <td>7.0</td>\n",
       "      <td>2</td>\n",
       "      <td>0.0</td>\n",
       "      <td>0</td>\n",
       "      <td>15.55</td>\n",
       "      <td>21.33</td>\n",
       "      <td>0</td>\n",
       "      <td>0</td>\n",
       "      <td>0</td>\n",
       "      <td>0</td>\n",
       "      <td>0</td>\n",
       "      <td>0</td>\n",
       "      <td>0</td>\n",
       "      <td>0</td>\n",
       "    </tr>\n",
       "    <tr>\n",
       "      <th>1</th>\n",
       "      <td>0.98</td>\n",
       "      <td>514.5</td>\n",
       "      <td>294.0</td>\n",
       "      <td>110.25</td>\n",
       "      <td>7.0</td>\n",
       "      <td>3</td>\n",
       "      <td>0.0</td>\n",
       "      <td>0</td>\n",
       "      <td>15.55</td>\n",
       "      <td>21.33</td>\n",
       "      <td>1</td>\n",
       "      <td>0</td>\n",
       "      <td>0</td>\n",
       "      <td>0</td>\n",
       "      <td>0</td>\n",
       "      <td>0</td>\n",
       "      <td>0</td>\n",
       "      <td>0</td>\n",
       "    </tr>\n",
       "    <tr>\n",
       "      <th>2</th>\n",
       "      <td>0.98</td>\n",
       "      <td>514.5</td>\n",
       "      <td>294.0</td>\n",
       "      <td>110.25</td>\n",
       "      <td>7.0</td>\n",
       "      <td>4</td>\n",
       "      <td>0.0</td>\n",
       "      <td>0</td>\n",
       "      <td>15.55</td>\n",
       "      <td>21.33</td>\n",
       "      <td>0</td>\n",
       "      <td>1</td>\n",
       "      <td>0</td>\n",
       "      <td>0</td>\n",
       "      <td>0</td>\n",
       "      <td>0</td>\n",
       "      <td>0</td>\n",
       "      <td>0</td>\n",
       "    </tr>\n",
       "    <tr>\n",
       "      <th>3</th>\n",
       "      <td>0.98</td>\n",
       "      <td>514.5</td>\n",
       "      <td>294.0</td>\n",
       "      <td>110.25</td>\n",
       "      <td>7.0</td>\n",
       "      <td>5</td>\n",
       "      <td>0.0</td>\n",
       "      <td>0</td>\n",
       "      <td>15.55</td>\n",
       "      <td>21.33</td>\n",
       "      <td>0</td>\n",
       "      <td>0</td>\n",
       "      <td>1</td>\n",
       "      <td>0</td>\n",
       "      <td>0</td>\n",
       "      <td>0</td>\n",
       "      <td>0</td>\n",
       "      <td>0</td>\n",
       "    </tr>\n",
       "    <tr>\n",
       "      <th>4</th>\n",
       "      <td>0.90</td>\n",
       "      <td>563.5</td>\n",
       "      <td>318.5</td>\n",
       "      <td>122.50</td>\n",
       "      <td>7.0</td>\n",
       "      <td>2</td>\n",
       "      <td>0.0</td>\n",
       "      <td>0</td>\n",
       "      <td>20.84</td>\n",
       "      <td>28.28</td>\n",
       "      <td>0</td>\n",
       "      <td>0</td>\n",
       "      <td>0</td>\n",
       "      <td>0</td>\n",
       "      <td>0</td>\n",
       "      <td>0</td>\n",
       "      <td>0</td>\n",
       "      <td>0</td>\n",
       "    </tr>\n",
       "  </tbody>\n",
       "</table>\n",
       "</div>"
      ],
      "text/plain": [
       "   Relative Compactness  Surface Area  Wall Area  Roof Area  Overall Height  \\\n",
       "0                  0.98         514.5      294.0     110.25             7.0   \n",
       "1                  0.98         514.5      294.0     110.25             7.0   \n",
       "2                  0.98         514.5      294.0     110.25             7.0   \n",
       "3                  0.98         514.5      294.0     110.25             7.0   \n",
       "4                  0.90         563.5      318.5     122.50             7.0   \n",
       "\n",
       "   Orientation  Glazing Area  Glazing Area Distribution  Heating Load  \\\n",
       "0            2           0.0                          0         15.55   \n",
       "1            3           0.0                          0         15.55   \n",
       "2            4           0.0                          0         15.55   \n",
       "3            5           0.0                          0         15.55   \n",
       "4            2           0.0                          0         20.84   \n",
       "\n",
       "   Cooling Load  3  4  5  1  2  3  4  5  \n",
       "0         21.33  0  0  0  0  0  0  0  0  \n",
       "1         21.33  1  0  0  0  0  0  0  0  \n",
       "2         21.33  0  1  0  0  0  0  0  0  \n",
       "3         21.33  0  0  1  0  0  0  0  0  \n",
       "4         28.28  0  0  0  0  0  0  0  0  "
      ]
     },
     "execution_count": 48,
     "metadata": {},
     "output_type": "execute_result"
    }
   ],
   "source": [
    "data_encode.head()"
   ]
  },
  {
   "cell_type": "markdown",
   "metadata": {},
   "source": [
    "<h2>Melihat korelasi antar variabel"
   ]
  },
  {
   "cell_type": "code",
   "execution_count": 49,
   "metadata": {},
   "outputs": [
    {
     "data": {
      "text/plain": [
       "<matplotlib.axes._subplots.AxesSubplot at 0x80c7e11b88>"
      ]
     },
     "execution_count": 49,
     "metadata": {},
     "output_type": "execute_result"
    },
    {
     "data": {
      "image/png": "[encoded data removed]",
      "text/plain": [
       "<Figure size 1080x720 with 2 Axes>"
      ]
     },
     "metadata": {
      "needs_background": "light"
     },
     "output_type": "display_data"
    }
   ],
   "source": [
    "corrmat=data.corr()\n",
    "plt.figure(figsize=(15, 10))\n",
    "sns.heatmap(data.corr(), annot=True)"
   ]
  },
  {
   "cell_type": "code",
   "execution_count": 50,
   "metadata": {},
   "outputs": [
    {
     "data": {
      "text/plain": [
       "<matplotlib.axes._subplots.AxesSubplot at 0x80bcb23388>"
      ]
     },
     "execution_count": 50,
     "metadata": {},
     "output_type": "execute_result"
    },
    {
     "data": {
      "image/png": "[encoded data removed]",
      "text/plain": [
       "<Figure size 1080x720 with 2 Axes>"
      ]
     },
     "metadata": {
      "needs_background": "light"
     },
     "output_type": "display_data"
    }
   ],
   "source": [
    "corrmat=data.corr(method='spearman')\n",
    "plt.figure(figsize=(15, 10))\n",
    "sns.heatmap(data.corr(), annot=True)\n",
    "#sepertinya orientation dan glazing area distribution tidak terlalu berpengaruh bagi heating load dan cooling load\n",
    "#menggunakan correlasi pearson (linear)"
   ]
  },
  {
   "cell_type": "code",
   "execution_count": 51,
   "metadata": {},
   "outputs": [
    {
     "data": {
      "text/plain": [
       "<matplotlib.axes._subplots.AxesSubplot at 0x80bc6986c8>"
      ]
     },
     "execution_count": 51,
     "metadata": {},
     "output_type": "execute_result"
    },
    {
     "data": {
      "image/png": "[encoded data removed]",
      "text/plain": [
       "<Figure size 1080x720 with 2 Axes>"
      ]
     },
     "metadata": {
      "needs_background": "light"
     },
     "output_type": "display_data"
    }
   ],
   "source": [
    "corrmat=data_encode.corr(method='spearman')\n",
    "plt.figure(figsize=(15, 10))\n",
    "sns.heatmap(data_encode.corr(), annot=True)"
   ]
  },
  {
   "cell_type": "markdown",
   "metadata": {},
   "source": [
    "Kesimpulan sementara yang didapat :\n",
    "- Tidak ada data yang bernilai null\n",
    "- Tidak ada outliers pada data\n",
    "- Data orientation dan glazing area distribution kurang berpengaruh terhadap heating load dan cooling load\n",
    "- Data yang digunakan kurang beragam dan terlalu normal, kami memperkiakan bangunan yang disurvey merupakan bangunan sejenis"
   ]
  },
  {
   "cell_type": "markdown",
   "metadata": {},
   "source": [
    "<h1>Data Preprocessing"
   ]
  },
  {
   "cell_type": "markdown",
   "metadata": {},
   "source": [
    "<h2>Variabel Input (x) dan output (y)"
   ]
  },
  {
   "cell_type": "markdown",
   "metadata": {},
   "source": [
    "<h3> untuk data yang belum distandarisasi"
   ]
  },
  {
   "cell_type": "code",
   "execution_count": 52,
   "metadata": {},
   "outputs": [],
   "source": [
    "X = data.drop([ \"Orientation\", \"Glazing Area Distribution\", \"Heating Load\", \"Cooling Load\"], axis=1)\n",
    "Y = data.drop([\"Relative Compactness\", \"Surface Area\", \"Wall Area\", \"Roof Area\",\n",
    "               \"Overall Height\", \"Orientation\", \"Glazing Area\", \"Glazing Area Distribution\"], axis=1)"
   ]
  },
  {
   "cell_type": "code",
   "execution_count": 53,
   "metadata": {},
   "outputs": [
    {
     "data": {
      "text/html": [
       "<div>\n",
       "<style scoped>\n",
       "    .dataframe tbody tr th:only-of-type {\n",
       "        vertical-align: middle;\n",
       "    }\n",
       "\n",
       "    .dataframe tbody tr th {\n",
       "        vertical-align: top;\n",
       "    }\n",
       "\n",
       "    .dataframe thead th {\n",
       "        text-align: right;\n",
       "    }\n",
       "</style>\n",
       "<table border=\"1\" class=\"dataframe\">\n",
       "  <thead>\n",
       "    <tr style=\"text-align: right;\">\n",
       "      <th></th>\n",
       "      <th>Heating Load</th>\n",
       "      <th>Cooling Load</th>\n",
       "    </tr>\n",
       "  </thead>\n",
       "  <tbody>\n",
       "    <tr>\n",
       "      <th>0</th>\n",
       "      <td>15.55</td>\n",
       "      <td>21.33</td>\n",
       "    </tr>\n",
       "    <tr>\n",
       "      <th>1</th>\n",
       "      <td>15.55</td>\n",
       "      <td>21.33</td>\n",
       "    </tr>\n",
       "    <tr>\n",
       "      <th>2</th>\n",
       "      <td>15.55</td>\n",
       "      <td>21.33</td>\n",
       "    </tr>\n",
       "    <tr>\n",
       "      <th>3</th>\n",
       "      <td>15.55</td>\n",
       "      <td>21.33</td>\n",
       "    </tr>\n",
       "    <tr>\n",
       "      <th>4</th>\n",
       "      <td>20.84</td>\n",
       "      <td>28.28</td>\n",
       "    </tr>\n",
       "  </tbody>\n",
       "</table>\n",
       "</div>"
      ],
      "text/plain": [
       "   Heating Load  Cooling Load\n",
       "0         15.55         21.33\n",
       "1         15.55         21.33\n",
       "2         15.55         21.33\n",
       "3         15.55         21.33\n",
       "4         20.84         28.28"
      ]
     },
     "execution_count": 53,
     "metadata": {},
     "output_type": "execute_result"
    }
   ],
   "source": [
    "Y.head()"
   ]
  },
  {
   "cell_type": "code",
   "execution_count": 54,
   "metadata": {},
   "outputs": [],
   "source": [
    "X_train, X_test , Y_train, Y_test = train_test_split(X,Y, test_size= 0.3, random_state = None)"
   ]
  },
  {
   "cell_type": "markdown",
   "metadata": {},
   "source": [
    "<h3> untuk data yang distandarisasi"
   ]
  },
  {
   "cell_type": "code",
   "execution_count": 55,
   "metadata": {},
   "outputs": [],
   "source": [
    "scaler = StandardScaler()"
   ]
  },
  {
   "cell_type": "code",
   "execution_count": 56,
   "metadata": {},
   "outputs": [],
   "source": [
    "x_train = scaler.fit_transform(X_train)\n",
    "y_train = scaler.fit_transform(Y_train)\n",
    "x_test = scaler.fit_transform(X_test)\n",
    "y_test = scaler.fit_transform(Y_test)"
   ]
  },
  {
   "cell_type": "markdown",
   "metadata": {},
   "source": [
    "<h1> Model"
   ]
  },
  {
   "cell_type": "markdown",
   "metadata": {},
   "source": [
    "<h2> Menggunakan K-Neirest Neighbors - Regression"
   ]
  },
  {
   "cell_type": "code",
   "execution_count": 57,
   "metadata": {},
   "outputs": [
    {
     "data": {
      "text/plain": [
       "RangeIndex(start=0, stop=768, step=1)"
      ]
     },
     "execution_count": 57,
     "metadata": {},
     "output_type": "execute_result"
    }
   ],
   "source": [
    "X.index"
   ]
  },
  {
   "cell_type": "code",
   "execution_count": 58,
   "metadata": {},
   "outputs": [],
   "source": [
    "k= round(sqrt(len(X_train.index)/2))"
   ]
  },
  {
   "cell_type": "code",
   "execution_count": 59,
   "metadata": {},
   "outputs": [
    {
     "data": {
      "text/plain": [
       "16"
      ]
     },
     "execution_count": 59,
     "metadata": {},
     "output_type": "execute_result"
    }
   ],
   "source": [
    "k"
   ]
  },
  {
   "cell_type": "code",
   "execution_count": 60,
   "metadata": {},
   "outputs": [],
   "source": [
    "neigh = KNeighborsRegressor(k)"
   ]
  },
  {
   "cell_type": "code",
   "execution_count": 61,
   "metadata": {},
   "outputs": [
    {
     "data": {
      "text/plain": [
       "KNeighborsRegressor(algorithm='auto', leaf_size=30, metric='minkowski',\n",
       "                    metric_params=None, n_jobs=None, n_neighbors=16, p=2,\n",
       "                    weights='uniform')"
      ]
     },
     "execution_count": 61,
     "metadata": {},
     "output_type": "execute_result"
    }
   ],
   "source": [
    "neigh.fit(x_train, y_train)"
   ]
  },
  {
   "cell_type": "code",
   "execution_count": 62,
   "metadata": {},
   "outputs": [],
   "source": [
    "y_pred_knn = neigh.predict(x_test)"
   ]
  },
  {
   "cell_type": "code",
   "execution_count": 63,
   "metadata": {},
   "outputs": [
    {
     "data": {
      "text/plain": [
       "array([[-0.91753791, -0.8919247 ],\n",
       "       [-1.10350179, -1.09264252],\n",
       "       [ 0.9472802 ,  0.87452349],\n",
       "       [ 0.22389553,  0.32709932],\n",
       "       [ 1.73250896,  1.55131375],\n",
       "       [ 0.67616509,  0.74298927],\n",
       "       [-0.94442128, -0.95401254],\n",
       "       [ 0.59557664,  0.53629262],\n",
       "       [ 1.25600736,  1.27609053],\n",
       "       [ 1.73250896,  1.55131375],\n",
       "       [ 0.22389553,  0.32709932],\n",
       "       [-0.79329481, -0.70539839],\n",
       "       [ 1.70223434,  1.6928346 ],\n",
       "       [-1.10350179, -1.09264252],\n",
       "       [-0.96618695, -0.96583879],\n",
       "       [-1.05429782, -1.06090874],\n",
       "       [ 1.25600736,  1.27609053],\n",
       "       [ 0.79461224,  0.6516643 ],\n",
       "       [ 1.25600736,  1.27609053],\n",
       "       [-0.79329481, -0.70539839],\n",
       "       [ 0.10624994,  0.11514656],\n",
       "       [-0.74470743, -0.93062284],\n",
       "       [-0.80809299, -0.82011306],\n",
       "       [-0.97981361, -0.99993783],\n",
       "       [ 1.25958359,  1.25237232],\n",
       "       [ 0.90960648,  0.94167034],\n",
       "       [ 1.01128235,  1.05500528],\n",
       "       [ 1.26075511,  1.19337245],\n",
       "       [-0.79329481, -0.70539839],\n",
       "       [-0.88923638, -1.0031572 ],\n",
       "       [-0.97981361, -0.99993783],\n",
       "       [ 0.67616509,  0.74298927],\n",
       "       [ 1.78633736,  1.71865525],\n",
       "       [ 0.22389553,  0.32709932],\n",
       "       [-0.9143933 , -0.72753977],\n",
       "       [ 0.94481383,  0.88240766],\n",
       "       [-0.51262254, -0.42301372],\n",
       "       [ 0.39721928,  0.40364147],\n",
       "       [-1.09690426, -1.09310243],\n",
       "       [ 1.26075511,  1.19337245],\n",
       "       [ 1.25958359,  1.25237232],\n",
       "       [-0.78157957, -0.8034249 ],\n",
       "       [ 0.94481383,  0.88240766],\n",
       "       [ 1.26075511,  1.19337245],\n",
       "       [-0.74470743, -0.93062284],\n",
       "       [-0.79329481, -0.70539839],\n",
       "       [-0.33282458, -0.28582917],\n",
       "       [ 1.73250896,  1.55131375],\n",
       "       [ 0.22389553,  0.32709932],\n",
       "       [ 0.90960648,  0.94167034],\n",
       "       [-1.34183891, -1.24625243],\n",
       "       [-0.96618695, -0.96583879],\n",
       "       [ 0.61234792,  0.7213735 ],\n",
       "       [-0.91753791, -0.8919247 ],\n",
       "       [-0.51262254, -0.42301372],\n",
       "       [-0.78157957, -0.8034249 ],\n",
       "       [ 1.73250896,  1.55131375],\n",
       "       [ 1.78633736,  1.71865525],\n",
       "       [-0.91753791, -0.8919247 ],\n",
       "       [ 0.94481383,  0.88240766],\n",
       "       [ 0.22389553,  0.32709932],\n",
       "       [-0.78157957, -0.8034249 ],\n",
       "       [-1.09690426, -1.09310243],\n",
       "       [ 0.22389553,  0.32709932],\n",
       "       [-0.91753791, -0.8919247 ],\n",
       "       [-1.10350179, -1.09264252],\n",
       "       [ 0.90960648,  0.94167034],\n",
       "       [ 0.39721928,  0.40364147],\n",
       "       [ 1.73250896,  1.55131375],\n",
       "       [ 0.59557664,  0.53629262],\n",
       "       [ 1.26075511,  1.19337245],\n",
       "       [ 0.61234792,  0.7213735 ],\n",
       "       [ 1.26075511,  1.19337245],\n",
       "       [-0.88923638, -1.0031572 ],\n",
       "       [ 0.10624994,  0.11514656],\n",
       "       [ 0.67616509,  0.74298927],\n",
       "       [ 0.94481383,  0.88240766],\n",
       "       [-0.70129941, -0.68043185],\n",
       "       [ 1.25958359,  1.25237232],\n",
       "       [-0.80809299, -0.82011306],\n",
       "       [-0.77140582, -0.81137477],\n",
       "       [-0.51471895, -0.73010212],\n",
       "       [-0.74470743, -0.93062284],\n",
       "       [ 0.10624994,  0.11514656],\n",
       "       [ 0.33617676,  0.35824179],\n",
       "       [-0.97981361, -0.99993783],\n",
       "       [ 1.26075511,  1.19337245],\n",
       "       [-0.94442128, -0.95401254],\n",
       "       [-0.33282458, -0.28582917],\n",
       "       [ 0.10624994,  0.11514656],\n",
       "       [ 0.79461224,  0.6516643 ],\n",
       "       [-0.77140582, -0.81137477],\n",
       "       [-1.09690426, -1.09310243],\n",
       "       [ 0.96133848,  1.06564891],\n",
       "       [ 0.61234792,  0.7213735 ],\n",
       "       [ 0.61234792,  0.7213735 ],\n",
       "       [ 0.61234792,  0.7213735 ],\n",
       "       [ 1.01128235,  1.05500528],\n",
       "       [ 0.79461224,  0.6516643 ],\n",
       "       [ 1.26075511,  1.19337245],\n",
       "       [-0.96618695, -0.96583879],\n",
       "       [ 0.79461224,  0.6516643 ],\n",
       "       [ 0.94481383,  0.88240766],\n",
       "       [ 1.26075511,  1.19337245],\n",
       "       [-1.27740514, -1.20466343],\n",
       "       [-0.78157957, -0.8034249 ],\n",
       "       [ 1.25958359,  1.25237232],\n",
       "       [ 1.26075511,  1.19337245],\n",
       "       [ 0.9472802 ,  0.87452349],\n",
       "       [-0.96618695, -0.96583879],\n",
       "       [-1.05429782, -1.06090874],\n",
       "       [-0.77140582, -0.81137477],\n",
       "       [-0.51471895, -0.73010212],\n",
       "       [ 1.25958359,  1.25237232],\n",
       "       [-0.78157957, -0.8034249 ],\n",
       "       [ 0.79461224,  0.6516643 ],\n",
       "       [ 1.25958359,  1.25237232],\n",
       "       [ 0.90960648,  0.94167034],\n",
       "       [-1.16768892, -1.14559786],\n",
       "       [-0.88923638, -1.0031572 ],\n",
       "       [-0.78157957, -0.8034249 ],\n",
       "       [ 0.9472802 ,  0.87452349],\n",
       "       [ 0.79461224,  0.6516643 ],\n",
       "       [-0.97981361, -0.99993783],\n",
       "       [ 0.59557664,  0.53629262],\n",
       "       [ 0.39721928,  0.40364147],\n",
       "       [-0.94442128, -0.95401254],\n",
       "       [ 0.22389553,  0.32709932],\n",
       "       [-0.77140582, -0.81137477],\n",
       "       [-0.51262254, -0.42301372],\n",
       "       [-0.33282458, -0.28582917],\n",
       "       [-1.09690426, -1.09310243],\n",
       "       [-1.10350179, -1.09264252],\n",
       "       [-0.79329481, -0.70539839],\n",
       "       [ 0.4166419 ,  0.43609796],\n",
       "       [ 1.78633736,  1.71865525],\n",
       "       [ 1.26075511,  1.19337245],\n",
       "       [-0.51471895, -0.73010212],\n",
       "       [ 1.78633736,  1.71865525],\n",
       "       [ 0.22389553,  0.32709932],\n",
       "       [ 1.70223434,  1.6928346 ],\n",
       "       [-1.05429782, -1.06090874],\n",
       "       [-1.10350179, -1.09264252],\n",
       "       [-0.80809299, -0.82011306],\n",
       "       [-1.09690426, -1.09310243],\n",
       "       [-0.70129941, -0.68043185],\n",
       "       [-0.88923638, -1.0031572 ],\n",
       "       [ 0.10624994,  0.11514656],\n",
       "       [ 1.78633736,  1.71865525],\n",
       "       [ 0.9472802 ,  0.87452349],\n",
       "       [-1.09690426, -1.09310243],\n",
       "       [-0.79329481, -0.70539839],\n",
       "       [-0.94442128, -0.95401254],\n",
       "       [ 0.61234792,  0.7213735 ],\n",
       "       [-1.10350179, -1.09264252],\n",
       "       [-0.79329481, -0.70539839],\n",
       "       [ 1.78633736,  1.71865525],\n",
       "       [-1.09690426, -1.09310243],\n",
       "       [ 1.25600736,  1.27609053],\n",
       "       [ 0.59557664,  0.53629262],\n",
       "       [ 0.39721928,  0.40364147],\n",
       "       [-0.51471895, -0.73010212],\n",
       "       [ 1.70223434,  1.6928346 ],\n",
       "       [ 0.10624994,  0.11514656],\n",
       "       [ 0.79461224,  0.6516643 ],\n",
       "       [ 0.4166419 ,  0.43609796],\n",
       "       [-0.33282458, -0.28582917],\n",
       "       [-1.09690426, -1.09310243],\n",
       "       [-0.03932721,  0.15377899],\n",
       "       [-0.91753791, -0.8919247 ],\n",
       "       [ 0.39721928,  0.40364147],\n",
       "       [-0.51471895, -0.73010212],\n",
       "       [-1.10350179, -1.09264252],\n",
       "       [-0.70129941, -0.68043185],\n",
       "       [ 0.61234792,  0.7213735 ],\n",
       "       [ 0.59557664,  0.53629262],\n",
       "       [ 0.9472802 ,  0.87452349],\n",
       "       [ 0.4166419 ,  0.43609796],\n",
       "       [-1.09690426, -1.09310243],\n",
       "       [-0.70129941, -0.68043185],\n",
       "       [ 1.26075511,  1.19337245],\n",
       "       [-0.80809299, -0.82011306],\n",
       "       [-0.77140582, -0.81137477],\n",
       "       [ 1.25600736,  1.27609053],\n",
       "       [-0.80809299, -0.82011306],\n",
       "       [-0.78157957, -0.8034249 ],\n",
       "       [-0.77140582, -0.81137477],\n",
       "       [-1.16768892, -1.14559786],\n",
       "       [-1.04011622, -1.05972611],\n",
       "       [-0.51262254, -0.42301372],\n",
       "       [ 0.90960648,  0.94167034],\n",
       "       [-0.79329481, -0.70539839],\n",
       "       [ 0.94481383,  0.88240766],\n",
       "       [-0.91753791, -0.8919247 ],\n",
       "       [ 0.79461224,  0.6516643 ],\n",
       "       [-0.79329481, -0.70539839],\n",
       "       [ 0.90960648,  0.94167034],\n",
       "       [ 0.90960648,  0.94167034],\n",
       "       [-1.05429782, -1.06090874],\n",
       "       [-0.97981361, -0.99993783],\n",
       "       [ 0.22389553,  0.32709932],\n",
       "       [-0.96618695, -0.96583879],\n",
       "       [ 0.33617676,  0.35824179],\n",
       "       [ 0.61234792,  0.7213735 ],\n",
       "       [ 1.25600736,  1.27609053],\n",
       "       [ 0.39721928,  0.40364147],\n",
       "       [ 1.70223434,  1.6928346 ],\n",
       "       [-0.88923638, -1.0031572 ],\n",
       "       [-0.78157957, -0.8034249 ],\n",
       "       [-1.23619219, -1.10013248],\n",
       "       [ 0.90960648,  0.94167034],\n",
       "       [-0.88923638, -1.0031572 ],\n",
       "       [ 0.9472802 ,  0.87452349],\n",
       "       [ 0.67616509,  0.74298927],\n",
       "       [ 0.67616509,  0.74298927],\n",
       "       [ 0.4166419 ,  0.43609796],\n",
       "       [ 1.25958359,  1.25237232],\n",
       "       [-0.70129941, -0.68043185],\n",
       "       [-0.78157957, -0.8034249 ],\n",
       "       [ 0.79461224,  0.6516643 ],\n",
       "       [-0.77140582, -0.81137477],\n",
       "       [-0.74470743, -0.93062284],\n",
       "       [-0.80809299, -0.82011306],\n",
       "       [-0.78157957, -0.8034249 ],\n",
       "       [-1.05429782, -1.06090874],\n",
       "       [ 0.85904601,  0.9585556 ],\n",
       "       [-0.51471895, -0.73010212],\n",
       "       [-0.74470743, -0.93062284],\n",
       "       [ 0.96133848,  1.06564891],\n",
       "       [ 0.94481383,  0.88240766],\n",
       "       [-1.09690426, -1.09310243]])"
      ]
     },
     "execution_count": 63,
     "metadata": {},
     "output_type": "execute_result"
    }
   ],
   "source": [
    "y_pred_knn"
   ]
  },
  {
   "cell_type": "code",
   "execution_count": 64,
   "metadata": {},
   "outputs": [],
   "source": [
    "Y_pred_knn = scaler.inverse_transform(y_pred_knn)"
   ]
  },
  {
   "cell_type": "code",
   "execution_count": 65,
   "metadata": {},
   "outputs": [
    {
     "data": {
      "text/plain": [
       "array([[13.50054727, 16.51477867],\n",
       "       [11.64976928, 14.61140088],\n",
       "       [32.05987404, 33.26574933],\n",
       "       [24.86049493, 28.0746057 ],\n",
       "       [39.87474729, 39.68365265],\n",
       "       [29.36164101, 32.01842941],\n",
       "       [13.23299448, 15.92600878],\n",
       "       [28.5595963 , 30.05835526],\n",
       "       [35.13243551, 37.07375099],\n",
       "       [39.87474729, 39.68365265],\n",
       "       [24.86049493, 28.0746057 ],\n",
       "       [14.73705842, 18.28358049],\n",
       "       [39.57344358, 41.02567418],\n",
       "       [11.64976928, 14.61140088],\n",
       "       [13.01637491, 15.81386214],\n",
       "       [12.13946451, 14.91232771],\n",
       "       [35.13243551, 37.07375099],\n",
       "       [30.54046877, 31.15240809],\n",
       "       [35.13243551, 37.07375099],\n",
       "       [14.73705842, 18.28358049],\n",
       "       [23.68964467, 26.0646886 ],\n",
       "       [15.22061713, 16.14780993],\n",
       "       [14.58978166, 17.19575803],\n",
       "       [12.88075756, 15.49050597],\n",
       "       [35.1680274 , 36.84883466],\n",
       "       [31.68493195, 33.90249306],\n",
       "       [32.69684604, 34.97723175],\n",
       "       [35.17968681, 36.2893475 ],\n",
       "       [14.73705842, 18.28358049],\n",
       "       [13.78221408, 15.45997717],\n",
       "       [12.88075756, 15.49050597],\n",
       "       [29.36164101, 32.01842941],\n",
       "       [40.41046651, 41.27052769],\n",
       "       [24.86049493, 28.0746057 ],\n",
       "       [13.53184358, 18.07361705],\n",
       "       [32.03532791, 33.34051376],\n",
       "       [17.5304077 , 20.96139318],\n",
       "       [26.58547402, 28.80044371],\n",
       "       [11.71543017, 14.60703962],\n",
       "       [35.17968681, 36.2893475 ],\n",
       "       [35.1680274 , 36.84883466],\n",
       "       [14.85365253, 17.3540094 ],\n",
       "       [32.03532791, 33.34051376],\n",
       "       [35.17968681, 36.2893475 ],\n",
       "       [15.22061713, 16.14780993],\n",
       "       [14.73705842, 18.28358049],\n",
       "       [19.31982037, 22.26229427],\n",
       "       [39.87474729, 39.68365265],\n",
       "       [24.86049493, 28.0746057 ],\n",
       "       [31.68493195, 33.90249306],\n",
       "       [ 9.27775427, 13.15474056],\n",
       "       [13.01637491, 15.81386214],\n",
       "       [28.72650997, 31.81345026],\n",
       "       [13.50054727, 16.51477867],\n",
       "       [17.5304077 , 20.96139318],\n",
       "       [14.85365253, 17.3540094 ],\n",
       "       [39.87474729, 39.68365265],\n",
       "       [40.41046651, 41.27052769],\n",
       "       [13.50054727, 16.51477867],\n",
       "       [32.03532791, 33.34051376],\n",
       "       [24.86049493, 28.0746057 ],\n",
       "       [14.85365253, 17.3540094 ],\n",
       "       [11.71543017, 14.60703962],\n",
       "       [24.86049493, 28.0746057 ],\n",
       "       [13.50054727, 16.51477867],\n",
       "       [11.64976928, 14.61140088],\n",
       "       [31.68493195, 33.90249306],\n",
       "       [26.58547402, 28.80044371],\n",
       "       [39.87474729, 39.68365265],\n",
       "       [28.5595963 , 30.05835526],\n",
       "       [35.17968681, 36.2893475 ],\n",
       "       [28.72650997, 31.81345026],\n",
       "       [35.17968681, 36.2893475 ],\n",
       "       [13.78221408, 15.45997717],\n",
       "       [23.68964467, 26.0646886 ],\n",
       "       [29.36164101, 32.01842941],\n",
       "       [32.03532791, 33.34051376],\n",
       "       [15.65262897, 18.52033452],\n",
       "       [35.1680274 , 36.84883466],\n",
       "       [14.58978166, 17.19575803],\n",
       "       [14.9549053 , 17.27862194],\n",
       "       [17.50954349, 18.04931861],\n",
       "       [15.22061713, 16.14780993],\n",
       "       [23.68964467, 26.0646886 ],\n",
       "       [25.97795738, 28.3699252 ],\n",
       "       [12.88075756, 15.49050597],\n",
       "       [35.17968681, 36.2893475 ],\n",
       "       [13.23299448, 15.92600878],\n",
       "       [19.31982037, 22.26229427],\n",
       "       [23.68964467, 26.0646886 ],\n",
       "       [30.54046877, 31.15240809],\n",
       "       [14.9549053 , 17.27862194],\n",
       "       [11.71543017, 14.60703962],\n",
       "       [32.19978697, 35.07816373],\n",
       "       [28.72650997, 31.81345026],\n",
       "       [28.72650997, 31.81345026],\n",
       "       [28.72650997, 31.81345026],\n",
       "       [32.69684604, 34.97723175],\n",
       "       [30.54046877, 31.15240809],\n",
       "       [35.17968681, 36.2893475 ],\n",
       "       [13.01637491, 15.81386214],\n",
       "       [30.54046877, 31.15240809],\n",
       "       [32.03532791, 33.34051376],\n",
       "       [35.17968681, 36.2893475 ],\n",
       "       [ 9.91902185, 13.54912293],\n",
       "       [14.85365253, 17.3540094 ],\n",
       "       [35.1680274 , 36.84883466],\n",
       "       [35.17968681, 36.2893475 ],\n",
       "       [32.05987404, 33.26574933],\n",
       "       [13.01637491, 15.81386214],\n",
       "       [12.13946451, 14.91232771],\n",
       "       [14.9549053 , 17.27862194],\n",
       "       [17.50954349, 18.04931861],\n",
       "       [35.1680274 , 36.84883466],\n",
       "       [14.85365253, 17.3540094 ],\n",
       "       [30.54046877, 31.15240809],\n",
       "       [35.1680274 , 36.84883466],\n",
       "       [31.68493195, 33.90249306],\n",
       "       [11.01095632, 14.10923312],\n",
       "       [13.78221408, 15.45997717],\n",
       "       [14.85365253, 17.3540094 ],\n",
       "       [32.05987404, 33.26574933],\n",
       "       [30.54046877, 31.15240809],\n",
       "       [12.88075756, 15.49050597],\n",
       "       [28.5595963 , 30.05835526],\n",
       "       [26.58547402, 28.80044371],\n",
       "       [13.23299448, 15.92600878],\n",
       "       [24.86049493, 28.0746057 ],\n",
       "       [14.9549053 , 17.27862194],\n",
       "       [17.5304077 , 20.96139318],\n",
       "       [19.31982037, 22.26229427],\n",
       "       [11.71543017, 14.60703962],\n",
       "       [11.64976928, 14.61140088],\n",
       "       [14.73705842, 18.28358049],\n",
       "       [26.77877478, 29.10822395],\n",
       "       [40.41046651, 41.27052769],\n",
       "       [35.17968681, 36.2893475 ],\n",
       "       [17.50954349, 18.04931861],\n",
       "       [40.41046651, 41.27052769],\n",
       "       [24.86049493, 28.0746057 ],\n",
       "       [39.57344358, 41.02567418],\n",
       "       [12.13946451, 14.91232771],\n",
       "       [11.64976928, 14.61140088],\n",
       "       [14.58978166, 17.19575803],\n",
       "       [11.71543017, 14.60703962],\n",
       "       [15.65262897, 18.52033452],\n",
       "       [13.78221408, 15.45997717],\n",
       "       [23.68964467, 26.0646886 ],\n",
       "       [40.41046651, 41.27052769],\n",
       "       [32.05987404, 33.26574933],\n",
       "       [11.71543017, 14.60703962],\n",
       "       [14.73705842, 18.28358049],\n",
       "       [13.23299448, 15.92600878],\n",
       "       [28.72650997, 31.81345026],\n",
       "       [11.64976928, 14.61140088],\n",
       "       [14.73705842, 18.28358049],\n",
       "       [40.41046651, 41.27052769],\n",
       "       [11.71543017, 14.60703962],\n",
       "       [35.13243551, 37.07375099],\n",
       "       [28.5595963 , 30.05835526],\n",
       "       [26.58547402, 28.80044371],\n",
       "       [17.50954349, 18.04931861],\n",
       "       [39.57344358, 41.02567418],\n",
       "       [23.68964467, 26.0646886 ],\n",
       "       [30.54046877, 31.15240809],\n",
       "       [26.77877478, 29.10822395],\n",
       "       [19.31982037, 22.26229427],\n",
       "       [11.71543017, 14.60703962],\n",
       "       [22.24080951, 26.4310343 ],\n",
       "       [13.50054727, 16.51477867],\n",
       "       [26.58547402, 28.80044371],\n",
       "       [17.50954349, 18.04931861],\n",
       "       [11.64976928, 14.61140088],\n",
       "       [15.65262897, 18.52033452],\n",
       "       [28.72650997, 31.81345026],\n",
       "       [28.5595963 , 30.05835526],\n",
       "       [32.05987404, 33.26574933],\n",
       "       [26.77877478, 29.10822395],\n",
       "       [11.71543017, 14.60703962],\n",
       "       [15.65262897, 18.52033452],\n",
       "       [35.17968681, 36.2893475 ],\n",
       "       [14.58978166, 17.19575803],\n",
       "       [14.9549053 , 17.27862194],\n",
       "       [35.13243551, 37.07375099],\n",
       "       [14.58978166, 17.19575803],\n",
       "       [14.85365253, 17.3540094 ],\n",
       "       [14.9549053 , 17.27862194],\n",
       "       [11.01095632, 14.10923312],\n",
       "       [12.28060475, 14.92354238],\n",
       "       [17.5304077 , 20.96139318],\n",
       "       [31.68493195, 33.90249306],\n",
       "       [14.73705842, 18.28358049],\n",
       "       [32.03532791, 33.34051376],\n",
       "       [13.50054727, 16.51477867],\n",
       "       [30.54046877, 31.15240809],\n",
       "       [14.73705842, 18.28358049],\n",
       "       [31.68493195, 33.90249306],\n",
       "       [31.68493195, 33.90249306],\n",
       "       [12.13946451, 14.91232771],\n",
       "       [12.88075756, 15.49050597],\n",
       "       [24.86049493, 28.0746057 ],\n",
       "       [13.01637491, 15.81386214],\n",
       "       [25.97795738, 28.3699252 ],\n",
       "       [28.72650997, 31.81345026],\n",
       "       [35.13243551, 37.07375099],\n",
       "       [26.58547402, 28.80044371],\n",
       "       [39.57344358, 41.02567418],\n",
       "       [13.78221408, 15.45997717],\n",
       "       [14.85365253, 17.3540094 ],\n",
       "       [10.32918763, 14.54037467],\n",
       "       [31.68493195, 33.90249306],\n",
       "       [13.78221408, 15.45997717],\n",
       "       [32.05987404, 33.26574933],\n",
       "       [29.36164101, 32.01842941],\n",
       "       [29.36164101, 32.01842941],\n",
       "       [26.77877478, 29.10822395],\n",
       "       [35.1680274 , 36.84883466],\n",
       "       [15.65262897, 18.52033452],\n",
       "       [14.85365253, 17.3540094 ],\n",
       "       [30.54046877, 31.15240809],\n",
       "       [14.9549053 , 17.27862194],\n",
       "       [15.22061713, 16.14780993],\n",
       "       [14.58978166, 17.19575803],\n",
       "       [14.85365253, 17.3540094 ],\n",
       "       [12.13946451, 14.91232771],\n",
       "       [31.18173634, 34.06261355],\n",
       "       [17.50954349, 18.04931861],\n",
       "       [15.22061713, 16.14780993],\n",
       "       [32.19978697, 35.07816373],\n",
       "       [32.03532791, 33.34051376],\n",
       "       [11.71543017, 14.60703962]])"
      ]
     },
     "execution_count": 65,
     "metadata": {},
     "output_type": "execute_result"
    }
   ],
   "source": [
    "Y_pred_knn"
   ]
  },
  {
   "cell_type": "code",
   "execution_count": 66,
   "metadata": {},
   "outputs": [
    {
     "name": "stderr",
     "output_type": "stream",
     "text": [
      "c:\\users\\dheny dwi prakoso\\appdata\\local\\programs\\python\\python37\\lib\\site-packages\\sklearn\\base.py:434: FutureWarning: The default value of multioutput (not exposed in score method) will change from 'variance_weighted' to 'uniform_average' in 0.23 to keep consistent with 'metrics.r2_score'. To specify the default value manually and avoid the warning, please either call 'metrics.r2_score' directly or make a custom scorer with 'metrics.make_scorer' (the built-in scorer 'r2' uses multioutput='uniform_average').\n",
      "  \"multioutput='uniform_average').\", FutureWarning)\n"
     ]
    },
    {
     "data": {
      "text/plain": [
       "0.9664185552325615"
      ]
     },
     "execution_count": 66,
     "metadata": {},
     "output_type": "execute_result"
    }
   ],
   "source": [
    "neigh.score(x_test, y_test)"
   ]
  },
  {
   "cell_type": "code",
   "execution_count": 67,
   "metadata": {},
   "outputs": [
    {
     "name": "stderr",
     "output_type": "stream",
     "text": [
      "c:\\users\\dheny dwi prakoso\\appdata\\local\\programs\\python\\python37\\lib\\site-packages\\sklearn\\base.py:434: FutureWarning: The default value of multioutput (not exposed in score method) will change from 'variance_weighted' to 'uniform_average' in 0.23 to keep consistent with 'metrics.r2_score'. To specify the default value manually and avoid the warning, please either call 'metrics.r2_score' directly or make a custom scorer with 'metrics.make_scorer' (the built-in scorer 'r2' uses multioutput='uniform_average').\n",
      "  \"multioutput='uniform_average').\", FutureWarning)\n"
     ]
    },
    {
     "data": {
      "text/plain": [
       "0.9667313256192961"
      ]
     },
     "execution_count": 67,
     "metadata": {},
     "output_type": "execute_result"
    }
   ],
   "source": [
    "neigh.score(x_train, y_train)"
   ]
  },
  {
   "cell_type": "code",
   "execution_count": 68,
   "metadata": {},
   "outputs": [
    {
     "data": {
      "text/plain": [
       "0.9664185552325615"
      ]
     },
     "execution_count": 68,
     "metadata": {},
     "output_type": "execute_result"
    }
   ],
   "source": [
    "r2_score(y_test, y_pred_knn)"
   ]
  },
  {
   "cell_type": "code",
   "execution_count": 69,
   "metadata": {},
   "outputs": [
    {
     "data": {
      "text/plain": [
       "0.9664185552325615"
      ]
     },
     "execution_count": 69,
     "metadata": {},
     "output_type": "execute_result"
    }
   ],
   "source": [
    "r2_score(Y_test, Y_pred_knn)"
   ]
  },
  {
   "cell_type": "markdown",
   "metadata": {},
   "source": [
    "<h2> Menggunakan Random Forest Regressor"
   ]
  },
  {
   "cell_type": "code",
   "execution_count": 70,
   "metadata": {},
   "outputs": [],
   "source": [
    "regressor = RandomForestRegressor(n_estimators=16)"
   ]
  },
  {
   "cell_type": "code",
   "execution_count": 71,
   "metadata": {},
   "outputs": [
    {
     "data": {
      "text/plain": [
       "RandomForestRegressor(bootstrap=True, ccp_alpha=0.0, criterion='mse',\n",
       "                      max_depth=None, max_features='auto', max_leaf_nodes=None,\n",
       "                      max_samples=None, min_impurity_decrease=0.0,\n",
       "                      min_impurity_split=None, min_samples_leaf=1,\n",
       "                      min_samples_split=2, min_weight_fraction_leaf=0.0,\n",
       "                      n_estimators=16, n_jobs=None, oob_score=False,\n",
       "                      random_state=None, verbose=0, warm_start=False)"
      ]
     },
     "execution_count": 71,
     "metadata": {},
     "output_type": "execute_result"
    }
   ],
   "source": [
    "regressor.fit(X_train, Y_train)"
   ]
  },
  {
   "cell_type": "code",
   "execution_count": 72,
   "metadata": {},
   "outputs": [],
   "source": [
    "Y_pred_rf = regressor.predict(X_test)"
   ]
  },
  {
   "cell_type": "code",
   "execution_count": 73,
   "metadata": {},
   "outputs": [
    {
     "name": "stderr",
     "output_type": "stream",
     "text": [
      "c:\\users\\dheny dwi prakoso\\appdata\\local\\programs\\python\\python37\\lib\\site-packages\\sklearn\\base.py:434: FutureWarning: The default value of multioutput (not exposed in score method) will change from 'variance_weighted' to 'uniform_average' in 0.23 to keep consistent with 'metrics.r2_score'. To specify the default value manually and avoid the warning, please either call 'metrics.r2_score' directly or make a custom scorer with 'metrics.make_scorer' (the built-in scorer 'r2' uses multioutput='uniform_average').\n",
      "  \"multioutput='uniform_average').\", FutureWarning)\n"
     ]
    },
    {
     "data": {
      "text/plain": [
       "0.9843174560806645"
      ]
     },
     "execution_count": 73,
     "metadata": {},
     "output_type": "execute_result"
    }
   ],
   "source": [
    "regressor.score(X_test, Y_test)"
   ]
  },
  {
   "cell_type": "code",
   "execution_count": 74,
   "metadata": {},
   "outputs": [
    {
     "name": "stderr",
     "output_type": "stream",
     "text": [
      "c:\\users\\dheny dwi prakoso\\appdata\\local\\programs\\python\\python37\\lib\\site-packages\\sklearn\\base.py:434: FutureWarning: The default value of multioutput (not exposed in score method) will change from 'variance_weighted' to 'uniform_average' in 0.23 to keep consistent with 'metrics.r2_score'. To specify the default value manually and avoid the warning, please either call 'metrics.r2_score' directly or make a custom scorer with 'metrics.make_scorer' (the built-in scorer 'r2' uses multioutput='uniform_average').\n",
      "  \"multioutput='uniform_average').\", FutureWarning)\n"
     ]
    },
    {
     "data": {
      "text/plain": [
       "0.9857430618839612"
      ]
     },
     "execution_count": 74,
     "metadata": {},
     "output_type": "execute_result"
    }
   ],
   "source": [
    "regressor.score(X_train, Y_train)"
   ]
  },
  {
   "cell_type": "code",
   "execution_count": 75,
   "metadata": {},
   "outputs": [
    {
     "data": {
      "text/plain": [
       "0.9836286540638438"
      ]
     },
     "execution_count": 75,
     "metadata": {},
     "output_type": "execute_result"
    }
   ],
   "source": [
    "r2_score(Y_test, Y_pred_rf)"
   ]
  },
  {
   "cell_type": "code",
   "execution_count": 76,
   "metadata": {},
   "outputs": [
    {
     "data": {
      "text/plain": [
       "array([[12.96841226, 16.04069697],\n",
       "       [10.98655332, 14.03065476],\n",
       "       [32.10906268, 32.80162029],\n",
       "       [23.63264341, 26.62525403],\n",
       "       [40.01743303, 39.46356171],\n",
       "       [29.18204842, 31.66988288],\n",
       "       [12.60204026, 15.37080865],\n",
       "       [28.45934675, 29.73784278],\n",
       "       [36.5066768 , 37.95114917],\n",
       "       [40.01743303, 39.46356171],\n",
       "       [23.63264341, 26.62525403],\n",
       "       [15.30261914, 19.27765977],\n",
       "       [39.37511559, 40.81179929],\n",
       "       [10.98655332, 14.03065476],\n",
       "       [12.41039955, 15.23250324],\n",
       "       [11.50759409, 14.32471068],\n",
       "       [36.5066768 , 37.95114917],\n",
       "       [29.30228651, 30.38374822],\n",
       "       [36.5066768 , 37.95114917],\n",
       "       [15.30261914, 19.27765977],\n",
       "       [24.33241258, 26.12176072],\n",
       "       [14.44573311, 15.22534738],\n",
       "       [13.87781645, 16.49515449],\n",
       "       [12.25794703, 14.96064358],\n",
       "       [35.7083506 , 36.99996846],\n",
       "       [32.72033281, 34.03361893],\n",
       "       [32.42505429, 34.55486646],\n",
       "       [36.59984108, 37.02858774],\n",
       "       [15.30261914, 19.27765977],\n",
       "       [12.83916793, 14.2662659 ],\n",
       "       [12.25794703, 14.96064358],\n",
       "       [29.18204842, 31.66988288],\n",
       "       [41.97211919, 41.8248664 ],\n",
       "       [23.63264341, 26.62525403],\n",
       "       [10.53190327, 16.47270387],\n",
       "       [32.5278274 , 33.53260377],\n",
       "       [16.9795454 , 20.40255965],\n",
       "       [25.65544413, 28.29650753],\n",
       "       [11.26780647, 14.00752776],\n",
       "       [36.59984108, 37.02858774],\n",
       "       [35.7083506 , 36.99996846],\n",
       "       [14.30007626, 16.78639478],\n",
       "       [32.5278274 , 33.53260377],\n",
       "       [36.59984108, 37.02858774],\n",
       "       [14.44573311, 15.22534738],\n",
       "       [15.30261914, 19.27765977],\n",
       "       [18.75084921, 21.60992457],\n",
       "       [40.01743303, 39.46356171],\n",
       "       [23.63264341, 26.62525403],\n",
       "       [32.72033281, 34.03361893],\n",
       "       [ 6.07520833, 11.13833333],\n",
       "       [12.41039955, 15.23250324],\n",
       "       [28.91472683, 31.63769247],\n",
       "       [12.96841226, 16.04069697],\n",
       "       [16.9795454 , 20.40255965],\n",
       "       [14.30007626, 16.78639478],\n",
       "       [40.01743303, 39.46356171],\n",
       "       [41.97211919, 41.8248664 ],\n",
       "       [12.96841226, 16.04069697],\n",
       "       [32.5278274 , 33.53260377],\n",
       "       [23.63264341, 26.62525403],\n",
       "       [14.30007626, 16.78639478],\n",
       "       [11.26780647, 14.00752776],\n",
       "       [23.63264341, 26.62525403],\n",
       "       [12.96841226, 16.04069697],\n",
       "       [10.98655332, 14.03065476],\n",
       "       [32.72033281, 34.03361893],\n",
       "       [25.65544413, 28.29650753],\n",
       "       [40.01743303, 39.46356171],\n",
       "       [28.45934675, 29.73784278],\n",
       "       [36.59984108, 37.02858774],\n",
       "       [28.91472683, 31.63769247],\n",
       "       [36.59984108, 37.02858774],\n",
       "       [12.83916793, 14.2662659 ],\n",
       "       [24.33241258, 26.12176072],\n",
       "       [29.18204842, 31.66988288],\n",
       "       [32.5278274 , 33.53260377],\n",
       "       [15.13362935, 18.00228542],\n",
       "       [35.7083506 , 36.99996846],\n",
       "       [13.87781645, 16.49515449],\n",
       "       [14.44227841, 16.64540536],\n",
       "       [16.63388863, 16.85172863],\n",
       "       [14.44573311, 15.22534738],\n",
       "       [24.33241258, 26.12176072],\n",
       "       [19.16929167, 24.93059375],\n",
       "       [12.25794703, 14.96064358],\n",
       "       [36.59984108, 37.02858774],\n",
       "       [12.60204026, 15.37080865],\n",
       "       [18.75084921, 21.60992457],\n",
       "       [24.33241258, 26.12176072],\n",
       "       [29.30228651, 30.38374822],\n",
       "       [14.44227841, 16.64540536],\n",
       "       [11.26780647, 14.00752776],\n",
       "       [29.80924851, 35.29362351],\n",
       "       [19.96208333, 24.56760417],\n",
       "       [28.91472683, 31.63769247],\n",
       "       [19.96208333, 24.56760417],\n",
       "       [32.42505429, 34.55486646],\n",
       "       [29.30228651, 30.38374822],\n",
       "       [36.59984108, 37.02858774],\n",
       "       [12.41039955, 15.23250324],\n",
       "       [29.30228651, 30.38374822],\n",
       "       [32.5278274 , 33.53260377],\n",
       "       [36.59984108, 37.02858774],\n",
       "       [ 6.815     , 11.91552083],\n",
       "       [14.30007626, 16.78639478],\n",
       "       [35.7083506 , 36.99996846],\n",
       "       [36.59984108, 37.02858774],\n",
       "       [32.10906268, 32.80162029],\n",
       "       [12.41039955, 15.23250324],\n",
       "       [11.50759409, 14.32471068],\n",
       "       [14.44227841, 16.64540536],\n",
       "       [16.63388863, 16.85172863],\n",
       "       [35.7083506 , 36.99996846],\n",
       "       [14.30007626, 16.78639478],\n",
       "       [29.30228651, 30.38374822],\n",
       "       [35.7083506 , 36.99996846],\n",
       "       [32.72033281, 34.03361893],\n",
       "       [10.32170627, 13.53216205],\n",
       "       [12.83916793, 14.2662659 ],\n",
       "       [14.30007626, 16.78639478],\n",
       "       [32.10906268, 32.80162029],\n",
       "       [29.30228651, 30.38374822],\n",
       "       [12.25794703, 14.96064358],\n",
       "       [28.45934675, 29.73784278],\n",
       "       [25.65544413, 28.29650753],\n",
       "       [12.60204026, 15.37080865],\n",
       "       [23.63264341, 26.62525403],\n",
       "       [14.44227841, 16.64540536],\n",
       "       [16.9795454 , 20.40255965],\n",
       "       [18.75084921, 21.60992457],\n",
       "       [11.26780647, 14.00752776],\n",
       "       [10.98655332, 14.03065476],\n",
       "       [15.30261914, 19.27765977],\n",
       "       [26.35511224, 28.62027524],\n",
       "       [41.97211919, 41.8248664 ],\n",
       "       [36.59984108, 37.02858774],\n",
       "       [16.63388863, 16.85172863],\n",
       "       [41.97211919, 41.8248664 ],\n",
       "       [23.63264341, 26.62525403],\n",
       "       [39.37511559, 40.81179929],\n",
       "       [11.50759409, 14.32471068],\n",
       "       [10.98655332, 14.03065476],\n",
       "       [13.87781645, 16.49515449],\n",
       "       [11.26780647, 14.00752776],\n",
       "       [15.13362935, 18.00228542],\n",
       "       [12.83916793, 14.2662659 ],\n",
       "       [24.33241258, 26.12176072],\n",
       "       [41.97211919, 41.8248664 ],\n",
       "       [32.10906268, 32.80162029],\n",
       "       [11.26780647, 14.00752776],\n",
       "       [15.30261914, 19.27765977],\n",
       "       [12.60204026, 15.37080865],\n",
       "       [28.91472683, 31.63769247],\n",
       "       [10.98655332, 14.03065476],\n",
       "       [15.30261914, 19.27765977],\n",
       "       [41.97211919, 41.8248664 ],\n",
       "       [11.26780647, 14.00752776],\n",
       "       [36.5066768 , 37.95114917],\n",
       "       [28.45934675, 29.73784278],\n",
       "       [25.65544413, 28.29650753],\n",
       "       [16.63388863, 16.85172863],\n",
       "       [39.37511559, 40.81179929],\n",
       "       [24.33241258, 26.12176072],\n",
       "       [29.30228651, 30.38374822],\n",
       "       [26.35511224, 28.62027524],\n",
       "       [18.75084921, 21.60992457],\n",
       "       [11.26780647, 14.00752776],\n",
       "       [16.59775446, 23.46701042],\n",
       "       [12.96841226, 16.04069697],\n",
       "       [25.65544413, 28.29650753],\n",
       "       [16.63388863, 16.85172863],\n",
       "       [10.98655332, 14.03065476],\n",
       "       [15.13362935, 18.00228542],\n",
       "       [28.91472683, 31.63769247],\n",
       "       [28.45934675, 29.73784278],\n",
       "       [32.10906268, 32.80162029],\n",
       "       [26.35511224, 28.62027524],\n",
       "       [11.26780647, 14.00752776],\n",
       "       [15.13362935, 18.00228542],\n",
       "       [36.59984108, 37.02858774],\n",
       "       [13.87781645, 16.49515449],\n",
       "       [14.44227841, 16.64540536],\n",
       "       [36.5066768 , 37.95114917],\n",
       "       [13.87781645, 16.49515449],\n",
       "       [14.30007626, 16.78639478],\n",
       "       [14.44227841, 16.64540536],\n",
       "       [10.32170627, 13.53216205],\n",
       "       [ 8.8056875 , 12.25021875],\n",
       "       [16.9795454 , 20.40255965],\n",
       "       [32.72033281, 34.03361893],\n",
       "       [15.30261914, 19.27765977],\n",
       "       [32.5278274 , 33.53260377],\n",
       "       [12.96841226, 16.04069697],\n",
       "       [29.30228651, 30.38374822],\n",
       "       [15.30261914, 19.27765977],\n",
       "       [32.72033281, 34.03361893],\n",
       "       [32.72033281, 34.03361893],\n",
       "       [11.50759409, 14.32471068],\n",
       "       [12.25794703, 14.96064358],\n",
       "       [23.63264341, 26.62525403],\n",
       "       [12.41039955, 15.23250324],\n",
       "       [19.16929167, 24.93059375],\n",
       "       [19.96208333, 24.56760417],\n",
       "       [36.5066768 , 37.95114917],\n",
       "       [25.65544413, 28.29650753],\n",
       "       [39.37511559, 40.81179929],\n",
       "       [12.83916793, 14.2662659 ],\n",
       "       [14.30007626, 16.78639478],\n",
       "       [ 7.10276786, 12.32129464],\n",
       "       [32.72033281, 34.03361893],\n",
       "       [12.83916793, 14.2662659 ],\n",
       "       [32.10906268, 32.80162029],\n",
       "       [29.18204842, 31.66988288],\n",
       "       [29.18204842, 31.66988288],\n",
       "       [26.35511224, 28.62027524],\n",
       "       [35.7083506 , 36.99996846],\n",
       "       [15.13362935, 18.00228542],\n",
       "       [14.30007626, 16.78639478],\n",
       "       [29.30228651, 30.38374822],\n",
       "       [14.44227841, 16.64540536],\n",
       "       [14.44573311, 15.22534738],\n",
       "       [13.87781645, 16.49515449],\n",
       "       [14.30007626, 16.78639478],\n",
       "       [11.50759409, 14.32471068],\n",
       "       [24.79475   , 29.94522569],\n",
       "       [16.63388863, 16.85172863],\n",
       "       [14.44573311, 15.22534738],\n",
       "       [29.80924851, 35.29362351],\n",
       "       [32.5278274 , 33.53260377],\n",
       "       [11.26780647, 14.00752776]])"
      ]
     },
     "execution_count": 76,
     "metadata": {},
     "output_type": "execute_result"
    }
   ],
   "source": [
    "Y_pred_rf"
   ]
  },
  {
   "cell_type": "markdown",
   "metadata": {},
   "source": [
    "<h2> Menggunakan ANN"
   ]
  },
  {
   "cell_type": "code",
   "execution_count": 77,
   "metadata": {},
   "outputs": [
    {
     "name": "stdout",
     "output_type": "stream",
     "text": [
      "Model: \"sequential\"\n",
      "_________________________________________________________________\n",
      "Layer (type)                 Output Shape              Param #   \n",
      "=================================================================\n",
      "input (Dense)                (None, 256)               1792      \n",
      "_________________________________________________________________\n",
      "hidden2 (Dense)              (None, 128)               32896     \n",
      "_________________________________________________________________\n",
      "hidden3 (Dense)              (None, 64)                8256      \n",
      "_________________________________________________________________\n",
      "hidden4 (Dense)              (None, 32)                2080      \n",
      "_________________________________________________________________\n",
      "output (Dense)               (None, 2)                 66        \n",
      "=================================================================\n",
      "Total params: 45,090\n",
      "Trainable params: 45,090\n",
      "Non-trainable params: 0\n",
      "_________________________________________________________________\n"
     ]
    }
   ],
   "source": [
    "model = Sequential([\n",
    "    Dense(256, activation='relu', input_shape=(6,), name='input'),\n",
    "    Dense(128, activation='relu', name='hidden2'),\n",
    "    Dense(64, activation='relu', name='hidden3'),\n",
    "    Dense(32, activation='relu', name='hidden4'),\n",
    "    Dense(2, activation='linear', name='output')\n",
    "])\n",
    "\n",
    "model.compile(loss='mean_squared_error', optimizer='adam')\n",
    "model.summary()"
   ]
  },
  {
   "cell_type": "code",
   "execution_count": 78,
   "metadata": {},
   "outputs": [
    {
     "name": "stdout",
     "output_type": "stream",
     "text": [
      "Train on 537 samples\n",
      "Epoch 1/100\n",
      "537/537 [==============================] - 2s 3ms/sample - loss: 0.4176\n",
      "Epoch 2/100\n",
      "537/537 [==============================] - 0s 131us/sample - loss: 0.1058\n",
      "Epoch 3/100\n",
      "537/537 [==============================] - 0s 86us/sample - loss: 0.0767\n",
      "Epoch 4/100\n",
      "537/537 [==============================] - 0s 88us/sample - loss: 0.0611\n",
      "Epoch 5/100\n",
      "537/537 [==============================] - 0s 80us/sample - loss: 0.0532\n",
      "Epoch 6/100\n",
      "537/537 [==============================] - 0s 62us/sample - loss: 0.0464\n",
      "Epoch 7/100\n",
      "537/537 [==============================] - 0s 60us/sample - loss: 0.0392\n",
      "Epoch 8/100\n",
      "537/537 [==============================] - 0s 58us/sample - loss: 0.0345\n",
      "Epoch 9/100\n",
      "537/537 [==============================] - 0s 60us/sample - loss: 0.0394\n",
      "Epoch 10/100\n",
      "537/537 [==============================] - 0s 58us/sample - loss: 0.0461\n",
      "Epoch 11/100\n",
      "537/537 [==============================] - 0s 60us/sample - loss: 0.0365\n",
      "Epoch 12/100\n",
      "537/537 [==============================] - 0s 65us/sample - loss: 0.0301\n",
      "Epoch 13/100\n",
      "537/537 [==============================] - 0s 61us/sample - loss: 0.0288\n",
      "Epoch 14/100\n",
      "537/537 [==============================] - 0s 62us/sample - loss: 0.0276\n",
      "Epoch 15/100\n",
      "537/537 [==============================] - 0s 60us/sample - loss: 0.0261\n",
      "Epoch 16/100\n",
      "537/537 [==============================] - 0s 61us/sample - loss: 0.0250\n",
      "Epoch 17/100\n",
      "537/537 [==============================] - 0s 61us/sample - loss: 0.0222\n",
      "Epoch 18/100\n",
      "537/537 [==============================] - 0s 61us/sample - loss: 0.0211\n",
      "Epoch 19/100\n",
      "537/537 [==============================] - 0s 61us/sample - loss: 0.0211\n",
      "Epoch 20/100\n",
      "537/537 [==============================] - 0s 63us/sample - loss: 0.0195\n",
      "Epoch 21/100\n",
      "537/537 [==============================] - 0s 61us/sample - loss: 0.0188\n",
      "Epoch 22/100\n",
      "537/537 [==============================] - 0s 61us/sample - loss: 0.0184\n",
      "Epoch 23/100\n",
      "537/537 [==============================] - 0s 61us/sample - loss: 0.0186\n",
      "Epoch 24/100\n",
      "537/537 [==============================] - 0s 61us/sample - loss: 0.0184\n",
      "Epoch 25/100\n",
      "537/537 [==============================] - 0s 61us/sample - loss: 0.0181\n",
      "Epoch 26/100\n",
      "537/537 [==============================] - 0s 61us/sample - loss: 0.0181\n",
      "Epoch 27/100\n",
      "537/537 [==============================] - 0s 64us/sample - loss: 0.0178\n",
      "Epoch 28/100\n",
      "537/537 [==============================] - 0s 60us/sample - loss: 0.0175\n",
      "Epoch 29/100\n",
      "537/537 [==============================] - 0s 60us/sample - loss: 0.0181\n",
      "Epoch 30/100\n",
      "537/537 [==============================] - 0s 60us/sample - loss: 0.0167\n",
      "Epoch 31/100\n",
      "537/537 [==============================] - 0s 62us/sample - loss: 0.0169\n",
      "Epoch 32/100\n",
      "537/537 [==============================] - 0s 62us/sample - loss: 0.0184\n",
      "Epoch 33/100\n",
      "537/537 [==============================] - 0s 60us/sample - loss: 0.0176\n",
      "Epoch 34/100\n",
      "537/537 [==============================] - 0s 62us/sample - loss: 0.0185\n",
      "Epoch 35/100\n",
      "537/537 [==============================] - 0s 69us/sample - loss: 0.0184\n",
      "Epoch 36/100\n",
      "537/537 [==============================] - 0s 62us/sample - loss: 0.0190\n",
      "Epoch 37/100\n",
      "537/537 [==============================] - 0s 64us/sample - loss: 0.0179\n",
      "Epoch 38/100\n",
      "537/537 [==============================] - 0s 60us/sample - loss: 0.0168\n",
      "Epoch 39/100\n",
      "537/537 [==============================] - 0s 60us/sample - loss: 0.0164\n",
      "Epoch 40/100\n",
      "537/537 [==============================] - 0s 60us/sample - loss: 0.0174\n",
      "Epoch 41/100\n",
      "537/537 [==============================] - 0s 63us/sample - loss: 0.0169\n",
      "Epoch 42/100\n",
      "537/537 [==============================] - 0s 63us/sample - loss: 0.0166\n",
      "Epoch 43/100\n",
      "537/537 [==============================] - 0s 65us/sample - loss: 0.0171\n",
      "Epoch 44/100\n",
      "537/537 [==============================] - 0s 62us/sample - loss: 0.0165\n",
      "Epoch 45/100\n",
      "537/537 [==============================] - 0s 62us/sample - loss: 0.0171\n",
      "Epoch 46/100\n",
      "537/537 [==============================] - 0s 67us/sample - loss: 0.0175\n",
      "Epoch 47/100\n",
      "537/537 [==============================] - 0s 65us/sample - loss: 0.0179\n",
      "Epoch 48/100\n",
      "537/537 [==============================] - 0s 60us/sample - loss: 0.0165\n",
      "Epoch 49/100\n",
      "537/537 [==============================] - 0s 60us/sample - loss: 0.0170\n",
      "Epoch 50/100\n",
      "537/537 [==============================] - 0s 62us/sample - loss: 0.0166\n",
      "Epoch 51/100\n",
      "537/537 [==============================] - 0s 62us/sample - loss: 0.0171\n",
      "Epoch 52/100\n",
      "537/537 [==============================] - 0s 69us/sample - loss: 0.0170\n",
      "Epoch 53/100\n",
      "537/537 [==============================] - 0s 64us/sample - loss: 0.0171\n",
      "Epoch 54/100\n",
      "537/537 [==============================] - 0s 67us/sample - loss: 0.0171\n",
      "Epoch 55/100\n",
      "537/537 [==============================] - 0s 62us/sample - loss: 0.0172\n",
      "Epoch 56/100\n",
      "537/537 [==============================] - 0s 75us/sample - loss: 0.0179\n",
      "Epoch 57/100\n",
      "537/537 [==============================] - 0s 62us/sample - loss: 0.0168\n",
      "Epoch 58/100\n",
      "537/537 [==============================] - 0s 62us/sample - loss: 0.0159\n",
      "Epoch 59/100\n",
      "537/537 [==============================] - 0s 63us/sample - loss: 0.0163\n",
      "Epoch 60/100\n",
      "537/537 [==============================] - 0s 63us/sample - loss: 0.0169\n",
      "Epoch 61/100\n",
      "537/537 [==============================] - 0s 63us/sample - loss: 0.0173\n",
      "Epoch 62/100\n",
      "537/537 [==============================] - 0s 63us/sample - loss: 0.0167\n",
      "Epoch 63/100\n",
      "537/537 [==============================] - 0s 74us/sample - loss: 0.0167\n",
      "Epoch 64/100\n",
      "537/537 [==============================] - 0s 77us/sample - loss: 0.0164\n",
      "Epoch 65/100\n",
      "537/537 [==============================] - 0s 88us/sample - loss: 0.0164\n",
      "Epoch 66/100\n",
      "537/537 [==============================] - 0s 84us/sample - loss: 0.0163\n",
      "Epoch 67/100\n",
      "537/537 [==============================] - 0s 87us/sample - loss: 0.0166\n",
      "Epoch 68/100\n",
      "537/537 [==============================] - 0s 83us/sample - loss: 0.0168\n",
      "Epoch 69/100\n",
      "537/537 [==============================] - 0s 85us/sample - loss: 0.0170\n",
      "Epoch 70/100\n",
      "537/537 [==============================] - 0s 77us/sample - loss: 0.0167\n",
      "Epoch 71/100\n",
      "537/537 [==============================] - 0s 93us/sample - loss: 0.0167\n",
      "Epoch 72/100\n",
      "537/537 [==============================] - 0s 73us/sample - loss: 0.0167\n",
      "Epoch 73/100\n",
      "537/537 [==============================] - 0s 73us/sample - loss: 0.0165\n",
      "Epoch 74/100\n",
      "537/537 [==============================] - 0s 73us/sample - loss: 0.0168\n",
      "Epoch 75/100\n",
      "537/537 [==============================] - 0s 74us/sample - loss: 0.0190\n",
      "Epoch 76/100\n",
      "537/537 [==============================] - 0s 71us/sample - loss: 0.0173\n",
      "Epoch 77/100\n",
      "537/537 [==============================] - 0s 71us/sample - loss: 0.0164\n",
      "Epoch 78/100\n",
      "537/537 [==============================] - 0s 77us/sample - loss: 0.0176\n",
      "Epoch 79/100\n",
      "537/537 [==============================] - 0s 71us/sample - loss: 0.0174\n",
      "Epoch 80/100\n",
      "537/537 [==============================] - 0s 75us/sample - loss: 0.0168\n",
      "Epoch 81/100\n",
      "537/537 [==============================] - 0s 71us/sample - loss: 0.0169\n",
      "Epoch 82/100\n",
      "537/537 [==============================] - 0s 69us/sample - loss: 0.0162\n",
      "Epoch 83/100\n",
      "537/537 [==============================] - 0s 73us/sample - loss: 0.0166\n",
      "Epoch 84/100\n",
      "537/537 [==============================] - 0s 69us/sample - loss: 0.0172\n",
      "Epoch 85/100\n",
      "537/537 [==============================] - 0s 77us/sample - loss: 0.0160\n",
      "Epoch 86/100\n",
      "537/537 [==============================] - 0s 77us/sample - loss: 0.0171\n",
      "Epoch 87/100\n",
      "537/537 [==============================] - 0s 73us/sample - loss: 0.0175\n",
      "Epoch 88/100\n",
      "537/537 [==============================] - 0s 71us/sample - loss: 0.0169\n",
      "Epoch 89/100\n",
      "537/537 [==============================] - 0s 69us/sample - loss: 0.0170\n",
      "Epoch 90/100\n",
      "537/537 [==============================] - 0s 71us/sample - loss: 0.0162\n",
      "Epoch 91/100\n",
      "537/537 [==============================] - 0s 69us/sample - loss: 0.0179\n",
      "Epoch 92/100\n",
      "537/537 [==============================] - 0s 75us/sample - loss: 0.0187\n",
      "Epoch 93/100\n",
      "537/537 [==============================] - 0s 73us/sample - loss: 0.0163\n",
      "Epoch 94/100\n",
      "537/537 [==============================] - 0s 69us/sample - loss: 0.0173\n",
      "Epoch 95/100\n",
      "537/537 [==============================] - 0s 70us/sample - loss: 0.0172\n",
      "Epoch 96/100\n",
      "537/537 [==============================] - 0s 73us/sample - loss: 0.0165\n",
      "Epoch 97/100\n",
      "537/537 [==============================] - 0s 71us/sample - loss: 0.0167\n",
      "Epoch 98/100\n",
      "537/537 [==============================] - 0s 69us/sample - loss: 0.0179\n",
      "Epoch 99/100\n",
      "537/537 [==============================] - 0s 71us/sample - loss: 0.0167\n",
      "Epoch 100/100\n",
      "537/537 [==============================] - 0s 69us/sample - loss: 0.0173\n"
     ]
    },
    {
     "data": {
      "text/plain": [
       "<tensorflow.python.keras.callbacks.History at 0x80c6a68348>"
      ]
     },
     "execution_count": 78,
     "metadata": {},
     "output_type": "execute_result"
    }
   ],
   "source": [
    "model.fit(x_train, y_train, epochs=100)"
   ]
  },
  {
   "cell_type": "code",
   "execution_count": 79,
   "metadata": {},
   "outputs": [],
   "source": [
    "y_ann = model.predict(x_test)"
   ]
  },
  {
   "cell_type": "code",
   "execution_count": 80,
   "metadata": {},
   "outputs": [],
   "source": [
    "Y_ann = scaler.inverse_transform(y_ann)"
   ]
  },
  {
   "cell_type": "code",
   "execution_count": 81,
   "metadata": {},
   "outputs": [
    {
     "data": {
      "text/plain": [
       "0.9779139384532913"
      ]
     },
     "execution_count": 81,
     "metadata": {},
     "output_type": "execute_result"
    }
   ],
   "source": [
    "r2_score(y_test, y_ann)"
   ]
  },
  {
   "cell_type": "code",
   "execution_count": 82,
   "metadata": {},
   "outputs": [
    {
     "data": {
      "text/plain": [
       "0.9779139388255654"
      ]
     },
     "execution_count": 82,
     "metadata": {},
     "output_type": "execute_result"
    }
   ],
   "source": [
    "r2_score(Y_test, Y_ann)"
   ]
  },
  {
   "cell_type": "markdown",
   "metadata": {},
   "source": [
    "<h1> Kesimpulan"
   ]
  },
  {
   "cell_type": "markdown",
   "metadata": {},
   "source": [
    "Score dari model KNN : 0.94 <br>\n",
    "Score dari model Random Forest : 0.98 <br>\n",
    "Score dari ANN : 0.97 <br>\n",
    "Berdasarkan score dari  model-model tersebut, Random Forest merupakan model terbaik dibanding model lain yang diuji\n",
    "untuk memprediksi load"
   ]
  },
  {
   "cell_type": "markdown",
   "metadata": {},
   "source": [
    "<h2> Save model Random Forest Regressor"
   ]
  },
  {
   "cell_type": "code",
   "execution_count": 83,
   "metadata": {},
   "outputs": [],
   "source": [
    "import joblib"
   ]
  },
  {
   "cell_type": "code",
   "execution_count": 84,
   "metadata": {},
   "outputs": [
    {
     "data": {
      "text/plain": [
       "['model_random_forest.sav']"
      ]
     },
     "execution_count": 84,
     "metadata": {},
     "output_type": "execute_result"
    }
   ],
   "source": [
    "filename = 'model_random_forest.sav'\n",
    "joblib.dump(regressor, filename)"
   ]
  },
  {
   "cell_type": "markdown",
   "metadata": {},
   "source": [
    "coret-coret"
   ]
  },
  {
   "cell_type": "code",
   "execution_count": 85,
   "metadata": {},
   "outputs": [],
   "source": [
    "loaded_model = joblib.load('model_random_forest.sav')"
   ]
  },
  {
   "cell_type": "code",
   "execution_count": 86,
   "metadata": {},
   "outputs": [
    {
     "data": {
      "text/html": [
       "<div>\n",
       "<style scoped>\n",
       "    .dataframe tbody tr th:only-of-type {\n",
       "        vertical-align: middle;\n",
       "    }\n",
       "\n",
       "    .dataframe tbody tr th {\n",
       "        vertical-align: top;\n",
       "    }\n",
       "\n",
       "    .dataframe thead th {\n",
       "        text-align: right;\n",
       "    }\n",
       "</style>\n",
       "<table border=\"1\" class=\"dataframe\">\n",
       "  <thead>\n",
       "    <tr style=\"text-align: right;\">\n",
       "      <th></th>\n",
       "      <th>Relative Compactness</th>\n",
       "      <th>Surface Area</th>\n",
       "      <th>Wall Area</th>\n",
       "      <th>Roof Area</th>\n",
       "      <th>Overall Height</th>\n",
       "      <th>Glazing Area</th>\n",
       "    </tr>\n",
       "  </thead>\n",
       "  <tbody>\n",
       "    <tr>\n",
       "      <th>280</th>\n",
       "      <td>0.64</td>\n",
       "      <td>784.0</td>\n",
       "      <td>343.0</td>\n",
       "      <td>220.50</td>\n",
       "      <td>3.5</td>\n",
       "      <td>0.10</td>\n",
       "    </tr>\n",
       "    <tr>\n",
       "      <th>84</th>\n",
       "      <td>0.66</td>\n",
       "      <td>759.5</td>\n",
       "      <td>318.5</td>\n",
       "      <td>220.50</td>\n",
       "      <td>3.5</td>\n",
       "      <td>0.10</td>\n",
       "    </tr>\n",
       "    <tr>\n",
       "      <th>398</th>\n",
       "      <td>0.82</td>\n",
       "      <td>612.5</td>\n",
       "      <td>318.5</td>\n",
       "      <td>147.00</td>\n",
       "      <td>7.0</td>\n",
       "      <td>0.25</td>\n",
       "    </tr>\n",
       "    <tr>\n",
       "      <th>339</th>\n",
       "      <td>0.98</td>\n",
       "      <td>514.5</td>\n",
       "      <td>294.0</td>\n",
       "      <td>110.25</td>\n",
       "      <td>7.0</td>\n",
       "      <td>0.25</td>\n",
       "    </tr>\n",
       "    <tr>\n",
       "      <th>539</th>\n",
       "      <td>0.86</td>\n",
       "      <td>588.0</td>\n",
       "      <td>294.0</td>\n",
       "      <td>147.00</td>\n",
       "      <td>7.0</td>\n",
       "      <td>0.40</td>\n",
       "    </tr>\n",
       "    <tr>\n",
       "      <th>...</th>\n",
       "      <td>...</td>\n",
       "      <td>...</td>\n",
       "      <td>...</td>\n",
       "      <td>...</td>\n",
       "      <td>...</td>\n",
       "      <td>...</td>\n",
       "    </tr>\n",
       "    <tr>\n",
       "      <th>175</th>\n",
       "      <td>0.71</td>\n",
       "      <td>710.5</td>\n",
       "      <td>269.5</td>\n",
       "      <td>220.50</td>\n",
       "      <td>3.5</td>\n",
       "      <td>0.10</td>\n",
       "    </tr>\n",
       "    <tr>\n",
       "      <th>29</th>\n",
       "      <td>0.71</td>\n",
       "      <td>710.5</td>\n",
       "      <td>269.5</td>\n",
       "      <td>220.50</td>\n",
       "      <td>3.5</td>\n",
       "      <td>0.00</td>\n",
       "    </tr>\n",
       "    <tr>\n",
       "      <th>333</th>\n",
       "      <td>0.62</td>\n",
       "      <td>808.5</td>\n",
       "      <td>367.5</td>\n",
       "      <td>220.50</td>\n",
       "      <td>3.5</td>\n",
       "      <td>0.25</td>\n",
       "    </tr>\n",
       "    <tr>\n",
       "      <th>367</th>\n",
       "      <td>0.71</td>\n",
       "      <td>710.5</td>\n",
       "      <td>269.5</td>\n",
       "      <td>220.50</td>\n",
       "      <td>3.5</td>\n",
       "      <td>0.25</td>\n",
       "    </tr>\n",
       "    <tr>\n",
       "      <th>360</th>\n",
       "      <td>0.74</td>\n",
       "      <td>686.0</td>\n",
       "      <td>245.0</td>\n",
       "      <td>220.50</td>\n",
       "      <td>3.5</td>\n",
       "      <td>0.25</td>\n",
       "    </tr>\n",
       "  </tbody>\n",
       "</table>\n",
       "<p>537 rows × 6 columns</p>\n",
       "</div>"
      ],
      "text/plain": [
       "     Relative Compactness  Surface Area  Wall Area  Roof Area  Overall Height  \\\n",
       "280                  0.64         784.0      343.0     220.50             3.5   \n",
       "84                   0.66         759.5      318.5     220.50             3.5   \n",
       "398                  0.82         612.5      318.5     147.00             7.0   \n",
       "339                  0.98         514.5      294.0     110.25             7.0   \n",
       "539                  0.86         588.0      294.0     147.00             7.0   \n",
       "..                    ...           ...        ...        ...             ...   \n",
       "175                  0.71         710.5      269.5     220.50             3.5   \n",
       "29                   0.71         710.5      269.5     220.50             3.5   \n",
       "333                  0.62         808.5      367.5     220.50             3.5   \n",
       "367                  0.71         710.5      269.5     220.50             3.5   \n",
       "360                  0.74         686.0      245.0     220.50             3.5   \n",
       "\n",
       "     Glazing Area  \n",
       "280          0.10  \n",
       "84           0.10  \n",
       "398          0.25  \n",
       "339          0.25  \n",
       "539          0.40  \n",
       "..            ...  \n",
       "175          0.10  \n",
       "29           0.00  \n",
       "333          0.25  \n",
       "367          0.25  \n",
       "360          0.25  \n",
       "\n",
       "[537 rows x 6 columns]"
      ]
     },
     "execution_count": 86,
     "metadata": {},
     "output_type": "execute_result"
    }
   ],
   "source": [
    "X_train"
   ]
  },
  {
   "cell_type": "code",
   "execution_count": 87,
   "metadata": {},
   "outputs": [],
   "source": [
    "dummy = {0 : [0.5],\n",
    "         1 : [780],\n",
    "         2 : [318],\n",
    "         3 : [100], \n",
    "         4 : [3], \n",
    "         5 : [0.25]}"
   ]
  },
  {
   "cell_type": "code",
   "execution_count": 88,
   "metadata": {},
   "outputs": [],
   "source": [
    "dummy = pd.DataFrame(dummy, columns=(0,1,2,3,4,5))"
   ]
  },
  {
   "cell_type": "code",
   "execution_count": 89,
   "metadata": {},
   "outputs": [
    {
     "data": {
      "text/html": [
       "<div>\n",
       "<style scoped>\n",
       "    .dataframe tbody tr th:only-of-type {\n",
       "        vertical-align: middle;\n",
       "    }\n",
       "\n",
       "    .dataframe tbody tr th {\n",
       "        vertical-align: top;\n",
       "    }\n",
       "\n",
       "    .dataframe thead th {\n",
       "        text-align: right;\n",
       "    }\n",
       "</style>\n",
       "<table border=\"1\" class=\"dataframe\">\n",
       "  <thead>\n",
       "    <tr style=\"text-align: right;\">\n",
       "      <th></th>\n",
       "      <th>0</th>\n",
       "      <th>1</th>\n",
       "      <th>2</th>\n",
       "      <th>3</th>\n",
       "      <th>4</th>\n",
       "      <th>5</th>\n",
       "    </tr>\n",
       "  </thead>\n",
       "  <tbody>\n",
       "    <tr>\n",
       "      <th>0</th>\n",
       "      <td>0.5</td>\n",
       "      <td>780</td>\n",
       "      <td>318</td>\n",
       "      <td>100</td>\n",
       "      <td>3</td>\n",
       "      <td>0.25</td>\n",
       "    </tr>\n",
       "  </tbody>\n",
       "</table>\n",
       "</div>"
      ],
      "text/plain": [
       "     0    1    2    3  4     5\n",
       "0  0.5  780  318  100  3  0.25"
      ]
     },
     "execution_count": 89,
     "metadata": {},
     "output_type": "execute_result"
    }
   ],
   "source": [
    "dummy"
   ]
  },
  {
   "cell_type": "code",
   "execution_count": 90,
   "metadata": {},
   "outputs": [],
   "source": [
    "hasil = loaded_model.predict(dummy)"
   ]
  },
  {
   "cell_type": "code",
   "execution_count": 91,
   "metadata": {},
   "outputs": [],
   "source": [
    "hasil = pd.DataFrame(hasil)"
   ]
  },
  {
   "cell_type": "code",
   "execution_count": 92,
   "metadata": {},
   "outputs": [],
   "source": [
    "x =hasil[1].to_numpy()"
   ]
  },
  {
   "cell_type": "code",
   "execution_count": 93,
   "metadata": {},
   "outputs": [
    {
     "data": {
      "text/plain": [
       "array([18.59113405])"
      ]
     },
     "execution_count": 93,
     "metadata": {},
     "output_type": "execute_result"
    }
   ],
   "source": [
    "x"
   ]
  },
  {
   "cell_type": "code",
   "execution_count": 94,
   "metadata": {},
   "outputs": [
    {
     "data": {
      "text/plain": [
       "18.5911340451384"
      ]
     },
     "execution_count": 94,
     "metadata": {},
     "output_type": "execute_result"
    }
   ],
   "source": [
    "x[0]"
   ]
  },
  {
   "cell_type": "code",
   "execution_count": null,
   "metadata": {},
   "outputs": [],
   "source": []
  }
 ],
 "metadata": {
  "kernelspec": {
   "display_name": "Python 3",
   "language": "python",
   "name": "python3"
  },
  "language_info": {
   "codemirror_mode": {
    "name": "ipython",
    "version": 3
   },
   "file_extension": ".py",
   "mimetype": "text/x-python",
   "name": "python",
   "nbconvert_exporter": "python",
   "pygments_lexer": "ipython3",
   "version": "3.7.7"
  }
 },
 "nbformat": 4,
 "nbformat_minor": 4
}
